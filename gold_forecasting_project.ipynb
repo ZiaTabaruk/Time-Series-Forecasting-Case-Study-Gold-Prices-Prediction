{
  "cells": [
    {
      "cell_type": "markdown",
      "metadata": {
        "id": "ns4iGZkVhVra"
      },
      "source": [
        "# **Time-Series Forecasting**\n",
        "#### *Case Study: Gold Prices Prediction*\n",
        "\n",
        "##### Data Scientist:\n",
        "1. Zacharia Bachtiar\n",
        "2. Zia Tabaruq\n",
        "3. Fachmi Aditya"
      ]
    },
    {
      "cell_type": "markdown",
      "metadata": {
        "id": "QKBIvr5PhVrd"
      },
      "source": [
        "## **Business Problem Understanding**\n",
        "### **Context**\n",
        "Perusahaan melacak harga emas bulanan, yang berfluktuasi berdasarkan berbagai faktor ekonomi, tren pasar, dan peristiwa geopolitik. Emas adalah aset investasi dan cadangan yang signifikan bagi banyak industri, pemerintah, dan investor. Perkiraan harga emas yang akurat sangat penting untuk perencanaan keuangan, strategi investasi, dan manajemen risiko.\n",
        "\n",
        "### **Problem Statement**\n",
        "Perusahaan perlu memprediksi harga emas di masa depan dengan menggunakan data historis bulanan. Tujuannya adalah untuk mengimplementasikan dan menyetel model peramalan deret waktu (ARIMA, SARIMA, dan Prophet) untuk mencapai prediksi yang paling akurat. Dengan membandingkan kinerja model-model ini, perusahaan bertujuan untuk memilih model yang paling efektif untuk meramalkan harga emas di masa depan.\n",
        "\n",
        "### **Goals**\n",
        "- Memprediksi harga emas bulanan untuk periode mendatang berdasarkan data historis.\n",
        "- Bandingkan akurasi peramalan model ARIMA, SARIMA, dan Prophet.\n",
        "- Gunakan tuning hyperparameter untuk mengoptimalkan setiap model untuk performa yang lebih baik.\n",
        "\n",
        "### **Analytic Approach**\n",
        "1. **Data Preparation**: Siapkan data harga emas historis dengan mengatur Tanggal sebagai indeks dan Harga sebagai variabel target.\n",
        "2. **Model Selection**:\n",
        "   - Menerapkan model ARIMA, SARIMA, dan Prophet.\n",
        "   - Melakukan tuning hiperparameter menggunakan validasi silang deret waktu untuk setiap model.\n",
        "3. **Forecasting**: Menghasilkan prakiraan harga di masa depan dengan menggunakan model yang telah dilatih.\n",
        "4. **Comparison**: Bandingkan hasil perkiraan berdasarkan metrik RMSE.\n",
        "\n",
        "### **Metric Evaluation**\n",
        "- **Root Mean Squared Error (RMSE)**: Metrik ini akan digunakan untuk mengevaluasi akurasi peramalan. RMSE yang lebih rendah mengindikasikan model yang lebih akurat. Tujuannya adalah untuk meminimalkan RMSE dan memilih model dengan performa peramalan terbaik untuk harga emas."
      ]
    },
    {
      "cell_type": "markdown",
      "metadata": {
        "id": "6pCXpQgRhVre"
      },
      "source": [
        "## **Data Understanding**"
      ]
    },
    {
      "cell_type": "code",
      "execution_count": 1,
      "metadata": {
        "id": "4PJMWPa3hVrf"
      },
      "outputs": [],
      "source": [
        "import pandas as pd\n",
        "import numpy as np\n",
        "import matplotlib.pyplot as plt\n",
        "import seaborn as sns\n",
        "\n",
        "import plotly.graph_objects as go\n",
        "\n",
        "from statsmodels.tsa.arima.model import ARIMA\n",
        "from statsmodels.tsa.statespace.sarimax import SARIMAX\n",
        "from prophet import Prophet\n",
        "\n",
        "from sklearn.metrics import mean_squared_error, root_mean_squared_error, mean_absolute_error\n",
        "import warnings\n",
        "\n",
        "# Suppress warnings for cleaner output\n",
        "warnings.filterwarnings(\"ignore\")"
      ]
    },
    {
      "cell_type": "code",
      "execution_count": 2,
      "metadata": {
        "colab": {
          "base_uri": "https://localhost:8080/"
        },
        "id": "FnATx4JMhVrg",
        "outputId": "5686a1bd-a82e-41bd-8412-ef228c6089d3"
      },
      "outputs": [
        {
          "name": "stdout",
          "output_type": "stream",
          "text": [
            "<class 'pandas.core.frame.DataFrame'>\n",
            "RangeIndex: 825 entries, 0 to 824\n",
            "Data columns (total 2 columns):\n",
            " #   Column  Non-Null Count  Dtype  \n",
            "---  ------  --------------  -----  \n",
            " 0   Date    825 non-null    object \n",
            " 1   Price   825 non-null    float64\n",
            "dtypes: float64(1), object(1)\n",
            "memory usage: 13.0+ KB\n"
          ]
        }
      ],
      "source": [
        "df = pd.read_csv('monthly.csv')\n",
        "\n",
        "df.info()"
      ]
    },
    {
      "cell_type": "code",
      "execution_count": 3,
      "metadata": {
        "colab": {
          "base_uri": "https://localhost:8080/",
          "height": 53
        },
        "id": "rozlGnwOhVrh",
        "outputId": "269a2a85-a6a8-4353-8406-4e0792443f32"
      },
      "outputs": [
        {
          "data": {
            "text/plain": [
              "'1950-01'"
            ]
          },
          "metadata": {},
          "output_type": "display_data"
        },
        {
          "data": {
            "text/plain": [
              "'2018-09'"
            ]
          },
          "metadata": {},
          "output_type": "display_data"
        }
      ],
      "source": [
        "display(df['Date'].min(), df['Date'].max())"
      ]
    },
    {
      "cell_type": "code",
      "execution_count": 4,
      "metadata": {
        "colab": {
          "base_uri": "https://localhost:8080/",
          "height": 297
        },
        "id": "5mT_CSwDhVri",
        "outputId": "ba661cfe-8147-409e-8413-78e2806d759d"
      },
      "outputs": [
        {
          "data": {
            "text/html": [
              "<div>\n",
              "<style scoped>\n",
              "    .dataframe tbody tr th:only-of-type {\n",
              "        vertical-align: middle;\n",
              "    }\n",
              "\n",
              "    .dataframe tbody tr th {\n",
              "        vertical-align: top;\n",
              "    }\n",
              "\n",
              "    .dataframe thead th {\n",
              "        text-align: right;\n",
              "    }\n",
              "</style>\n",
              "<table border=\"1\" class=\"dataframe\">\n",
              "  <thead>\n",
              "    <tr style=\"text-align: right;\">\n",
              "      <th></th>\n",
              "      <th>Price</th>\n",
              "    </tr>\n",
              "  </thead>\n",
              "  <tbody>\n",
              "    <tr>\n",
              "      <th>count</th>\n",
              "      <td>825.000000</td>\n",
              "    </tr>\n",
              "    <tr>\n",
              "      <th>mean</th>\n",
              "      <td>388.730868</td>\n",
              "    </tr>\n",
              "    <tr>\n",
              "      <th>std</th>\n",
              "      <td>424.991665</td>\n",
              "    </tr>\n",
              "    <tr>\n",
              "      <th>min</th>\n",
              "      <td>34.490000</td>\n",
              "    </tr>\n",
              "    <tr>\n",
              "      <th>25%</th>\n",
              "      <td>35.190000</td>\n",
              "    </tr>\n",
              "    <tr>\n",
              "      <th>50%</th>\n",
              "      <td>310.045000</td>\n",
              "    </tr>\n",
              "    <tr>\n",
              "      <th>75%</th>\n",
              "      <td>429.140000</td>\n",
              "    </tr>\n",
              "    <tr>\n",
              "      <th>max</th>\n",
              "      <td>1780.648000</td>\n",
              "    </tr>\n",
              "  </tbody>\n",
              "</table>\n",
              "</div>"
            ],
            "text/plain": [
              "             Price\n",
              "count   825.000000\n",
              "mean    388.730868\n",
              "std     424.991665\n",
              "min      34.490000\n",
              "25%      35.190000\n",
              "50%     310.045000\n",
              "75%     429.140000\n",
              "max    1780.648000"
            ]
          },
          "execution_count": 4,
          "metadata": {},
          "output_type": "execute_result"
        }
      ],
      "source": [
        "df[['Price']].describe()"
      ]
    },
    {
      "cell_type": "markdown",
      "metadata": {
        "id": "87pSx4LghVri"
      },
      "source": [
        "> Catatan:\n",
        ">\n",
        "> - **Periode Waktu**:\n",
        ">   - Dataset berisi harga emas dari**January 1950 to September 2018** dengan entri bulanan.\n",
        "> - **Fitur**: Fitur-fitur utama meliputi:\n",
        ">   - `Date`: Tanggal pengamatan.\n",
        ">   - `Price`: Harga penutupan emas, yang akan digunakan sebagai target untuk peramalan.\n",
        "> - **Ringkasan Statistik**:\n",
        ">    - Rata-rata `Price` from 1950 - 2018 adalah **388.73**.\n",
        ">  - **Standar Deviasi**:\n",
        ">    - Data cukup fluktuatif, dengan deviasi standar untuk `Price` **424.99**, menunjukkan fluktuasi besar dalam harga emas dari waktu ke waktu.\n",
        ">  - **Pengamatan Utama**:\n",
        ">    - Data menunjukkan bahwa harga emas menunjukkan volatilitas yang tinggi dan fluktuasi yang besar, sehingga perkiraan yang akurat sangat penting untuk pengambilan keputusan.\n"
      ]
    },
    {
      "cell_type": "markdown",
      "metadata": {
        "id": "OGO26EwzhVrj"
      },
      "source": [
        "## **Data Preparation**"
      ]
    },
    {
      "cell_type": "markdown",
      "metadata": {
        "id": "1SWx4bbnhVrk"
      },
      "source": [
        "#### **Convert Date Feature**"
      ]
    },
    {
      "cell_type": "code",
      "execution_count": 5,
      "metadata": {
        "colab": {
          "base_uri": "https://localhost:8080/",
          "height": 359
        },
        "id": "WwQ5i8W-hVrk",
        "outputId": "2cf2b786-d5b6-4363-c340-bd7245e7f61d"
      },
      "outputs": [
        {
          "data": {
            "text/html": [
              "<div>\n",
              "<style scoped>\n",
              "    .dataframe tbody tr th:only-of-type {\n",
              "        vertical-align: middle;\n",
              "    }\n",
              "\n",
              "    .dataframe tbody tr th {\n",
              "        vertical-align: top;\n",
              "    }\n",
              "\n",
              "    .dataframe thead th {\n",
              "        text-align: right;\n",
              "    }\n",
              "</style>\n",
              "<table border=\"1\" class=\"dataframe\">\n",
              "  <thead>\n",
              "    <tr style=\"text-align: right;\">\n",
              "      <th></th>\n",
              "      <th>Date</th>\n",
              "      <th>Price</th>\n",
              "    </tr>\n",
              "  </thead>\n",
              "  <tbody>\n",
              "    <tr>\n",
              "      <th>0</th>\n",
              "      <td>1950-01</td>\n",
              "      <td>34.73</td>\n",
              "    </tr>\n",
              "    <tr>\n",
              "      <th>1</th>\n",
              "      <td>1950-02</td>\n",
              "      <td>34.73</td>\n",
              "    </tr>\n",
              "    <tr>\n",
              "      <th>2</th>\n",
              "      <td>1950-03</td>\n",
              "      <td>34.73</td>\n",
              "    </tr>\n",
              "    <tr>\n",
              "      <th>3</th>\n",
              "      <td>1950-04</td>\n",
              "      <td>34.73</td>\n",
              "    </tr>\n",
              "    <tr>\n",
              "      <th>4</th>\n",
              "      <td>1950-05</td>\n",
              "      <td>34.73</td>\n",
              "    </tr>\n",
              "    <tr>\n",
              "      <th>5</th>\n",
              "      <td>1950-06</td>\n",
              "      <td>34.73</td>\n",
              "    </tr>\n",
              "    <tr>\n",
              "      <th>6</th>\n",
              "      <td>1950-07</td>\n",
              "      <td>34.73</td>\n",
              "    </tr>\n",
              "    <tr>\n",
              "      <th>7</th>\n",
              "      <td>1950-08</td>\n",
              "      <td>34.73</td>\n",
              "    </tr>\n",
              "    <tr>\n",
              "      <th>8</th>\n",
              "      <td>1950-09</td>\n",
              "      <td>34.73</td>\n",
              "    </tr>\n",
              "    <tr>\n",
              "      <th>9</th>\n",
              "      <td>1950-10</td>\n",
              "      <td>34.73</td>\n",
              "    </tr>\n",
              "  </tbody>\n",
              "</table>\n",
              "</div>"
            ],
            "text/plain": [
              "      Date  Price\n",
              "0  1950-01  34.73\n",
              "1  1950-02  34.73\n",
              "2  1950-03  34.73\n",
              "3  1950-04  34.73\n",
              "4  1950-05  34.73\n",
              "5  1950-06  34.73\n",
              "6  1950-07  34.73\n",
              "7  1950-08  34.73\n",
              "8  1950-09  34.73\n",
              "9  1950-10  34.73"
            ]
          },
          "execution_count": 5,
          "metadata": {},
          "output_type": "execute_result"
        }
      ],
      "source": [
        "# Sorting the data by Date for time series continuity\n",
        "df = df[['Date','Price']].sort_values('Date')\n",
        "df.head(10)"
      ]
    },
    {
      "cell_type": "markdown",
      "metadata": {
        "id": "_QFTnZz9hVrl"
      },
      "source": [
        "> Catatan:\n",
        "> - Ubah tipe data `Date` menjadi datetime untuk analisis berbasis waktu yang lebih akurat."
      ]
    },
    {
      "cell_type": "markdown",
      "metadata": {
        "id": "J9QQ_DWhhVrm"
      },
      "source": [
        "#### **Handle Missing Values**"
      ]
    },
    {
      "cell_type": "code",
      "execution_count": 6,
      "metadata": {
        "colab": {
          "base_uri": "https://localhost:8080/",
          "height": 145
        },
        "id": "ZgEIEoNshVrm",
        "outputId": "a4303438-dc56-4a37-f438-74b14533c99d"
      },
      "outputs": [
        {
          "data": {
            "text/plain": [
              "Date     0\n",
              "Price    0\n",
              "dtype: int64"
            ]
          },
          "execution_count": 6,
          "metadata": {},
          "output_type": "execute_result"
        }
      ],
      "source": [
        "missing_values = df.isnull().sum()\n",
        "\n",
        "missing_values"
      ]
    },
    {
      "cell_type": "markdown",
      "metadata": {
        "id": "uEE21EgMhVrn"
      },
      "source": [
        "> Catatan:\n",
        "> - Dataset bersih dari nilai yang hilang."
      ]
    },
    {
      "cell_type": "markdown",
      "metadata": {
        "id": "UbTJ8Y06hVro"
      },
      "source": [
        "## **Data Analysis**"
      ]
    },
    {
      "cell_type": "markdown",
      "metadata": {
        "id": "90k8IvJEhVrp"
      },
      "source": [
        "#### **Overall Trend**"
      ]
    },
    {
      "cell_type": "code",
      "execution_count": 7,
      "metadata": {
        "colab": {
          "base_uri": "https://localhost:8080/",
          "height": 516
        },
        "id": "AeWLusKHhVrr",
        "outputId": "0a4cd22a-c592-411f-850c-a9abce174e98"
      },
      "outputs": [
        {
          "data": {
            "image/png": "[encoded data removed]",
            "text/plain": [
              "<Figure size 3000x1500 with 1 Axes>"
            ]
          },
          "metadata": {},
          "output_type": "display_data"
        }
      ],
      "source": [
        "import matplotlib.dates as mdates\n",
        "\n",
        "\n",
        "plt.figure(figsize=(30,15))\n",
        "sns.set_context(context='notebook', font_scale=2)\n",
        "sns.lineplot(x='Date', y='Price', data=df)\n",
        "\n",
        "plt.gca().xaxis.set_major_locator(mdates.MonthLocator(interval=1))\n",
        "\n",
        "plt.xticks(rotation=45)\n",
        "plt.tight_layout()\n",
        "plt.grid()\n",
        "plt.show()"
      ]
    },
    {
      "cell_type": "markdown",
      "metadata": {
        "id": "lDaV79LOhVrt"
      },
      "source": [
        "> Catatan:\n",
        ">\n",
        "> - **1950 hingga 1970**: Harga-harga tetap relatif datar, menunjukkan stabilitas.\n",
        "> - **1970 hingga 1980**: Lonjakan harga yang signifikan, kemungkinan disebabkan oleh peristiwa ekonomi (misalnya, penghapusan standar emas).\n",
        "> - **1980 hingga 2000**: Tren menurun dan stabil, dengan fluktuasi kecil.\n",
        "> - **2000 hingga 2011**: Kenaikan harga emas yang dramatis, mencapai titik tertinggi sepanjang sejarah pada tahun 2011.\n",
        "> - **2011 hingga 2018**: Harga turun dan stabil dengan fluktuasi moderat, tetapi tetap lebih tinggi dibandingkan dengan dekade sebelumnya."
      ]
    },
    {
      "cell_type": "markdown",
      "metadata": {
        "id": "6r_JX0FdhVru"
      },
      "source": [
        "## **Modeling and Evaluation**"
      ]
    },
    {
      "cell_type": "markdown",
      "metadata": {
        "id": "Aw8_xphHhVrv"
      },
      "source": [
        "#### **Split Data**"
      ]
    },
    {
      "cell_type": "code",
      "execution_count": 8,
      "metadata": {
        "colab": {
          "base_uri": "https://localhost:8080/",
          "height": 51
        },
        "id": "umMYv69hhVrv",
        "outputId": "4bde97e5-ed95-47f5-b0e1-f153a4731b65"
      },
      "outputs": [
        {
          "data": {
            "text/plain": [
              "88"
            ]
          },
          "metadata": {},
          "output_type": "display_data"
        },
        {
          "data": {
            "text/plain": [
              "64"
            ]
          },
          "metadata": {},
          "output_type": "display_data"
        }
      ],
      "source": [
        "df = df[df['Date']>'2003-01']\n",
        "df_train=df[(df['Date']>'2006-01') & (df['Date']<='2013-05')]\n",
        "df_test=df[df['Date']>'2013-05']\n",
        "\n",
        "display(len(df_train),len(df_test))"
      ]
    },
    {
      "cell_type": "markdown",
      "metadata": {
        "id": "20bG3n42hVrw"
      },
      "source": [
        "> Catatan:\n",
        ">\n",
        "> - Dataset dibagi menjadi set pelatihan dan set pengujian untuk menghindari kebocoran data.\n",
        "> - **Training Data**: Menggunakan data **7 tahun** terbaru karena perbedaan tren harga emas (kami ingin tren terbaru dan relevan untuk memperkirakan tren masa depan).\n",
        "> - **Test Data**: Data **5 tahun terakhir** digunakan untuk evaluasi dan peramalan."
      ]
    },
    {
      "cell_type": "markdown",
      "metadata": {
        "id": "hCySkhk8hVry"
      },
      "source": [
        "#### **ARIMA**"
      ]
    },
    {
      "cell_type": "code",
      "execution_count": 9,
      "metadata": {
        "colab": {
          "base_uri": "https://localhost:8080/",
          "height": 204
        },
        "id": "HW4et0EohVry",
        "outputId": "2aee78df-0e80-4908-e4f6-3c55d437d67f"
      },
      "outputs": [
        {
          "data": {
            "text/html": [
              "<div>\n",
              "<style scoped>\n",
              "    .dataframe tbody tr th:only-of-type {\n",
              "        vertical-align: middle;\n",
              "    }\n",
              "\n",
              "    .dataframe tbody tr th {\n",
              "        vertical-align: top;\n",
              "    }\n",
              "\n",
              "    .dataframe thead th {\n",
              "        text-align: right;\n",
              "    }\n",
              "</style>\n",
              "<table border=\"1\" class=\"dataframe\">\n",
              "  <thead>\n",
              "    <tr style=\"text-align: right;\">\n",
              "      <th></th>\n",
              "      <th>order</th>\n",
              "      <th>rmse</th>\n",
              "    </tr>\n",
              "  </thead>\n",
              "  <tbody>\n",
              "    <tr>\n",
              "      <th>0</th>\n",
              "      <td>(6, 1, 9)</td>\n",
              "      <td>65.923997</td>\n",
              "    </tr>\n",
              "    <tr>\n",
              "      <th>1</th>\n",
              "      <td>(8, 1, 3)</td>\n",
              "      <td>78.279552</td>\n",
              "    </tr>\n",
              "    <tr>\n",
              "      <th>2</th>\n",
              "      <td>(3, 1, 3)</td>\n",
              "      <td>81.027171</td>\n",
              "    </tr>\n",
              "    <tr>\n",
              "      <th>3</th>\n",
              "      <td>(1, 1, 5)</td>\n",
              "      <td>83.092184</td>\n",
              "    </tr>\n",
              "    <tr>\n",
              "      <th>4</th>\n",
              "      <td>(3, 1, 2)</td>\n",
              "      <td>83.233815</td>\n",
              "    </tr>\n",
              "  </tbody>\n",
              "</table>\n",
              "</div>"
            ],
            "text/plain": [
              "       order       rmse\n",
              "0  (6, 1, 9)  65.923997\n",
              "1  (8, 1, 3)  78.279552\n",
              "2  (3, 1, 3)  81.027171\n",
              "3  (1, 1, 5)  83.092184\n",
              "4  (3, 1, 2)  83.233815"
            ]
          },
          "execution_count": 9,
          "metadata": {},
          "output_type": "execute_result"
        }
      ],
      "source": [
        "import itertools\n",
        "from statsmodels.tsa.arima.model import ARIMA\n",
        "from sklearn.metrics import mean_squared_error\n",
        "\n",
        "p = q = range(0, 10)\n",
        "d = 1\n",
        "\n",
        "pdq = [(x, d, y) for x, y in itertools.product(p, q)]\n",
        "\n",
        "results = []\n",
        "\n",
        "for param in pdq:\n",
        "    try:\n",
        "        model = ARIMA(df_train['Price'], order=param)\n",
        "\n",
        "        model_fit = model.fit()\n",
        "\n",
        "        forecast_steps = len(df_test)\n",
        "        arima_forecast = model_fit.forecast(steps=forecast_steps)\n",
        "\n",
        "        arima_rmse = mean_squared_error(df_test['Price'], arima_forecast, squared=False)\n",
        "\n",
        "        results.append((param, arima_rmse))\n",
        "\n",
        "    except Exception as e:\n",
        "        continue\n",
        "\n",
        "# Sort the results based on RMSE in descending order\n",
        "sorted_results = sorted(results, key=lambda x: x[1], reverse=False)\n",
        "\n",
        "sorted_results = pd.DataFrame(sorted_results).sort_values(1, ascending=True).rename({0:'order', 1:'rmse'}, axis=1)\n",
        "sorted_results.head()"
      ]
    },
    {
      "cell_type": "markdown",
      "metadata": {
        "id": "f8ekU_xfhVrz"
      },
      "source": [
        "> Catatan:\n",
        ">\n",
        "> - Model ARIMA disetel dengan melakukan **pencarian grid** pada nilai yang berbeda dari \\( p \\), \\( d \\), dan \\( q \\).\n",
        "> - **Parameter Non-Musiman**:\n",
        "> - \\( p \\): Jumlah pengamatan lag.\n",
        "> - \\( d \\): Jumlah perbedaan yang diperlukan untuk membuat deret waktu menjadi stasioner (diatur ke 1 dalam kasus ini).\n",
        "> - \\( q \\): Ukuran jendela rata-rata bergerak.\n",
        "> - **Strategi Penyetelan**:\n",
        "> - Pencarian grid pada kombinasi \\( p \\) dan \\( q \\) (mulai dari 0 hingga 9) dilakukan dengan \\( d \\) ditetapkan pada 1.\n",
        "> - RMSE (Root Mean Squared Error) dihitung untuk setiap kombinasi, dan model dengan kinerja terbaik dipilih berdasarkan nilai RMSE terendah.\n",
        "> - **Hasil**: Hasil disimpan, diurutkan, dan ditampilkan, sehingga urutan model ARIMA terbaik (dengan RMSE terendah) dapat dipilih untuk meramalkan tren masa depan."
      ]
    },
    {
      "cell_type": "code",
      "execution_count": 10,
      "metadata": {
        "colab": {
          "base_uri": "https://localhost:8080/"
        },
        "id": "TrdY4pDxhVr0",
        "outputId": "3636197b-3948-41a6-99d8-6cbe009bee6e"
      },
      "outputs": [
        {
          "data": {
            "text/plain": [
              "65.92399701752464"
            ]
          },
          "execution_count": 10,
          "metadata": {},
          "output_type": "execute_result"
        }
      ],
      "source": [
        "from statsmodels.tsa.arima.model import ARIMA\n",
        "model=ARIMA(df_train['Price'],order=sorted_results.iloc[0]['order'])\n",
        "\n",
        "model_fit=model.fit()\n",
        "\n",
        "forecast_length=64\n",
        "forecast_result=model_fit.forecast(forecast_length)\n",
        "\n",
        "root_mean_squared_error(df_test['Price'], forecast_result)"
      ]
    },
    {
      "cell_type": "code",
      "execution_count": 11,
      "metadata": {
        "colab": {
          "base_uri": "https://localhost:8080/",
          "height": 419
        },
        "id": "tYJoKsAwhVr1",
        "outputId": "8f0b719e-6f17-40b4-ee0b-1485feb20753"
      },
      "outputs": [
        {
          "data": {
            "text/html": [
              "<div>\n",
              "<style scoped>\n",
              "    .dataframe tbody tr th:only-of-type {\n",
              "        vertical-align: middle;\n",
              "    }\n",
              "\n",
              "    .dataframe tbody tr th {\n",
              "        vertical-align: top;\n",
              "    }\n",
              "\n",
              "    .dataframe thead th {\n",
              "        text-align: right;\n",
              "    }\n",
              "</style>\n",
              "<table border=\"1\" class=\"dataframe\">\n",
              "  <thead>\n",
              "    <tr style=\"text-align: right;\">\n",
              "      <th></th>\n",
              "      <th>Date</th>\n",
              "      <th>Price</th>\n",
              "    </tr>\n",
              "  </thead>\n",
              "  <tbody>\n",
              "    <tr>\n",
              "      <th>88</th>\n",
              "      <td>2013-06</td>\n",
              "      <td>1416.396150</td>\n",
              "    </tr>\n",
              "    <tr>\n",
              "      <th>89</th>\n",
              "      <td>2013-07</td>\n",
              "      <td>1421.221126</td>\n",
              "    </tr>\n",
              "    <tr>\n",
              "      <th>90</th>\n",
              "      <td>2013-08</td>\n",
              "      <td>1395.092543</td>\n",
              "    </tr>\n",
              "    <tr>\n",
              "      <th>91</th>\n",
              "      <td>2013-09</td>\n",
              "      <td>1375.580097</td>\n",
              "    </tr>\n",
              "    <tr>\n",
              "      <th>92</th>\n",
              "      <td>2013-10</td>\n",
              "      <td>1365.078480</td>\n",
              "    </tr>\n",
              "    <tr>\n",
              "      <th>...</th>\n",
              "      <td>...</td>\n",
              "      <td>...</td>\n",
              "    </tr>\n",
              "    <tr>\n",
              "      <th>147</th>\n",
              "      <td>2018-05</td>\n",
              "      <td>1229.303851</td>\n",
              "    </tr>\n",
              "    <tr>\n",
              "      <th>148</th>\n",
              "      <td>2018-06</td>\n",
              "      <td>1243.778251</td>\n",
              "    </tr>\n",
              "    <tr>\n",
              "      <th>149</th>\n",
              "      <td>2018-07</td>\n",
              "      <td>1250.233835</td>\n",
              "    </tr>\n",
              "    <tr>\n",
              "      <th>150</th>\n",
              "      <td>2018-08</td>\n",
              "      <td>1237.951593</td>\n",
              "    </tr>\n",
              "    <tr>\n",
              "      <th>151</th>\n",
              "      <td>2018-09</td>\n",
              "      <td>1220.495878</td>\n",
              "    </tr>\n",
              "  </tbody>\n",
              "</table>\n",
              "<p>64 rows × 2 columns</p>\n",
              "</div>"
            ],
            "text/plain": [
              "        Date        Price\n",
              "88   2013-06  1416.396150\n",
              "89   2013-07  1421.221126\n",
              "90   2013-08  1395.092543\n",
              "91   2013-09  1375.580097\n",
              "92   2013-10  1365.078480\n",
              "..       ...          ...\n",
              "147  2018-05  1229.303851\n",
              "148  2018-06  1243.778251\n",
              "149  2018-07  1250.233835\n",
              "150  2018-08  1237.951593\n",
              "151  2018-09  1220.495878\n",
              "\n",
              "[64 rows x 2 columns]"
            ]
          },
          "execution_count": 11,
          "metadata": {},
          "output_type": "execute_result"
        }
      ],
      "source": [
        "month=list(df_test['Date'].unique())\n",
        "\n",
        "df_forecast_arima=pd.DataFrame({'Date':month,'Price':forecast_result})\n",
        "df_forecast_arima"
      ]
    },
    {
      "cell_type": "code",
      "execution_count": 12,
      "metadata": {
        "colab": {
          "base_uri": "https://localhost:8080/",
          "height": 542
        },
        "id": "viUgelg7hVr1",
        "outputId": "bebb2d05-504f-41b0-a497-2543f890758e"
      },
      "outputs": [
        {
          "data": {
            "application/vnd.plotly.v1+json": {
              "config": {
                "plotlyServerURL": "https://plot.ly"
              },
              "data": [
                {
                  "mode": "markers",
                  "name": "Actual",
                  "type": "scatter",
                  "x": [
                    "2003-02",
                    "2003-03",
                    "2003-04",
                    "2003-05",
                    "2003-06",
                    "2003-07",
                    "2003-08",
                    "2003-09",
                    "2003-10",
                    "2003-11",
                    "2003-12",
                    "2004-01",
                    "2004-02",
                    "2004-03",
                    "2004-04",
                    "2004-05",
                    "2004-06",
                    "2004-07",
                    "2004-08",
                    "2004-09",
                    "2004-10",
                    "2004-11",
                    "2004-12",
                    "2005-01",
                    "2005-02",
                    "2005-03",
                    "2005-04",
                    "2005-05",
                    "2005-06",
                    "2005-07",
                    "2005-08",
                    "2005-09",
                    "2005-10",
                    "2005-11",
                    "2005-12",
                    "2006-01",
                    "2006-02",
                    "2006-03",
                    "2006-04",
                    "2006-05",
                    "2006-06",
                    "2006-07",
                    "2006-08",
                    "2006-09",
                    "2006-10",
                    "2006-11",
                    "2006-12",
                    "2007-01",
                    "2007-02",
                    "2007-03",
                    "2007-04",
                    "2007-05",
                    "2007-06",
                    "2007-07",
                    "2007-08",
                    "2007-09",
                    "2007-10",
                    "2007-11",
                    "2007-12",
                    "2008-01",
                    "2008-02",
                    "2008-03",
                    "2008-04",
                    "2008-05",
                    "2008-06",
                    "2008-07",
                    "2008-08",
                    "2008-09",
                    "2008-10",
                    "2008-11",
                    "2008-12",
                    "2009-01",
                    "2009-02",
                    "2009-03",
                    "2009-04",
                    "2009-05",
                    "2009-06",
                    "2009-07",
                    "2009-08",
                    "2009-09",
                    "2009-10",
                    "2009-11",
                    "2009-12",
                    "2010-01",
                    "2010-02",
                    "2010-03",
                    "2010-04",
                    "2010-05",
                    "2010-06",
                    "2010-07",
                    "2010-08",
                    "2010-09",
                    "2010-10",
                    "2010-11",
                    "2010-12",
                    "2011-01",
                    "2011-02",
                    "2011-03",
                    "2011-04",
                    "2011-05",
                    "2011-06",
                    "2011-07",
                    "2011-08",
                    "2011-09",
                    "2011-10",
                    "2011-11",
                    "2011-12",
                    "2012-01",
                    "2012-02",
                    "2012-03",
                    "2012-04",
                    "2012-05",
                    "2012-06",
                    "2012-07",
                    "2012-08",
                    "2012-09",
                    "2012-10",
                    "2012-11",
                    "2012-12",
                    "2013-01",
                    "2013-02",
                    "2013-03",
                    "2013-04",
                    "2013-05",
                    "2013-06",
                    "2013-07",
                    "2013-08",
                    "2013-09",
                    "2013-10",
                    "2013-11",
                    "2013-12",
                    "2014-01",
                    "2014-02",
                    "2014-03",
                    "2014-04",
                    "2014-05",
                    "2014-06",
                    "2014-07",
                    "2014-08",
                    "2014-09",
                    "2014-10",
                    "2014-11",
                    "2014-12",
                    "2015-01",
                    "2015-02",
                    "2015-03",
                    "2015-04",
                    "2015-05",
                    "2015-06",
                    "2015-07",
                    "2015-08",
                    "2015-09",
                    "2015-10",
                    "2015-11",
                    "2015-12",
                    "2016-01",
                    "2016-02",
                    "2016-03",
                    "2016-04",
                    "2016-05",
                    "2016-06",
                    "2016-07",
                    "2016-08",
                    "2016-09",
                    "2016-10",
                    "2016-11",
                    "2016-12",
                    "2017-01",
                    "2017-02",
                    "2017-03",
                    "2017-04",
                    "2017-05",
                    "2017-06",
                    "2017-07",
                    "2017-08",
                    "2017-09",
                    "2017-10",
                    "2017-11",
                    "2017-12",
                    "2018-01",
                    "2018-02",
                    "2018-03",
                    "2018-04",
                    "2018-05",
                    "2018-06",
                    "2018-07",
                    "2018-08",
                    "2018-09"
                  ],
                  "y": [
                    359.575,
                    341.564,
                    328.208,
                    355.405,
                    356.912,
                    350.765,
                    358.993,
                    378.859,
                    379.093,
                    390.2,
                    407.674,
                    414.495,
                    404.73,
                    405.976,
                    404.85,
                    383.953,
                    391.78,
                    398.441,
                    400.133,
                    405.402,
                    420.21,
                    439.059,
                    442.974,
                    424.08,
                    423.43,
                    434.355,
                    429.14,
                    422.903,
                    430.302,
                    424.745,
                    437.773,
                    455.936,
                    470.107,
                    476.668,
                    509.423,
                    549.433,
                    555.518,
                    557.215,
                    611.853,
                    676.769,
                    597.898,
                    633.093,
                    631.557,
                    600.15,
                    586.648,
                    626.825,
                    629.513,
                    630.352,
                    665.103,
                    655.891,
                    680.008,
                    668.31,
                    655.714,
                    665.266,
                    664.53,
                    710.645,
                    754.48,
                    808.311,
                    803.618,
                    887.784,
                    924.283,
                    971.055,
                    911.6,
                    889.125,
                    889.536,
                    941.167,
                    840.388,
                    824.92,
                    812.815,
                    757.85,
                    819.94,
                    857.726,
                    939.763,
                    925.989,
                    892.663,
                    926.855,
                    947.807,
                    934.272,
                    949.5,
                    996.443,
                    1043.511,
                    1126.119,
                    1135.012,
                    1119.575,
                    1095.8,
                    1115.554,
                    1148.475,
                    1204.321,
                    1232.382,
                    1196,
                    1213.464,
                    1271.461,
                    1343.19,
                    1371.784,
                    1393.512,
                    1360.475,
                    1371.313,
                    1422.848,
                    1474.431,
                    1512.188,
                    1528.38,
                    1568.526,
                    1759.5,
                    1780.648,
                    1667.893,
                    1735.977,
                    1652.725,
                    1656.095,
                    1743.095,
                    1675.057,
                    1648.539,
                    1585.114,
                    1595.632,
                    1592.784,
                    1625.682,
                    1741.925,
                    1746.348,
                    1724.352,
                    1687.342,
                    1671.886,
                    1630.688,
                    1591.013,
                    1485.905,
                    1416.143,
                    1342.7,
                    1284.348,
                    1345.048,
                    1348.464,
                    1314.402,
                    1277.417,
                    1221.588,
                    1243.068,
                    1298.713,
                    1336.56,
                    1299.175,
                    1288.913,
                    1277.857,
                    1312.989,
                    1297.005,
                    1241.33,
                    1223.565,
                    1176.413,
                    1200.44,
                    1249.333,
                    1231.1,
                    1180.636,
                    1198.253,
                    1197.684,
                    1182.248,
                    1131.58,
                    1117.525,
                    1124.905,
                    1157.123,
                    1088.388,
                    1068.317,
                    1095.655,
                    1194.893,
                    1246.312,
                    1241.452,
                    1259.755,
                    1273.58,
                    1337.429,
                    1340.861,
                    1326.618,
                    1268.929,
                    1240.293,
                    1152.165,
                    1192.648,
                    1233.39,
                    1231.063,
                    1267.15,
                    1245.25,
                    1261.277,
                    1235.1,
                    1281.72,
                    1317.045,
                    1280.677,
                    1283.189,
                    1265.674,
                    1332.809,
                    1333.775,
                    1325.562,
                    1335.332,
                    1303.618,
                    1282.126,
                    1238.064,
                    1201.859,
                    1199.198
                  ]
                },
                {
                  "name": "Forecast",
                  "type": "scatter",
                  "x": [
                    "2013-06",
                    "2013-07",
                    "2013-08",
                    "2013-09",
                    "2013-10",
                    "2013-11",
                    "2013-12",
                    "2014-01",
                    "2014-02",
                    "2014-03",
                    "2014-04",
                    "2014-05",
                    "2014-06",
                    "2014-07",
                    "2014-08",
                    "2014-09",
                    "2014-10",
                    "2014-11",
                    "2014-12",
                    "2015-01",
                    "2015-02",
                    "2015-03",
                    "2015-04",
                    "2015-05",
                    "2015-06",
                    "2015-07",
                    "2015-08",
                    "2015-09",
                    "2015-10",
                    "2015-11",
                    "2015-12",
                    "2016-01",
                    "2016-02",
                    "2016-03",
                    "2016-04",
                    "2016-05",
                    "2016-06",
                    "2016-07",
                    "2016-08",
                    "2016-09",
                    "2016-10",
                    "2016-11",
                    "2016-12",
                    "2017-01",
                    "2017-02",
                    "2017-03",
                    "2017-04",
                    "2017-05",
                    "2017-06",
                    "2017-07",
                    "2017-08",
                    "2017-09",
                    "2017-10",
                    "2017-11",
                    "2017-12",
                    "2018-01",
                    "2018-02",
                    "2018-03",
                    "2018-04",
                    "2018-05",
                    "2018-06",
                    "2018-07",
                    "2018-08",
                    "2018-09"
                  ],
                  "y": [
                    1416.3961503682206,
                    1421.2211255032062,
                    1395.0925430225152,
                    1375.580097476238,
                    1365.07847998854,
                    1364.7373434642207,
                    1382.7200590062514,
                    1362.882756114143,
                    1340.3072214992299,
                    1297.5881561127026,
                    1293.129333706141,
                    1291.7138182233086,
                    1291.1563900779788,
                    1266.7455168442816,
                    1230.0164750909858,
                    1218.6544874051901,
                    1216.7526032166168,
                    1235.872592111159,
                    1219.7334550574944,
                    1204.656734176275,
                    1181.3027232337422,
                    1191.9981062991988,
                    1210.1991325770496,
                    1218.614911743488,
                    1211.046327817207,
                    1189.4547080441753,
                    1198.3280744466006,
                    1211.279396870068,
                    1238.4988260432417,
                    1230.6303984149213,
                    1220.8625433287077,
                    1210.8441552687416,
                    1225.9664221636335,
                    1249.3221589903605,
                    1252.6309670404946,
                    1245.082055156887,
                    1223.8266145367254,
                    1234.476811140624,
                    1246.5035543342392,
                    1265.2069006107945,
                    1252.8311063052547,
                    1236.6621258528423,
                    1229.3248538444739,
                    1240.1175004686138,
                    1260.1249123564774,
                    1254.5823819318416,
                    1243.2067223773242,
                    1222.2421138569423,
                    1232.8570858730716,
                    1244.8577467564062,
                    1256.2456044890112,
                    1242.761375562818,
                    1224.553847770136,
                    1223.0189733655802,
                    1233.7157840570715,
                    1252.8752347078089,
                    1243.9771560749289,
                    1232.372284843089,
                    1216.577332360108,
                    1229.30385110525,
                    1243.7782513043771,
                    1250.2338353444259,
                    1237.9515926721517,
                    1220.4958780053712
                  ]
                }
              ],
              "layout": {
                "template": {
                  "data": {
                    "bar": [
                      {
                        "error_x": {
                          "color": "#2a3f5f"
                        },
                        "error_y": {
                          "color": "#2a3f5f"
                        },
                        "marker": {
                          "line": {
                            "color": "#E5ECF6",
                            "width": 0.5
                          },
                          "pattern": {
                            "fillmode": "overlay",
                            "size": 10,
                            "solidity": 0.2
                          }
                        },
                        "type": "bar"
                      }
                    ],
                    "barpolar": [
                      {
                        "marker": {
                          "line": {
                            "color": "#E5ECF6",
                            "width": 0.5
                          },
                          "pattern": {
                            "fillmode": "overlay",
                            "size": 10,
                            "solidity": 0.2
                          }
                        },
                        "type": "barpolar"
                      }
                    ],
                    "carpet": [
                      {
                        "aaxis": {
                          "endlinecolor": "#2a3f5f",
                          "gridcolor": "white",
                          "linecolor": "white",
                          "minorgridcolor": "white",
                          "startlinecolor": "#2a3f5f"
                        },
                        "baxis": {
                          "endlinecolor": "#2a3f5f",
                          "gridcolor": "white",
                          "linecolor": "white",
                          "minorgridcolor": "white",
                          "startlinecolor": "#2a3f5f"
                        },
                        "type": "carpet"
                      }
                    ],
                    "choropleth": [
                      {
                        "colorbar": {
                          "outlinewidth": 0,
                          "ticks": ""
                        },
                        "type": "choropleth"
                      }
                    ],
                    "contour": [
                      {
                        "colorbar": {
                          "outlinewidth": 0,
                          "ticks": ""
                        },
                        "colorscale": [
                          [
                            0,
                            "#0d0887"
                          ],
                          [
                            0.1111111111111111,
                            "#46039f"
                          ],
                          [
                            0.2222222222222222,
                            "#7201a8"
                          ],
                          [
                            0.3333333333333333,
                            "#9c179e"
                          ],
                          [
                            0.4444444444444444,
                            "#bd3786"
                          ],
                          [
                            0.5555555555555556,
                            "#d8576b"
                          ],
                          [
                            0.6666666666666666,
                            "#ed7953"
                          ],
                          [
                            0.7777777777777778,
                            "#fb9f3a"
                          ],
                          [
                            0.8888888888888888,
                            "#fdca26"
                          ],
                          [
                            1,
                            "#f0f921"
                          ]
                        ],
                        "type": "contour"
                      }
                    ],
                    "contourcarpet": [
                      {
                        "colorbar": {
                          "outlinewidth": 0,
                          "ticks": ""
                        },
                        "type": "contourcarpet"
                      }
                    ],
                    "heatmap": [
                      {
                        "colorbar": {
                          "outlinewidth": 0,
                          "ticks": ""
                        },
                        "colorscale": [
                          [
                            0,
                            "#0d0887"
                          ],
                          [
                            0.1111111111111111,
                            "#46039f"
                          ],
                          [
                            0.2222222222222222,
                            "#7201a8"
                          ],
                          [
                            0.3333333333333333,
                            "#9c179e"
                          ],
                          [
                            0.4444444444444444,
                            "#bd3786"
                          ],
                          [
                            0.5555555555555556,
                            "#d8576b"
                          ],
                          [
                            0.6666666666666666,
                            "#ed7953"
                          ],
                          [
                            0.7777777777777778,
                            "#fb9f3a"
                          ],
                          [
                            0.8888888888888888,
                            "#fdca26"
                          ],
                          [
                            1,
                            "#f0f921"
                          ]
                        ],
                        "type": "heatmap"
                      }
                    ],
                    "heatmapgl": [
                      {
                        "colorbar": {
                          "outlinewidth": 0,
                          "ticks": ""
                        },
                        "colorscale": [
                          [
                            0,
                            "#0d0887"
                          ],
                          [
                            0.1111111111111111,
                            "#46039f"
                          ],
                          [
                            0.2222222222222222,
                            "#7201a8"
                          ],
                          [
                            0.3333333333333333,
                            "#9c179e"
                          ],
                          [
                            0.4444444444444444,
                            "#bd3786"
                          ],
                          [
                            0.5555555555555556,
                            "#d8576b"
                          ],
                          [
                            0.6666666666666666,
                            "#ed7953"
                          ],
                          [
                            0.7777777777777778,
                            "#fb9f3a"
                          ],
                          [
                            0.8888888888888888,
                            "#fdca26"
                          ],
                          [
                            1,
                            "#f0f921"
                          ]
                        ],
                        "type": "heatmapgl"
                      }
                    ],
                    "histogram": [
                      {
                        "marker": {
                          "pattern": {
                            "fillmode": "overlay",
                            "size": 10,
                            "solidity": 0.2
                          }
                        },
                        "type": "histogram"
                      }
                    ],
                    "histogram2d": [
                      {
                        "colorbar": {
                          "outlinewidth": 0,
                          "ticks": ""
                        },
                        "colorscale": [
                          [
                            0,
                            "#0d0887"
                          ],
                          [
                            0.1111111111111111,
                            "#46039f"
                          ],
                          [
                            0.2222222222222222,
                            "#7201a8"
                          ],
                          [
                            0.3333333333333333,
                            "#9c179e"
                          ],
                          [
                            0.4444444444444444,
                            "#bd3786"
                          ],
                          [
                            0.5555555555555556,
                            "#d8576b"
                          ],
                          [
                            0.6666666666666666,
                            "#ed7953"
                          ],
                          [
                            0.7777777777777778,
                            "#fb9f3a"
                          ],
                          [
                            0.8888888888888888,
                            "#fdca26"
                          ],
                          [
                            1,
                            "#f0f921"
                          ]
                        ],
                        "type": "histogram2d"
                      }
                    ],
                    "histogram2dcontour": [
                      {
                        "colorbar": {
                          "outlinewidth": 0,
                          "ticks": ""
                        },
                        "colorscale": [
                          [
                            0,
                            "#0d0887"
                          ],
                          [
                            0.1111111111111111,
                            "#46039f"
                          ],
                          [
                            0.2222222222222222,
                            "#7201a8"
                          ],
                          [
                            0.3333333333333333,
                            "#9c179e"
                          ],
                          [
                            0.4444444444444444,
                            "#bd3786"
                          ],
                          [
                            0.5555555555555556,
                            "#d8576b"
                          ],
                          [
                            0.6666666666666666,
                            "#ed7953"
                          ],
                          [
                            0.7777777777777778,
                            "#fb9f3a"
                          ],
                          [
                            0.8888888888888888,
                            "#fdca26"
                          ],
                          [
                            1,
                            "#f0f921"
                          ]
                        ],
                        "type": "histogram2dcontour"
                      }
                    ],
                    "mesh3d": [
                      {
                        "colorbar": {
                          "outlinewidth": 0,
                          "ticks": ""
                        },
                        "type": "mesh3d"
                      }
                    ],
                    "parcoords": [
                      {
                        "line": {
                          "colorbar": {
                            "outlinewidth": 0,
                            "ticks": ""
                          }
                        },
                        "type": "parcoords"
                      }
                    ],
                    "pie": [
                      {
                        "automargin": true,
                        "type": "pie"
                      }
                    ],
                    "scatter": [
                      {
                        "fillpattern": {
                          "fillmode": "overlay",
                          "size": 10,
                          "solidity": 0.2
                        },
                        "type": "scatter"
                      }
                    ],
                    "scatter3d": [
                      {
                        "line": {
                          "colorbar": {
                            "outlinewidth": 0,
                            "ticks": ""
                          }
                        },
                        "marker": {
                          "colorbar": {
                            "outlinewidth": 0,
                            "ticks": ""
                          }
                        },
                        "type": "scatter3d"
                      }
                    ],
                    "scattercarpet": [
                      {
                        "marker": {
                          "colorbar": {
                            "outlinewidth": 0,
                            "ticks": ""
                          }
                        },
                        "type": "scattercarpet"
                      }
                    ],
                    "scattergeo": [
                      {
                        "marker": {
                          "colorbar": {
                            "outlinewidth": 0,
                            "ticks": ""
                          }
                        },
                        "type": "scattergeo"
                      }
                    ],
                    "scattergl": [
                      {
                        "marker": {
                          "colorbar": {
                            "outlinewidth": 0,
                            "ticks": ""
                          }
                        },
                        "type": "scattergl"
                      }
                    ],
                    "scattermapbox": [
                      {
                        "marker": {
                          "colorbar": {
                            "outlinewidth": 0,
                            "ticks": ""
                          }
                        },
                        "type": "scattermapbox"
                      }
                    ],
                    "scatterpolar": [
                      {
                        "marker": {
                          "colorbar": {
                            "outlinewidth": 0,
                            "ticks": ""
                          }
                        },
                        "type": "scatterpolar"
                      }
                    ],
                    "scatterpolargl": [
                      {
                        "marker": {
                          "colorbar": {
                            "outlinewidth": 0,
                            "ticks": ""
                          }
                        },
                        "type": "scatterpolargl"
                      }
                    ],
                    "scatterternary": [
                      {
                        "marker": {
                          "colorbar": {
                            "outlinewidth": 0,
                            "ticks": ""
                          }
                        },
                        "type": "scatterternary"
                      }
                    ],
                    "surface": [
                      {
                        "colorbar": {
                          "outlinewidth": 0,
                          "ticks": ""
                        },
                        "colorscale": [
                          [
                            0,
                            "#0d0887"
                          ],
                          [
                            0.1111111111111111,
                            "#46039f"
                          ],
                          [
                            0.2222222222222222,
                            "#7201a8"
                          ],
                          [
                            0.3333333333333333,
                            "#9c179e"
                          ],
                          [
                            0.4444444444444444,
                            "#bd3786"
                          ],
                          [
                            0.5555555555555556,
                            "#d8576b"
                          ],
                          [
                            0.6666666666666666,
                            "#ed7953"
                          ],
                          [
                            0.7777777777777778,
                            "#fb9f3a"
                          ],
                          [
                            0.8888888888888888,
                            "#fdca26"
                          ],
                          [
                            1,
                            "#f0f921"
                          ]
                        ],
                        "type": "surface"
                      }
                    ],
                    "table": [
                      {
                        "cells": {
                          "fill": {
                            "color": "#EBF0F8"
                          },
                          "line": {
                            "color": "white"
                          }
                        },
                        "header": {
                          "fill": {
                            "color": "#C8D4E3"
                          },
                          "line": {
                            "color": "white"
                          }
                        },
                        "type": "table"
                      }
                    ]
                  },
                  "layout": {
                    "annotationdefaults": {
                      "arrowcolor": "#2a3f5f",
                      "arrowhead": 0,
                      "arrowwidth": 1
                    },
                    "autotypenumbers": "strict",
                    "coloraxis": {
                      "colorbar": {
                        "outlinewidth": 0,
                        "ticks": ""
                      }
                    },
                    "colorscale": {
                      "diverging": [
                        [
                          0,
                          "#8e0152"
                        ],
                        [
                          0.1,
                          "#c51b7d"
                        ],
                        [
                          0.2,
                          "#de77ae"
                        ],
                        [
                          0.3,
                          "#f1b6da"
                        ],
                        [
                          0.4,
                          "#fde0ef"
                        ],
                        [
                          0.5,
                          "#f7f7f7"
                        ],
                        [
                          0.6,
                          "#e6f5d0"
                        ],
                        [
                          0.7,
                          "#b8e186"
                        ],
                        [
                          0.8,
                          "#7fbc41"
                        ],
                        [
                          0.9,
                          "#4d9221"
                        ],
                        [
                          1,
                          "#276419"
                        ]
                      ],
                      "sequential": [
                        [
                          0,
                          "#0d0887"
                        ],
                        [
                          0.1111111111111111,
                          "#46039f"
                        ],
                        [
                          0.2222222222222222,
                          "#7201a8"
                        ],
                        [
                          0.3333333333333333,
                          "#9c179e"
                        ],
                        [
                          0.4444444444444444,
                          "#bd3786"
                        ],
                        [
                          0.5555555555555556,
                          "#d8576b"
                        ],
                        [
                          0.6666666666666666,
                          "#ed7953"
                        ],
                        [
                          0.7777777777777778,
                          "#fb9f3a"
                        ],
                        [
                          0.8888888888888888,
                          "#fdca26"
                        ],
                        [
                          1,
                          "#f0f921"
                        ]
                      ],
                      "sequentialminus": [
                        [
                          0,
                          "#0d0887"
                        ],
                        [
                          0.1111111111111111,
                          "#46039f"
                        ],
                        [
                          0.2222222222222222,
                          "#7201a8"
                        ],
                        [
                          0.3333333333333333,
                          "#9c179e"
                        ],
                        [
                          0.4444444444444444,
                          "#bd3786"
                        ],
                        [
                          0.5555555555555556,
                          "#d8576b"
                        ],
                        [
                          0.6666666666666666,
                          "#ed7953"
                        ],
                        [
                          0.7777777777777778,
                          "#fb9f3a"
                        ],
                        [
                          0.8888888888888888,
                          "#fdca26"
                        ],
                        [
                          1,
                          "#f0f921"
                        ]
                      ]
                    },
                    "colorway": [
                      "#636efa",
                      "#EF553B",
                      "#00cc96",
                      "#ab63fa",
                      "#FFA15A",
                      "#19d3f3",
                      "#FF6692",
                      "#B6E880",
                      "#FF97FF",
                      "#FECB52"
                    ],
                    "font": {
                      "color": "#2a3f5f"
                    },
                    "geo": {
                      "bgcolor": "white",
                      "lakecolor": "white",
                      "landcolor": "#E5ECF6",
                      "showlakes": true,
                      "showland": true,
                      "subunitcolor": "white"
                    },
                    "hoverlabel": {
                      "align": "left"
                    },
                    "hovermode": "closest",
                    "mapbox": {
                      "style": "light"
                    },
                    "paper_bgcolor": "white",
                    "plot_bgcolor": "#E5ECF6",
                    "polar": {
                      "angularaxis": {
                        "gridcolor": "white",
                        "linecolor": "white",
                        "ticks": ""
                      },
                      "bgcolor": "#E5ECF6",
                      "radialaxis": {
                        "gridcolor": "white",
                        "linecolor": "white",
                        "ticks": ""
                      }
                    },
                    "scene": {
                      "xaxis": {
                        "backgroundcolor": "#E5ECF6",
                        "gridcolor": "white",
                        "gridwidth": 2,
                        "linecolor": "white",
                        "showbackground": true,
                        "ticks": "",
                        "zerolinecolor": "white"
                      },
                      "yaxis": {
                        "backgroundcolor": "#E5ECF6",
                        "gridcolor": "white",
                        "gridwidth": 2,
                        "linecolor": "white",
                        "showbackground": true,
                        "ticks": "",
                        "zerolinecolor": "white"
                      },
                      "zaxis": {
                        "backgroundcolor": "#E5ECF6",
                        "gridcolor": "white",
                        "gridwidth": 2,
                        "linecolor": "white",
                        "showbackground": true,
                        "ticks": "",
                        "zerolinecolor": "white"
                      }
                    },
                    "shapedefaults": {
                      "line": {
                        "color": "#2a3f5f"
                      }
                    },
                    "ternary": {
                      "aaxis": {
                        "gridcolor": "white",
                        "linecolor": "white",
                        "ticks": ""
                      },
                      "baxis": {
                        "gridcolor": "white",
                        "linecolor": "white",
                        "ticks": ""
                      },
                      "bgcolor": "#E5ECF6",
                      "caxis": {
                        "gridcolor": "white",
                        "linecolor": "white",
                        "ticks": ""
                      }
                    },
                    "title": {
                      "x": 0.05
                    },
                    "xaxis": {
                      "automargin": true,
                      "gridcolor": "white",
                      "linecolor": "white",
                      "ticks": "",
                      "title": {
                        "standoff": 15
                      },
                      "zerolinecolor": "white",
                      "zerolinewidth": 2
                    },
                    "yaxis": {
                      "automargin": true,
                      "gridcolor": "white",
                      "linecolor": "white",
                      "ticks": "",
                      "title": {
                        "standoff": 15
                      },
                      "zerolinecolor": "white",
                      "zerolinewidth": 2
                    }
                  }
                }
              }
            }
          },
          "metadata": {},
          "output_type": "display_data"
        }
      ],
      "source": [
        "import plotly.graph_objects as go\n",
        "\n",
        "fig = go.Figure([go.Scatter(name='Actual', x=df['Date'], y=df['Price'], mode='markers')])\n",
        "\n",
        "fig.add_trace(go.Scatter(name='Forecast', x=df_forecast_arima['Date'], y=df_forecast_arima['Price']))\n",
        "fig.show()"
      ]
    },
    {
      "cell_type": "markdown",
      "metadata": {
        "id": "etphgiwThVr2"
      },
      "source": [
        "> Catatan:\n",
        ">\n",
        "> - **Strategi Penyetelan**: Kami menetapkan \\( d = 1 \\) (urutan pembedaan) dan melakukan pencarian grid pada nilai \\( p \\) dan \\( q \\) (kisaran 0 hingga 10) untuk menemukan model terbaik menggunakan RMSE (root mean squared error).\n",
        ">\n",
        "> - **Pemilihan Model Terbaik**: Model dengan RMSE terendah dipilih sebagai model ARIMA terbaik untuk peramalan dengan orde (6, 1, 9).\n",
        ">\n",
        "> - **Evaluasi**: Model ARIMA terpilih digunakan untuk meramalkan 64 bulan ke depan, dan keakuratannya dievaluasi dengan menggunakan RMSE pada data uji dengan nilai **65,9**."
      ]
    },
    {
      "cell_type": "markdown",
      "metadata": {
        "id": "__NHDqU7hVr3"
      },
      "source": [
        "#### **SARIMA**"
      ]
    },
    {
      "cell_type": "code",
      "execution_count": 13,
      "metadata": {
        "colab": {
          "base_uri": "https://localhost:8080/",
          "height": 204
        },
        "id": "-RGuiEsThVr4",
        "outputId": "8ed1fab0-23fe-4317-8a6d-b53112046ba2"
      },
      "outputs": [
        {
          "data": {
            "text/html": [
              "<div>\n",
              "<style scoped>\n",
              "    .dataframe tbody tr th:only-of-type {\n",
              "        vertical-align: middle;\n",
              "    }\n",
              "\n",
              "    .dataframe tbody tr th {\n",
              "        vertical-align: top;\n",
              "    }\n",
              "\n",
              "    .dataframe thead th {\n",
              "        text-align: right;\n",
              "    }\n",
              "</style>\n",
              "<table border=\"1\" class=\"dataframe\">\n",
              "  <thead>\n",
              "    <tr style=\"text-align: right;\">\n",
              "      <th></th>\n",
              "      <th>order</th>\n",
              "      <th>seasonal_order</th>\n",
              "      <th>rmse</th>\n",
              "    </tr>\n",
              "  </thead>\n",
              "  <tbody>\n",
              "    <tr>\n",
              "      <th>6</th>\n",
              "      <td>(0, 1, 1)</td>\n",
              "      <td>(1, 1, 0, 12)</td>\n",
              "      <td>191.513035</td>\n",
              "    </tr>\n",
              "    <tr>\n",
              "      <th>22</th>\n",
              "      <td>(1, 1, 0)</td>\n",
              "      <td>(1, 1, 0, 12)</td>\n",
              "      <td>191.641958</td>\n",
              "    </tr>\n",
              "    <tr>\n",
              "      <th>2</th>\n",
              "      <td>(0, 1, 0)</td>\n",
              "      <td>(1, 1, 0, 12)</td>\n",
              "      <td>192.352175</td>\n",
              "    </tr>\n",
              "    <tr>\n",
              "      <th>50</th>\n",
              "      <td>(2, 1, 2)</td>\n",
              "      <td>(1, 1, 0, 12)</td>\n",
              "      <td>194.660771</td>\n",
              "    </tr>\n",
              "    <tr>\n",
              "      <th>54</th>\n",
              "      <td>(2, 1, 3)</td>\n",
              "      <td>(1, 1, 0, 12)</td>\n",
              "      <td>194.888020</td>\n",
              "    </tr>\n",
              "  </tbody>\n",
              "</table>\n",
              "</div>"
            ],
            "text/plain": [
              "        order seasonal_order        rmse\n",
              "6   (0, 1, 1)  (1, 1, 0, 12)  191.513035\n",
              "22  (1, 1, 0)  (1, 1, 0, 12)  191.641958\n",
              "2   (0, 1, 0)  (1, 1, 0, 12)  192.352175\n",
              "50  (2, 1, 2)  (1, 1, 0, 12)  194.660771\n",
              "54  (2, 1, 3)  (1, 1, 0, 12)  194.888020"
            ]
          },
          "execution_count": 13,
          "metadata": {},
          "output_type": "execute_result"
        }
      ],
      "source": [
        "import itertools\n",
        "\n",
        "p = q = range(0, 5)\n",
        "d = 1\n",
        "P = Q = range(0, 2)\n",
        "D = 1\n",
        "s = 12\n",
        "\n",
        "pdq = [(x, d, y) for x, y in itertools.product(p, q)]\n",
        "seasonal_pdq = [(x, D, y, s) for x, y in itertools.product(P, Q)]\n",
        "\n",
        "results = []\n",
        "\n",
        "for param in pdq:\n",
        "    for seasonal_param in seasonal_pdq:\n",
        "        try:\n",
        "            model = SARIMAX(df_train['Price'], order=param, seasonal_order=seasonal_param)\n",
        "\n",
        "            model_fit = model.fit(disp=False)\n",
        "\n",
        "            forecast_steps = len(df_test)\n",
        "            sarima_forecast = model_fit.forecast(steps=forecast_steps)\n",
        "\n",
        "            sarima_rmse = mean_squared_error(df_test['Price'], sarima_forecast, squared=False)\n",
        "\n",
        "            results.append((param, seasonal_param, sarima_rmse))\n",
        "\n",
        "        except Exception as e:\n",
        "            continue\n",
        "\n",
        "# Convert the results to a DataFrame and sort based on RMSE in ascending order\n",
        "sorted_results = pd.DataFrame(results, columns=['order', 'seasonal_order', 'rmse']).sort_values('rmse', ascending=True)\n",
        "\n",
        "sorted_results.head()"
      ]
    },
    {
      "cell_type": "markdown",
      "metadata": {
        "id": "sV0MkUOUhVr5"
      },
      "source": [
        "> Catatan:\n",
        ">\n",
        "> - **Penyiapan Model**: SARIMA memperluas ARIMA dengan memasukkan parameter non-musiman \\((p, d, q) \\) dan parameter musiman \\((P, D, Q, s) \\) untuk menangkap pola musiman. Kami menggunakan pencarian grid untuk menguji berbagai kombinasi parameter ini.\n",
        ">\n",
        "> - **Evaluasi**: Setiap kombinasi parameter dievaluasi menggunakan **RMSE** pada data uji. Model dengan RMSE terendah dipilih sebagai model dengan kinerja terbaik.\n",
        ">\n",
        "> - **Perbedaan Utama dari ARIMA**: Tidak seperti ARIMA, SARIMA memperhitungkan **musiman** dengan menambahkan istilah musiman \\((P, D, Q, s) \\), yang membantu memodelkan pola siklus yang berulang dalam periode yang tetap (seperti tren bulanan)."
      ]
    },
    {
      "cell_type": "code",
      "execution_count": 14,
      "metadata": {
        "colab": {
          "base_uri": "https://localhost:8080/"
        },
        "id": "4Nd3m7gGhVr6",
        "outputId": "551cff84-05c0-4d30-b72c-b85598524431"
      },
      "outputs": [
        {
          "data": {
            "text/plain": [
              "191.51303460596344"
            ]
          },
          "execution_count": 14,
          "metadata": {},
          "output_type": "execute_result"
        }
      ],
      "source": [
        "model=SARIMAX(df_train['Price'],order=sorted_results.iloc[0]['order'], seasonal_order=sorted_results.iloc[0]['seasonal_order'])\n",
        "\n",
        "model_fit=model.fit()\n",
        "\n",
        "forecast_length=64\n",
        "forecast_result=model_fit.forecast(forecast_length)\n",
        "\n",
        "root_mean_squared_error(df_test['Price'], forecast_result)"
      ]
    },
    {
      "cell_type": "code",
      "execution_count": 15,
      "metadata": {
        "colab": {
          "base_uri": "https://localhost:8080/",
          "height": 419
        },
        "id": "4fkKvxZchVr6",
        "outputId": "7ecfc82e-9b21-4bfb-c747-db3eecc93a29"
      },
      "outputs": [
        {
          "data": {
            "text/html": [
              "<div>\n",
              "<style scoped>\n",
              "    .dataframe tbody tr th:only-of-type {\n",
              "        vertical-align: middle;\n",
              "    }\n",
              "\n",
              "    .dataframe tbody tr th {\n",
              "        vertical-align: top;\n",
              "    }\n",
              "\n",
              "    .dataframe thead th {\n",
              "        text-align: right;\n",
              "    }\n",
              "</style>\n",
              "<table border=\"1\" class=\"dataframe\">\n",
              "  <thead>\n",
              "    <tr style=\"text-align: right;\">\n",
              "      <th></th>\n",
              "      <th>Date</th>\n",
              "      <th>Price</th>\n",
              "    </tr>\n",
              "  </thead>\n",
              "  <tbody>\n",
              "    <tr>\n",
              "      <th>88</th>\n",
              "      <td>2013-06</td>\n",
              "      <td>1423.028475</td>\n",
              "    </tr>\n",
              "    <tr>\n",
              "      <th>89</th>\n",
              "      <td>2013-07</td>\n",
              "      <td>1442.197902</td>\n",
              "    </tr>\n",
              "    <tr>\n",
              "      <th>90</th>\n",
              "      <td>2013-08</td>\n",
              "      <td>1556.047353</td>\n",
              "    </tr>\n",
              "    <tr>\n",
              "      <th>91</th>\n",
              "      <td>2013-09</td>\n",
              "      <td>1623.591763</td>\n",
              "    </tr>\n",
              "    <tr>\n",
              "      <th>92</th>\n",
              "      <td>2013-10</td>\n",
              "      <td>1568.007367</td>\n",
              "    </tr>\n",
              "    <tr>\n",
              "      <th>...</th>\n",
              "      <td>...</td>\n",
              "      <td>...</td>\n",
              "    </tr>\n",
              "    <tr>\n",
              "      <th>147</th>\n",
              "      <td>2018-05</td>\n",
              "      <td>986.491048</td>\n",
              "    </tr>\n",
              "    <tr>\n",
              "      <th>148</th>\n",
              "      <td>2018-06</td>\n",
              "      <td>994.650080</td>\n",
              "    </tr>\n",
              "    <tr>\n",
              "      <th>149</th>\n",
              "      <td>2018-07</td>\n",
              "      <td>1006.100236</td>\n",
              "    </tr>\n",
              "    <tr>\n",
              "      <th>150</th>\n",
              "      <td>2018-08</td>\n",
              "      <td>1091.568256</td>\n",
              "    </tr>\n",
              "    <tr>\n",
              "      <th>151</th>\n",
              "      <td>2018-09</td>\n",
              "      <td>1176.186304</td>\n",
              "    </tr>\n",
              "  </tbody>\n",
              "</table>\n",
              "<p>64 rows × 2 columns</p>\n",
              "</div>"
            ],
            "text/plain": [
              "        Date        Price\n",
              "88   2013-06  1423.028475\n",
              "89   2013-07  1442.197902\n",
              "90   2013-08  1556.047353\n",
              "91   2013-09  1623.591763\n",
              "92   2013-10  1568.007367\n",
              "..       ...          ...\n",
              "147  2018-05   986.491048\n",
              "148  2018-06   994.650080\n",
              "149  2018-07  1006.100236\n",
              "150  2018-08  1091.568256\n",
              "151  2018-09  1176.186304\n",
              "\n",
              "[64 rows x 2 columns]"
            ]
          },
          "execution_count": 15,
          "metadata": {},
          "output_type": "execute_result"
        }
      ],
      "source": [
        "month=list(df_test['Date'].unique())\n",
        "\n",
        "df_forecast_sarima=pd.DataFrame({'Date':month,'Price':forecast_result})\n",
        "df_forecast_sarima"
      ]
    },
    {
      "cell_type": "code",
      "execution_count": 16,
      "metadata": {
        "colab": {
          "base_uri": "https://localhost:8080/",
          "height": 542
        },
        "id": "2WD87ntshVr6",
        "outputId": "9d309c79-6a13-4aa4-8dd6-33bda90a5cd8"
      },
      "outputs": [
        {
          "data": {
            "application/vnd.plotly.v1+json": {
              "config": {
                "plotlyServerURL": "https://plot.ly"
              },
              "data": [
                {
                  "mode": "markers",
                  "name": "Actual",
                  "type": "scatter",
                  "x": [
                    "2003-02",
                    "2003-03",
                    "2003-04",
                    "2003-05",
                    "2003-06",
                    "2003-07",
                    "2003-08",
                    "2003-09",
                    "2003-10",
                    "2003-11",
                    "2003-12",
                    "2004-01",
                    "2004-02",
                    "2004-03",
                    "2004-04",
                    "2004-05",
                    "2004-06",
                    "2004-07",
                    "2004-08",
                    "2004-09",
                    "2004-10",
                    "2004-11",
                    "2004-12",
                    "2005-01",
                    "2005-02",
                    "2005-03",
                    "2005-04",
                    "2005-05",
                    "2005-06",
                    "2005-07",
                    "2005-08",
                    "2005-09",
                    "2005-10",
                    "2005-11",
                    "2005-12",
                    "2006-01",
                    "2006-02",
                    "2006-03",
                    "2006-04",
                    "2006-05",
                    "2006-06",
                    "2006-07",
                    "2006-08",
                    "2006-09",
                    "2006-10",
                    "2006-11",
                    "2006-12",
                    "2007-01",
                    "2007-02",
                    "2007-03",
                    "2007-04",
                    "2007-05",
                    "2007-06",
                    "2007-07",
                    "2007-08",
                    "2007-09",
                    "2007-10",
                    "2007-11",
                    "2007-12",
                    "2008-01",
                    "2008-02",
                    "2008-03",
                    "2008-04",
                    "2008-05",
                    "2008-06",
                    "2008-07",
                    "2008-08",
                    "2008-09",
                    "2008-10",
                    "2008-11",
                    "2008-12",
                    "2009-01",
                    "2009-02",
                    "2009-03",
                    "2009-04",
                    "2009-05",
                    "2009-06",
                    "2009-07",
                    "2009-08",
                    "2009-09",
                    "2009-10",
                    "2009-11",
                    "2009-12",
                    "2010-01",
                    "2010-02",
                    "2010-03",
                    "2010-04",
                    "2010-05",
                    "2010-06",
                    "2010-07",
                    "2010-08",
                    "2010-09",
                    "2010-10",
                    "2010-11",
                    "2010-12",
                    "2011-01",
                    "2011-02",
                    "2011-03",
                    "2011-04",
                    "2011-05",
                    "2011-06",
                    "2011-07",
                    "2011-08",
                    "2011-09",
                    "2011-10",
                    "2011-11",
                    "2011-12",
                    "2012-01",
                    "2012-02",
                    "2012-03",
                    "2012-04",
                    "2012-05",
                    "2012-06",
                    "2012-07",
                    "2012-08",
                    "2012-09",
                    "2012-10",
                    "2012-11",
                    "2012-12",
                    "2013-01",
                    "2013-02",
                    "2013-03",
                    "2013-04",
                    "2013-05",
                    "2013-06",
                    "2013-07",
                    "2013-08",
                    "2013-09",
                    "2013-10",
                    "2013-11",
                    "2013-12",
                    "2014-01",
                    "2014-02",
                    "2014-03",
                    "2014-04",
                    "2014-05",
                    "2014-06",
                    "2014-07",
                    "2014-08",
                    "2014-09",
                    "2014-10",
                    "2014-11",
                    "2014-12",
                    "2015-01",
                    "2015-02",
                    "2015-03",
                    "2015-04",
                    "2015-05",
                    "2015-06",
                    "2015-07",
                    "2015-08",
                    "2015-09",
                    "2015-10",
                    "2015-11",
                    "2015-12",
                    "2016-01",
                    "2016-02",
                    "2016-03",
                    "2016-04",
                    "2016-05",
                    "2016-06",
                    "2016-07",
                    "2016-08",
                    "2016-09",
                    "2016-10",
                    "2016-11",
                    "2016-12",
                    "2017-01",
                    "2017-02",
                    "2017-03",
                    "2017-04",
                    "2017-05",
                    "2017-06",
                    "2017-07",
                    "2017-08",
                    "2017-09",
                    "2017-10",
                    "2017-11",
                    "2017-12",
                    "2018-01",
                    "2018-02",
                    "2018-03",
                    "2018-04",
                    "2018-05",
                    "2018-06",
                    "2018-07",
                    "2018-08",
                    "2018-09"
                  ],
                  "y": [
                    359.575,
                    341.564,
                    328.208,
                    355.405,
                    356.912,
                    350.765,
                    358.993,
                    378.859,
                    379.093,
                    390.2,
                    407.674,
                    414.495,
                    404.73,
                    405.976,
                    404.85,
                    383.953,
                    391.78,
                    398.441,
                    400.133,
                    405.402,
                    420.21,
                    439.059,
                    442.974,
                    424.08,
                    423.43,
                    434.355,
                    429.14,
                    422.903,
                    430.302,
                    424.745,
                    437.773,
                    455.936,
                    470.107,
                    476.668,
                    509.423,
                    549.433,
                    555.518,
                    557.215,
                    611.853,
                    676.769,
                    597.898,
                    633.093,
                    631.557,
                    600.15,
                    586.648,
                    626.825,
                    629.513,
                    630.352,
                    665.103,
                    655.891,
                    680.008,
                    668.31,
                    655.714,
                    665.266,
                    664.53,
                    710.645,
                    754.48,
                    808.311,
                    803.618,
                    887.784,
                    924.283,
                    971.055,
                    911.6,
                    889.125,
                    889.536,
                    941.167,
                    840.388,
                    824.92,
                    812.815,
                    757.85,
                    819.94,
                    857.726,
                    939.763,
                    925.989,
                    892.663,
                    926.855,
                    947.807,
                    934.272,
                    949.5,
                    996.443,
                    1043.511,
                    1126.119,
                    1135.012,
                    1119.575,
                    1095.8,
                    1115.554,
                    1148.475,
                    1204.321,
                    1232.382,
                    1196,
                    1213.464,
                    1271.461,
                    1343.19,
                    1371.784,
                    1393.512,
                    1360.475,
                    1371.313,
                    1422.848,
                    1474.431,
                    1512.188,
                    1528.38,
                    1568.526,
                    1759.5,
                    1780.648,
                    1667.893,
                    1735.977,
                    1652.725,
                    1656.095,
                    1743.095,
                    1675.057,
                    1648.539,
                    1585.114,
                    1595.632,
                    1592.784,
                    1625.682,
                    1741.925,
                    1746.348,
                    1724.352,
                    1687.342,
                    1671.886,
                    1630.688,
                    1591.013,
                    1485.905,
                    1416.143,
                    1342.7,
                    1284.348,
                    1345.048,
                    1348.464,
                    1314.402,
                    1277.417,
                    1221.588,
                    1243.068,
                    1298.713,
                    1336.56,
                    1299.175,
                    1288.913,
                    1277.857,
                    1312.989,
                    1297.005,
                    1241.33,
                    1223.565,
                    1176.413,
                    1200.44,
                    1249.333,
                    1231.1,
                    1180.636,
                    1198.253,
                    1197.684,
                    1182.248,
                    1131.58,
                    1117.525,
                    1124.905,
                    1157.123,
                    1088.388,
                    1068.317,
                    1095.655,
                    1194.893,
                    1246.312,
                    1241.452,
                    1259.755,
                    1273.58,
                    1337.429,
                    1340.861,
                    1326.618,
                    1268.929,
                    1240.293,
                    1152.165,
                    1192.648,
                    1233.39,
                    1231.063,
                    1267.15,
                    1245.25,
                    1261.277,
                    1235.1,
                    1281.72,
                    1317.045,
                    1280.677,
                    1283.189,
                    1265.674,
                    1332.809,
                    1333.775,
                    1325.562,
                    1335.332,
                    1303.618,
                    1282.126,
                    1238.064,
                    1201.859,
                    1199.198
                  ]
                },
                {
                  "name": "Forecast",
                  "type": "scatter",
                  "x": [
                    "2013-06",
                    "2013-07",
                    "2013-08",
                    "2013-09",
                    "2013-10",
                    "2013-11",
                    "2013-12",
                    "2014-01",
                    "2014-02",
                    "2014-03",
                    "2014-04",
                    "2014-05",
                    "2014-06",
                    "2014-07",
                    "2014-08",
                    "2014-09",
                    "2014-10",
                    "2014-11",
                    "2014-12",
                    "2015-01",
                    "2015-02",
                    "2015-03",
                    "2015-04",
                    "2015-05",
                    "2015-06",
                    "2015-07",
                    "2015-08",
                    "2015-09",
                    "2015-10",
                    "2015-11",
                    "2015-12",
                    "2016-01",
                    "2016-02",
                    "2016-03",
                    "2016-04",
                    "2016-05",
                    "2016-06",
                    "2016-07",
                    "2016-08",
                    "2016-09",
                    "2016-10",
                    "2016-11",
                    "2016-12",
                    "2017-01",
                    "2017-02",
                    "2017-03",
                    "2017-04",
                    "2017-05",
                    "2017-06",
                    "2017-07",
                    "2017-08",
                    "2017-09",
                    "2017-10",
                    "2017-11",
                    "2017-12",
                    "2018-01",
                    "2018-02",
                    "2018-03",
                    "2018-04",
                    "2018-05",
                    "2018-06",
                    "2018-07",
                    "2018-08",
                    "2018-09"
                  ],
                  "y": [
                    1423.0284751774304,
                    1442.1979015150362,
                    1556.0473525487473,
                    1623.5917630345214,
                    1568.007367040011,
                    1592.1417518493224,
                    1531.4510096828906,
                    1525.6358913927052,
                    1550.0886803778749,
                    1495.8888568393925,
                    1431.0271594833066,
                    1364.5103665052495,
                    1373.2560744523792,
                    1381.1502748856285,
                    1453.544113274388,
                    1546.0272967837184,
                    1521.1729659383143,
                    1521.6837672368003,
                    1473.1200427069982,
                    1462.3677842838777,
                    1453.2005004568719,
                    1406.4389062602804,
                    1320.9668910965152,
                    1252.7882125866186,
                    1260.5812867248994,
                    1274.2495825153853,
                    1367.8730319589558,
                    1447.5849544086864,
                    1406.9936150092917,
                    1419.6021627323923,
                    1364.8281363579297,
                    1356.6042102415342,
                    1364.653921265136,
                    1314.0831754051192,
                    1239.1657993567007,
                    1171.8381801173723,
                    1180.119102437098,
                    1190.8304572778172,
                    1273.5821246686519,
                    1359.8342690009258,
                    1327.301924498767,
                    1333.7151603003206,
                    1282.1214582362059,
                    1272.602761446686,
                    1271.8355697425072,
                    1223.2155080746622,
                    1142.8930524978873,
                    1075.1296018681633,
                    1083.1606948768479,
                    1095.3863128600087,
                    1183.7054701448897,
                    1266.6083365888421,
                    1229.9489435100206,
                    1239.534827212936,
                    1186.3124663538083,
                    1177.4568276170307,
                    1181.204812596453,
                    1131.5857965277828,
                    1054.0313071873313,
                    986.4910478292649,
                    994.6500795841193,
                    1006.1002364053866,
                    1091.5682563541852,
                    1176.186303502196
                  ]
                }
              ],
              "layout": {
                "template": {
                  "data": {
                    "bar": [
                      {
                        "error_x": {
                          "color": "#2a3f5f"
                        },
                        "error_y": {
                          "color": "#2a3f5f"
                        },
                        "marker": {
                          "line": {
                            "color": "#E5ECF6",
                            "width": 0.5
                          },
                          "pattern": {
                            "fillmode": "overlay",
                            "size": 10,
                            "solidity": 0.2
                          }
                        },
                        "type": "bar"
                      }
                    ],
                    "barpolar": [
                      {
                        "marker": {
                          "line": {
                            "color": "#E5ECF6",
                            "width": 0.5
                          },
                          "pattern": {
                            "fillmode": "overlay",
                            "size": 10,
                            "solidity": 0.2
                          }
                        },
                        "type": "barpolar"
                      }
                    ],
                    "carpet": [
                      {
                        "aaxis": {
                          "endlinecolor": "#2a3f5f",
                          "gridcolor": "white",
                          "linecolor": "white",
                          "minorgridcolor": "white",
                          "startlinecolor": "#2a3f5f"
                        },
                        "baxis": {
                          "endlinecolor": "#2a3f5f",
                          "gridcolor": "white",
                          "linecolor": "white",
                          "minorgridcolor": "white",
                          "startlinecolor": "#2a3f5f"
                        },
                        "type": "carpet"
                      }
                    ],
                    "choropleth": [
                      {
                        "colorbar": {
                          "outlinewidth": 0,
                          "ticks": ""
                        },
                        "type": "choropleth"
                      }
                    ],
                    "contour": [
                      {
                        "colorbar": {
                          "outlinewidth": 0,
                          "ticks": ""
                        },
                        "colorscale": [
                          [
                            0,
                            "#0d0887"
                          ],
                          [
                            0.1111111111111111,
                            "#46039f"
                          ],
                          [
                            0.2222222222222222,
                            "#7201a8"
                          ],
                          [
                            0.3333333333333333,
                            "#9c179e"
                          ],
                          [
                            0.4444444444444444,
                            "#bd3786"
                          ],
                          [
                            0.5555555555555556,
                            "#d8576b"
                          ],
                          [
                            0.6666666666666666,
                            "#ed7953"
                          ],
                          [
                            0.7777777777777778,
                            "#fb9f3a"
                          ],
                          [
                            0.8888888888888888,
                            "#fdca26"
                          ],
                          [
                            1,
                            "#f0f921"
                          ]
                        ],
                        "type": "contour"
                      }
                    ],
                    "contourcarpet": [
                      {
                        "colorbar": {
                          "outlinewidth": 0,
                          "ticks": ""
                        },
                        "type": "contourcarpet"
                      }
                    ],
                    "heatmap": [
                      {
                        "colorbar": {
                          "outlinewidth": 0,
                          "ticks": ""
                        },
                        "colorscale": [
                          [
                            0,
                            "#0d0887"
                          ],
                          [
                            0.1111111111111111,
                            "#46039f"
                          ],
                          [
                            0.2222222222222222,
                            "#7201a8"
                          ],
                          [
                            0.3333333333333333,
                            "#9c179e"
                          ],
                          [
                            0.4444444444444444,
                            "#bd3786"
                          ],
                          [
                            0.5555555555555556,
                            "#d8576b"
                          ],
                          [
                            0.6666666666666666,
                            "#ed7953"
                          ],
                          [
                            0.7777777777777778,
                            "#fb9f3a"
                          ],
                          [
                            0.8888888888888888,
                            "#fdca26"
                          ],
                          [
                            1,
                            "#f0f921"
                          ]
                        ],
                        "type": "heatmap"
                      }
                    ],
                    "heatmapgl": [
                      {
                        "colorbar": {
                          "outlinewidth": 0,
                          "ticks": ""
                        },
                        "colorscale": [
                          [
                            0,
                            "#0d0887"
                          ],
                          [
                            0.1111111111111111,
                            "#46039f"
                          ],
                          [
                            0.2222222222222222,
                            "#7201a8"
                          ],
                          [
                            0.3333333333333333,
                            "#9c179e"
                          ],
                          [
                            0.4444444444444444,
                            "#bd3786"
                          ],
                          [
                            0.5555555555555556,
                            "#d8576b"
                          ],
                          [
                            0.6666666666666666,
                            "#ed7953"
                          ],
                          [
                            0.7777777777777778,
                            "#fb9f3a"
                          ],
                          [
                            0.8888888888888888,
                            "#fdca26"
                          ],
                          [
                            1,
                            "#f0f921"
                          ]
                        ],
                        "type": "heatmapgl"
                      }
                    ],
                    "histogram": [
                      {
                        "marker": {
                          "pattern": {
                            "fillmode": "overlay",
                            "size": 10,
                            "solidity": 0.2
                          }
                        },
                        "type": "histogram"
                      }
                    ],
                    "histogram2d": [
                      {
                        "colorbar": {
                          "outlinewidth": 0,
                          "ticks": ""
                        },
                        "colorscale": [
                          [
                            0,
                            "#0d0887"
                          ],
                          [
                            0.1111111111111111,
                            "#46039f"
                          ],
                          [
                            0.2222222222222222,
                            "#7201a8"
                          ],
                          [
                            0.3333333333333333,
                            "#9c179e"
                          ],
                          [
                            0.4444444444444444,
                            "#bd3786"
                          ],
                          [
                            0.5555555555555556,
                            "#d8576b"
                          ],
                          [
                            0.6666666666666666,
                            "#ed7953"
                          ],
                          [
                            0.7777777777777778,
                            "#fb9f3a"
                          ],
                          [
                            0.8888888888888888,
                            "#fdca26"
                          ],
                          [
                            1,
                            "#f0f921"
                          ]
                        ],
                        "type": "histogram2d"
                      }
                    ],
                    "histogram2dcontour": [
                      {
                        "colorbar": {
                          "outlinewidth": 0,
                          "ticks": ""
                        },
                        "colorscale": [
                          [
                            0,
                            "#0d0887"
                          ],
                          [
                            0.1111111111111111,
                            "#46039f"
                          ],
                          [
                            0.2222222222222222,
                            "#7201a8"
                          ],
                          [
                            0.3333333333333333,
                            "#9c179e"
                          ],
                          [
                            0.4444444444444444,
                            "#bd3786"
                          ],
                          [
                            0.5555555555555556,
                            "#d8576b"
                          ],
                          [
                            0.6666666666666666,
                            "#ed7953"
                          ],
                          [
                            0.7777777777777778,
                            "#fb9f3a"
                          ],
                          [
                            0.8888888888888888,
                            "#fdca26"
                          ],
                          [
                            1,
                            "#f0f921"
                          ]
                        ],
                        "type": "histogram2dcontour"
                      }
                    ],
                    "mesh3d": [
                      {
                        "colorbar": {
                          "outlinewidth": 0,
                          "ticks": ""
                        },
                        "type": "mesh3d"
                      }
                    ],
                    "parcoords": [
                      {
                        "line": {
                          "colorbar": {
                            "outlinewidth": 0,
                            "ticks": ""
                          }
                        },
                        "type": "parcoords"
                      }
                    ],
                    "pie": [
                      {
                        "automargin": true,
                        "type": "pie"
                      }
                    ],
                    "scatter": [
                      {
                        "fillpattern": {
                          "fillmode": "overlay",
                          "size": 10,
                          "solidity": 0.2
                        },
                        "type": "scatter"
                      }
                    ],
                    "scatter3d": [
                      {
                        "line": {
                          "colorbar": {
                            "outlinewidth": 0,
                            "ticks": ""
                          }
                        },
                        "marker": {
                          "colorbar": {
                            "outlinewidth": 0,
                            "ticks": ""
                          }
                        },
                        "type": "scatter3d"
                      }
                    ],
                    "scattercarpet": [
                      {
                        "marker": {
                          "colorbar": {
                            "outlinewidth": 0,
                            "ticks": ""
                          }
                        },
                        "type": "scattercarpet"
                      }
                    ],
                    "scattergeo": [
                      {
                        "marker": {
                          "colorbar": {
                            "outlinewidth": 0,
                            "ticks": ""
                          }
                        },
                        "type": "scattergeo"
                      }
                    ],
                    "scattergl": [
                      {
                        "marker": {
                          "colorbar": {
                            "outlinewidth": 0,
                            "ticks": ""
                          }
                        },
                        "type": "scattergl"
                      }
                    ],
                    "scattermapbox": [
                      {
                        "marker": {
                          "colorbar": {
                            "outlinewidth": 0,
                            "ticks": ""
                          }
                        },
                        "type": "scattermapbox"
                      }
                    ],
                    "scatterpolar": [
                      {
                        "marker": {
                          "colorbar": {
                            "outlinewidth": 0,
                            "ticks": ""
                          }
                        },
                        "type": "scatterpolar"
                      }
                    ],
                    "scatterpolargl": [
                      {
                        "marker": {
                          "colorbar": {
                            "outlinewidth": 0,
                            "ticks": ""
                          }
                        },
                        "type": "scatterpolargl"
                      }
                    ],
                    "scatterternary": [
                      {
                        "marker": {
                          "colorbar": {
                            "outlinewidth": 0,
                            "ticks": ""
                          }
                        },
                        "type": "scatterternary"
                      }
                    ],
                    "surface": [
                      {
                        "colorbar": {
                          "outlinewidth": 0,
                          "ticks": ""
                        },
                        "colorscale": [
                          [
                            0,
                            "#0d0887"
                          ],
                          [
                            0.1111111111111111,
                            "#46039f"
                          ],
                          [
                            0.2222222222222222,
                            "#7201a8"
                          ],
                          [
                            0.3333333333333333,
                            "#9c179e"
                          ],
                          [
                            0.4444444444444444,
                            "#bd3786"
                          ],
                          [
                            0.5555555555555556,
                            "#d8576b"
                          ],
                          [
                            0.6666666666666666,
                            "#ed7953"
                          ],
                          [
                            0.7777777777777778,
                            "#fb9f3a"
                          ],
                          [
                            0.8888888888888888,
                            "#fdca26"
                          ],
                          [
                            1,
                            "#f0f921"
                          ]
                        ],
                        "type": "surface"
                      }
                    ],
                    "table": [
                      {
                        "cells": {
                          "fill": {
                            "color": "#EBF0F8"
                          },
                          "line": {
                            "color": "white"
                          }
                        },
                        "header": {
                          "fill": {
                            "color": "#C8D4E3"
                          },
                          "line": {
                            "color": "white"
                          }
                        },
                        "type": "table"
                      }
                    ]
                  },
                  "layout": {
                    "annotationdefaults": {
                      "arrowcolor": "#2a3f5f",
                      "arrowhead": 0,
                      "arrowwidth": 1
                    },
                    "autotypenumbers": "strict",
                    "coloraxis": {
                      "colorbar": {
                        "outlinewidth": 0,
                        "ticks": ""
                      }
                    },
                    "colorscale": {
                      "diverging": [
                        [
                          0,
                          "#8e0152"
                        ],
                        [
                          0.1,
                          "#c51b7d"
                        ],
                        [
                          0.2,
                          "#de77ae"
                        ],
                        [
                          0.3,
                          "#f1b6da"
                        ],
                        [
                          0.4,
                          "#fde0ef"
                        ],
                        [
                          0.5,
                          "#f7f7f7"
                        ],
                        [
                          0.6,
                          "#e6f5d0"
                        ],
                        [
                          0.7,
                          "#b8e186"
                        ],
                        [
                          0.8,
                          "#7fbc41"
                        ],
                        [
                          0.9,
                          "#4d9221"
                        ],
                        [
                          1,
                          "#276419"
                        ]
                      ],
                      "sequential": [
                        [
                          0,
                          "#0d0887"
                        ],
                        [
                          0.1111111111111111,
                          "#46039f"
                        ],
                        [
                          0.2222222222222222,
                          "#7201a8"
                        ],
                        [
                          0.3333333333333333,
                          "#9c179e"
                        ],
                        [
                          0.4444444444444444,
                          "#bd3786"
                        ],
                        [
                          0.5555555555555556,
                          "#d8576b"
                        ],
                        [
                          0.6666666666666666,
                          "#ed7953"
                        ],
                        [
                          0.7777777777777778,
                          "#fb9f3a"
                        ],
                        [
                          0.8888888888888888,
                          "#fdca26"
                        ],
                        [
                          1,
                          "#f0f921"
                        ]
                      ],
                      "sequentialminus": [
                        [
                          0,
                          "#0d0887"
                        ],
                        [
                          0.1111111111111111,
                          "#46039f"
                        ],
                        [
                          0.2222222222222222,
                          "#7201a8"
                        ],
                        [
                          0.3333333333333333,
                          "#9c179e"
                        ],
                        [
                          0.4444444444444444,
                          "#bd3786"
                        ],
                        [
                          0.5555555555555556,
                          "#d8576b"
                        ],
                        [
                          0.6666666666666666,
                          "#ed7953"
                        ],
                        [
                          0.7777777777777778,
                          "#fb9f3a"
                        ],
                        [
                          0.8888888888888888,
                          "#fdca26"
                        ],
                        [
                          1,
                          "#f0f921"
                        ]
                      ]
                    },
                    "colorway": [
                      "#636efa",
                      "#EF553B",
                      "#00cc96",
                      "#ab63fa",
                      "#FFA15A",
                      "#19d3f3",
                      "#FF6692",
                      "#B6E880",
                      "#FF97FF",
                      "#FECB52"
                    ],
                    "font": {
                      "color": "#2a3f5f"
                    },
                    "geo": {
                      "bgcolor": "white",
                      "lakecolor": "white",
                      "landcolor": "#E5ECF6",
                      "showlakes": true,
                      "showland": true,
                      "subunitcolor": "white"
                    },
                    "hoverlabel": {
                      "align": "left"
                    },
                    "hovermode": "closest",
                    "mapbox": {
                      "style": "light"
                    },
                    "paper_bgcolor": "white",
                    "plot_bgcolor": "#E5ECF6",
                    "polar": {
                      "angularaxis": {
                        "gridcolor": "white",
                        "linecolor": "white",
                        "ticks": ""
                      },
                      "bgcolor": "#E5ECF6",
                      "radialaxis": {
                        "gridcolor": "white",
                        "linecolor": "white",
                        "ticks": ""
                      }
                    },
                    "scene": {
                      "xaxis": {
                        "backgroundcolor": "#E5ECF6",
                        "gridcolor": "white",
                        "gridwidth": 2,
                        "linecolor": "white",
                        "showbackground": true,
                        "ticks": "",
                        "zerolinecolor": "white"
                      },
                      "yaxis": {
                        "backgroundcolor": "#E5ECF6",
                        "gridcolor": "white",
                        "gridwidth": 2,
                        "linecolor": "white",
                        "showbackground": true,
                        "ticks": "",
                        "zerolinecolor": "white"
                      },
                      "zaxis": {
                        "backgroundcolor": "#E5ECF6",
                        "gridcolor": "white",
                        "gridwidth": 2,
                        "linecolor": "white",
                        "showbackground": true,
                        "ticks": "",
                        "zerolinecolor": "white"
                      }
                    },
                    "shapedefaults": {
                      "line": {
                        "color": "#2a3f5f"
                      }
                    },
                    "ternary": {
                      "aaxis": {
                        "gridcolor": "white",
                        "linecolor": "white",
                        "ticks": ""
                      },
                      "baxis": {
                        "gridcolor": "white",
                        "linecolor": "white",
                        "ticks": ""
                      },
                      "bgcolor": "#E5ECF6",
                      "caxis": {
                        "gridcolor": "white",
                        "linecolor": "white",
                        "ticks": ""
                      }
                    },
                    "title": {
                      "x": 0.05
                    },
                    "xaxis": {
                      "automargin": true,
                      "gridcolor": "white",
                      "linecolor": "white",
                      "ticks": "",
                      "title": {
                        "standoff": 15
                      },
                      "zerolinecolor": "white",
                      "zerolinewidth": 2
                    },
                    "yaxis": {
                      "automargin": true,
                      "gridcolor": "white",
                      "linecolor": "white",
                      "ticks": "",
                      "title": {
                        "standoff": 15
                      },
                      "zerolinecolor": "white",
                      "zerolinewidth": 2
                    }
                  }
                }
              }
            }
          },
          "metadata": {},
          "output_type": "display_data"
        }
      ],
      "source": [
        "import plotly.graph_objects as go\n",
        "\n",
        "fig = go.Figure([go.Scatter(name='Actual', x=df['Date'], y=df['Price'], mode='markers')])\n",
        "\n",
        "fig.add_trace(go.Scatter(name='Forecast', x=df_forecast_sarima['Date'], y=df_forecast_sarima['Price']))\n",
        "fig.show()"
      ]
    },
    {
      "cell_type": "markdown",
      "metadata": {
        "id": "eX7DWzV5hVr7"
      },
      "source": [
        "> Catatan:\n",
        ">\n",
        "> - **Strategi Penyetelan**: Kami menetapkan \\( d = 1 \\) (urutan differencing) dan melakukan pencarian grid pada nilai \\( p \\) dan \\( q \\) (kisaran 0 hingga 5) untuk menemukan model terbaik menggunakan RMSE (root mean squared error).\n",
        ">\n",
        "> - **Pemilihan Model Terbaik**: Model dengan RMSE terendah dipilih sebagai model ARIMA terbaik untuk peramalan dengan orde (0, 1, 1) dengan orde musiman (1, 1, 0, 12).\n",
        ">\n",
        "> - **Evaluasi**: Model ARIMA yang dipilih digunakan untuk meramalkan 64 bulan ke depan, dan akurasinya dievaluasi dengan menggunakan RMSE pada data uji dengan skor **191,5**. Secara keseluruhan, skor ini dan yang ditunjukkan pada diagram garis di atas berkinerja lebih buruk daripada ARIMA dasar."
      ]
    },
    {
      "cell_type": "markdown",
      "metadata": {
        "id": "5wQfvh2shVr7"
      },
      "source": [
        "#### **Prophet**"
      ]
    },
    {
      "cell_type": "code",
      "execution_count": 17,
      "metadata": {
        "colab": {
          "base_uri": "https://localhost:8080/",
          "height": 1000
        },
        "id": "KHFV5YjyhVr8",
        "outputId": "e7748cce-e7b0-4c5b-f9d8-d2636c68df28"
      },
      "outputs": [
        {
          "name": "stderr",
          "output_type": "stream",
          "text": [
            "08:34:31 - cmdstanpy - INFO - Chain [1] start processing\n",
            "08:34:32 - cmdstanpy - INFO - Chain [1] done processing\n",
            "08:34:32 - cmdstanpy - INFO - Chain [1] start processing\n",
            "08:34:33 - cmdstanpy - INFO - Chain [1] done processing\n",
            "08:34:33 - cmdstanpy - INFO - Chain [1] start processing\n",
            "08:34:33 - cmdstanpy - INFO - Chain [1] done processing\n",
            "08:34:34 - cmdstanpy - INFO - Chain [1] start processing\n",
            "08:34:35 - cmdstanpy - INFO - Chain [1] done processing\n",
            "08:34:35 - cmdstanpy - INFO - Chain [1] start processing\n",
            "08:34:36 - cmdstanpy - INFO - Chain [1] done processing\n",
            "08:34:36 - cmdstanpy - INFO - Chain [1] start processing\n",
            "08:34:37 - cmdstanpy - INFO - Chain [1] done processing\n",
            "08:34:37 - cmdstanpy - INFO - Chain [1] start processing\n",
            "08:34:38 - cmdstanpy - INFO - Chain [1] done processing\n",
            "08:34:38 - cmdstanpy - INFO - Chain [1] start processing\n",
            "08:34:39 - cmdstanpy - INFO - Chain [1] done processing\n",
            "08:34:39 - cmdstanpy - INFO - Chain [1] start processing\n",
            "08:34:40 - cmdstanpy - INFO - Chain [1] done processing\n",
            "08:34:40 - cmdstanpy - INFO - Chain [1] start processing\n",
            "08:34:40 - cmdstanpy - INFO - Chain [1] done processing\n",
            "08:34:41 - cmdstanpy - INFO - Chain [1] start processing\n",
            "08:34:42 - cmdstanpy - INFO - Chain [1] done processing\n",
            "08:34:42 - cmdstanpy - INFO - Chain [1] start processing\n",
            "08:34:43 - cmdstanpy - INFO - Chain [1] done processing\n",
            "08:34:44 - cmdstanpy - INFO - Chain [1] start processing\n",
            "08:34:44 - cmdstanpy - INFO - Chain [1] done processing\n",
            "08:34:45 - cmdstanpy - INFO - Chain [1] start processing\n",
            "08:34:46 - cmdstanpy - INFO - Chain [1] done processing\n",
            "08:34:46 - cmdstanpy - INFO - Chain [1] start processing\n",
            "08:34:47 - cmdstanpy - INFO - Chain [1] done processing\n",
            "08:34:47 - cmdstanpy - INFO - Chain [1] start processing\n",
            "08:34:49 - cmdstanpy - INFO - Chain [1] done processing\n",
            "08:34:49 - cmdstanpy - INFO - Chain [1] start processing\n",
            "08:34:51 - cmdstanpy - INFO - Chain [1] done processing\n",
            "08:34:51 - cmdstanpy - INFO - Chain [1] start processing\n",
            "08:34:52 - cmdstanpy - INFO - Chain [1] done processing\n",
            "08:34:52 - cmdstanpy - INFO - Chain [1] start processing\n",
            "08:34:53 - cmdstanpy - INFO - Chain [1] done processing\n",
            "08:34:53 - cmdstanpy - INFO - Chain [1] start processing\n",
            "08:34:53 - cmdstanpy - INFO - Chain [1] done processing\n",
            "08:34:54 - cmdstanpy - INFO - Chain [1] start processing\n",
            "08:34:54 - cmdstanpy - INFO - Chain [1] done processing\n",
            "08:34:54 - cmdstanpy - INFO - Chain [1] start processing\n",
            "08:34:55 - cmdstanpy - INFO - Chain [1] done processing\n",
            "08:34:55 - cmdstanpy - INFO - Chain [1] start processing\n",
            "08:34:58 - cmdstanpy - INFO - Chain [1] done processing\n",
            "08:34:58 - cmdstanpy - INFO - Chain [1] start processing\n",
            "08:35:00 - cmdstanpy - INFO - Chain [1] done processing\n",
            "08:35:01 - cmdstanpy - INFO - Chain [1] start processing\n",
            "08:35:01 - cmdstanpy - INFO - Chain [1] done processing\n",
            "08:35:02 - cmdstanpy - INFO - Chain [1] start processing\n",
            "08:35:03 - cmdstanpy - INFO - Chain [1] done processing\n",
            "08:35:03 - cmdstanpy - INFO - Chain [1] start processing\n",
            "08:35:03 - cmdstanpy - INFO - Chain [1] done processing\n",
            "08:35:04 - cmdstanpy - INFO - Chain [1] start processing\n",
            "08:35:05 - cmdstanpy - INFO - Chain [1] done processing\n",
            "08:35:05 - cmdstanpy - INFO - Chain [1] start processing\n",
            "08:35:06 - cmdstanpy - INFO - Chain [1] done processing\n",
            "08:35:07 - cmdstanpy - INFO - Chain [1] start processing\n",
            "08:35:08 - cmdstanpy - INFO - Chain [1] done processing\n"
          ]
        }
      ],
      "source": [
        "import random\n",
        "\n",
        "df_train_prophet = df_train.rename(columns={'Date': 'ds', 'Price': 'y'})\n",
        "df_test_prophet = df_test.rename(columns={'Date': 'ds', 'Price': 'y'})\n",
        "\n",
        "param_grid = {\n",
        "    'changepoint_prior_scale': [0.001, 0.01, 0.1, 0.5, 1.0, 2.5],\n",
        "    'seasonality_prior_scale': [0.01, 0.1, 1.0, 10.0, 20.0],\n",
        "    'holidays_prior_scale': [0.01, 0.1, 1.0, 10.0],\n",
        "    'seasonality_mode': ['additive', 'multiplicative'],\n",
        "    'yearly_seasonality': [True, False],\n",
        "    'weekly_seasonality': [True, False],\n",
        "    'daily_seasonality': [True, False],\n",
        "}\n",
        "\n",
        "# Generate all combinations of parameters\n",
        "all_params = [dict(zip(param_grid.keys(), v)) for v in itertools.product(*param_grid.values())]\n",
        "\n",
        "# Sample a random subset of the combinations (e.g., 20 random combinations)\n",
        "random.seed(42)\n",
        "sampled_params = random.sample(all_params, min(len(all_params), 100))  # Adjust sample size as needed\n",
        "\n",
        "results = []\n",
        "\n",
        "for params in sampled_params:\n",
        "    try:\n",
        "        prophet_model = Prophet(**params)\n",
        "        prophet_model.fit(df_train_prophet)\n",
        "\n",
        "        future = prophet_model.make_future_dataframe(periods=len(df_test), freq='D')\n",
        "\n",
        "        prophet_forecast = prophet_model.predict(future)\n",
        "        prophet_forecast_test = prophet_forecast[-len(df_test):]\n",
        "\n",
        "        prophet_rmse = mean_squared_error(df_test_prophet['y'], prophet_forecast_test['yhat'], squared=False)\n",
        "\n",
        "        results.append((params, prophet_rmse))\n",
        "    except Exception as e:\n",
        "        continue\n",
        "\n",
        "sorted_results = sorted(results, key=lambda x: x[1])\n",
        "\n",
        "sorted_results_df = pd.DataFrame(sorted_results, columns=['params', 'rmse'])\n",
        "\n",
        "sorted_results_df.head()"
      ]
    },
    {
      "cell_type": "markdown",
      "metadata": {
        "id": "8z0qqxcshVr-"
      },
      "source": [
        "> Catatan:\n",
        ">\n",
        "> - **Bagaimana Prophet Bekerja**: Prophet menguraikan deret waktu menjadi tren, musiman, dan hari libur, secara otomatis mendeteksi pergeseran tren dan pola musiman tanpa transformasi manual.\n",
        ">\n",
        "> - **Perbedaan Utama dari ARIMA/SARIMA**: Prophet dapat menangani data non-stasioner dan tidak memerlukan pembedaan seperti ARIMA/SARIMA. Prophet secara langsung memodelkan tren dan musiman, sementara ARIMA/SARIMA berfokus pada autoregressive dan moving average.\n",
        ">\n",
        "> - **Penjelasan setiap hyperparam**:\n",
        "> - **`changepoint_prior_scale`**: Mengontrol fleksibilitas tren. Nilai yang lebih tinggi memungkinkan tren untuk beradaptasi lebih cepat terhadap perubahan, sementara nilai yang lebih rendah membuat tren lebih halus.\n",
        ">\n",
        "> - **`seasonality_prior_scale`**: Mengatur fleksibilitas komponen musiman. Nilai yang lebih tinggi memungkinkan lebih banyak variasi dalam musiman, sementara nilai yang lebih rendah membuat pola musiman lebih stabil.\n",
        ">\n",
        "> - **`holidays_prior_scale`**: Mengontrol fleksibilitas efek hari libur. Nilai yang lebih tinggi memungkinkan efek hari libur lebih bervariasi, sementara nilai yang lebih rendah membuat efek hari libur lebih dibatasi.\n",
        ">\n",
        "> - **`seasonality_mode`**: Menentukan apakah musiman bersifat **additive** (menambah tren) atau **multiplicative** (bervariasi secara proporsional dengan tren).\n",
        ">\n",
        "> - **`musiman_tahunan`**: Mengaktifkan atau menonaktifkan musiman tahunan dalam model.\n",
        ">\n",
        "> - **`musiman_mingguan`**: Mengaktifkan atau menonaktifkan musiman mingguan dalam model.\n",
        ">\n",
        "> - **`musiman_harian`**: Mengaktifkan atau menonaktifkan musiman harian dalam model."
      ]
    },
    {
      "cell_type": "code",
      "execution_count": null,
      "metadata": {
        "colab": {
          "base_uri": "https://localhost:8080/"
        },
        "id": "IsgJPraVhVr_",
        "outputId": "9a3d9bc2-3aee-4cf7-c0bb-bfdb427b77ab"
      },
      "outputs": [
        {
          "name": "stderr",
          "output_type": "stream",
          "text": [
            "DEBUG:cmdstanpy:input tempfile: /tmp/tmpbj4se_zr/w42ex7nk.json\n",
            "DEBUG:cmdstanpy:input tempfile: /tmp/tmpbj4se_zr/uu681f3b.json\n",
            "DEBUG:cmdstanpy:idx 0\n",
            "DEBUG:cmdstanpy:running CmdStan, num_threads: None\n",
            "DEBUG:cmdstanpy:CmdStan args: ['/usr/local/lib/python3.10/dist-packages/prophet/stan_model/prophet_model.bin', 'random', 'seed=25013', 'data', 'file=/tmp/tmpbj4se_zr/w42ex7nk.json', 'init=/tmp/tmpbj4se_zr/uu681f3b.json', 'output', 'file=/tmp/tmpbj4se_zr/prophet_modelrfhe77oj/prophet_model-20240926085827.csv', 'method=optimize', 'algorithm=newton', 'iter=10000']\n",
            "08:58:27 - cmdstanpy - INFO - Chain [1] start processing\n",
            "INFO:cmdstanpy:Chain [1] start processing\n",
            "08:58:27 - cmdstanpy - INFO - Chain [1] done processing\n",
            "INFO:cmdstanpy:Chain [1] done processing\n"
          ]
        }
      ],
      "source": [
        "best_params = sorted_results_df.iloc[0]['params']\n",
        "\n",
        "prophet_model = Prophet(\n",
        "    changepoint_prior_scale=best_params['changepoint_prior_scale'],\n",
        "    seasonality_prior_scale=best_params['seasonality_prior_scale'],\n",
        "    holidays_prior_scale=best_params['holidays_prior_scale'],\n",
        "    seasonality_mode=best_params['seasonality_mode'],\n",
        "    yearly_seasonality=best_params['yearly_seasonality'],\n",
        "    weekly_seasonality=best_params['weekly_seasonality'],\n",
        "    daily_seasonality=best_params['daily_seasonality']\n",
        ")\n",
        "\n",
        "prophet_model.fit(df_train_prophet)\n",
        "\n",
        "future = prophet_model.make_future_dataframe(periods=len(df_test), freq='D')\n",
        "\n",
        "prophet_forecast = prophet_model.predict(future)\n",
        "prophet_forecast_test = prophet_forecast[-len(df_test):]['yhat']"
      ]
    },
    {
      "cell_type": "code",
      "execution_count": null,
      "metadata": {
        "colab": {
          "base_uri": "https://localhost:8080/",
          "height": 419
        },
        "id": "37nQhfEvhVr_",
        "outputId": "7db12e46-3e8c-468a-dbd7-6391d0cdfabb"
      },
      "outputs": [
        {
          "data": {
            "application/vnd.google.colaboratory.intrinsic+json": {
              "repr_error": "0",
              "type": "dataframe",
              "variable_name": "df_forecast_prophet"
            },
            "text/html": [
              "\n",
              "  <div id=\"df-f1135930-d4d0-4613-90f3-f4fab7d14c92\" class=\"colab-df-container\">\n",
              "    <div>\n",
              "<style scoped>\n",
              "    .dataframe tbody tr th:only-of-type {\n",
              "        vertical-align: middle;\n",
              "    }\n",
              "\n",
              "    .dataframe tbody tr th {\n",
              "        vertical-align: top;\n",
              "    }\n",
              "\n",
              "    .dataframe thead th {\n",
              "        text-align: right;\n",
              "    }\n",
              "</style>\n",
              "<table border=\"1\" class=\"dataframe\">\n",
              "  <thead>\n",
              "    <tr style=\"text-align: right;\">\n",
              "      <th></th>\n",
              "      <th>Date</th>\n",
              "      <th>Price</th>\n",
              "    </tr>\n",
              "  </thead>\n",
              "  <tbody>\n",
              "    <tr>\n",
              "      <th>88</th>\n",
              "      <td>2013-06</td>\n",
              "      <td>1478.478790</td>\n",
              "    </tr>\n",
              "    <tr>\n",
              "      <th>89</th>\n",
              "      <td>2013-07</td>\n",
              "      <td>1455.082304</td>\n",
              "    </tr>\n",
              "    <tr>\n",
              "      <th>90</th>\n",
              "      <td>2013-08</td>\n",
              "      <td>1415.246190</td>\n",
              "    </tr>\n",
              "    <tr>\n",
              "      <th>91</th>\n",
              "      <td>2013-09</td>\n",
              "      <td>1377.064324</td>\n",
              "    </tr>\n",
              "    <tr>\n",
              "      <th>92</th>\n",
              "      <td>2013-10</td>\n",
              "      <td>1343.402126</td>\n",
              "    </tr>\n",
              "    <tr>\n",
              "      <th>...</th>\n",
              "      <td>...</td>\n",
              "      <td>...</td>\n",
              "    </tr>\n",
              "    <tr>\n",
              "      <th>147</th>\n",
              "      <td>2018-05</td>\n",
              "      <td>1493.805741</td>\n",
              "    </tr>\n",
              "    <tr>\n",
              "      <th>148</th>\n",
              "      <td>2018-06</td>\n",
              "      <td>1555.894578</td>\n",
              "    </tr>\n",
              "    <tr>\n",
              "      <th>149</th>\n",
              "      <td>2018-07</td>\n",
              "      <td>1635.248505</td>\n",
              "    </tr>\n",
              "    <tr>\n",
              "      <th>150</th>\n",
              "      <td>2018-08</td>\n",
              "      <td>1680.407024</td>\n",
              "    </tr>\n",
              "    <tr>\n",
              "      <th>151</th>\n",
              "      <td>2018-09</td>\n",
              "      <td>1764.318995</td>\n",
              "    </tr>\n",
              "  </tbody>\n",
              "</table>\n",
              "<p>64 rows × 2 columns</p>\n",
              "</div>\n",
              "    <div class=\"colab-df-buttons\">\n",
              "\n",
              "  <div class=\"colab-df-container\">\n",
              "    <button class=\"colab-df-convert\" onclick=\"convertToInteractive('df-f1135930-d4d0-4613-90f3-f4fab7d14c92')\"\n",
              "            title=\"Convert this dataframe to an interactive table.\"\n",
              "            style=\"display:none;\">\n",
              "\n",
              "  <svg xmlns=\"http://www.w3.org/2000/svg\" height=\"24px\" viewBox=\"0 -960 960 960\">\n",
              "    <path d=\"M120-120v-720h720v720H120Zm60-500h600v-160H180v160Zm220 220h160v-160H400v160Zm0 220h160v-160H400v160ZM180-400h160v-160H180v160Zm440 0h160v-160H620v160ZM180-180h160v-160H180v160Zm440 0h160v-160H620v160Z\"/>\n",
              "  </svg>\n",
              "    </button>\n",
              "\n",
              "  <style>\n",
              "    .colab-df-container {\n",
              "      display:flex;\n",
              "      gap: 12px;\n",
              "    }\n",
              "\n",
              "    .colab-df-convert {\n",
              "      background-color: #E8F0FE;\n",
              "      border: none;\n",
              "      border-radius: 50%;\n",
              "      cursor: pointer;\n",
              "      display: none;\n",
              "      fill: #1967D2;\n",
              "      height: 32px;\n",
              "      padding: 0 0 0 0;\n",
              "      width: 32px;\n",
              "    }\n",
              "\n",
              "    .colab-df-convert:hover {\n",
              "      background-color: #E2EBFA;\n",
              "      box-shadow: 0px 1px 2px rgba(60, 64, 67, 0.3), 0px 1px 3px 1px rgba(60, 64, 67, 0.15);\n",
              "      fill: #174EA6;\n",
              "    }\n",
              "\n",
              "    .colab-df-buttons div {\n",
              "      margin-bottom: 4px;\n",
              "    }\n",
              "\n",
              "    [theme=dark] .colab-df-convert {\n",
              "      background-color: #3B4455;\n",
              "      fill: #D2E3FC;\n",
              "    }\n",
              "\n",
              "    [theme=dark] .colab-df-convert:hover {\n",
              "      background-color: #434B5C;\n",
              "      box-shadow: 0px 1px 3px 1px rgba(0, 0, 0, 0.15);\n",
              "      filter: drop-shadow(0px 1px 2px rgba(0, 0, 0, 0.3));\n",
              "      fill: #FFFFFF;\n",
              "    }\n",
              "  </style>\n",
              "\n",
              "    <script>\n",
              "      const buttonEl =\n",
              "        document.querySelector('#df-f1135930-d4d0-4613-90f3-f4fab7d14c92 button.colab-df-convert');\n",
              "      buttonEl.style.display =\n",
              "        google.colab.kernel.accessAllowed ? 'block' : 'none';\n",
              "\n",
              "      async function convertToInteractive(key) {\n",
              "        const element = document.querySelector('#df-f1135930-d4d0-4613-90f3-f4fab7d14c92');\n",
              "        const dataTable =\n",
              "          await google.colab.kernel.invokeFunction('convertToInteractive',\n",
              "                                                    [key], {});\n",
              "        if (!dataTable) return;\n",
              "\n",
              "        const docLinkHtml = 'Like what you see? Visit the ' +\n",
              "          '<a target=\"_blank\" href=https://colab.research.google.com/notebooks/data_table.ipynb>data table notebook</a>'\n",
              "          + ' to learn more about interactive tables.';\n",
              "        element.innerHTML = '';\n",
              "        dataTable['output_type'] = 'display_data';\n",
              "        await google.colab.output.renderOutput(dataTable, element);\n",
              "        const docLink = document.createElement('div');\n",
              "        docLink.innerHTML = docLinkHtml;\n",
              "        element.appendChild(docLink);\n",
              "      }\n",
              "    </script>\n",
              "  </div>\n",
              "\n",
              "\n",
              "<div id=\"df-dbade64d-725a-4fb1-b3c2-3c104bf43bc6\">\n",
              "  <button class=\"colab-df-quickchart\" onclick=\"quickchart('df-dbade64d-725a-4fb1-b3c2-3c104bf43bc6')\"\n",
              "            title=\"Suggest charts\"\n",
              "            style=\"display:none;\">\n",
              "\n",
              "<svg xmlns=\"http://www.w3.org/2000/svg\" height=\"24px\"viewBox=\"0 0 24 24\"\n",
              "     width=\"24px\">\n",
              "    <g>\n",
              "        <path d=\"M19 3H5c-1.1 0-2 .9-2 2v14c0 1.1.9 2 2 2h14c1.1 0 2-.9 2-2V5c0-1.1-.9-2-2-2zM9 17H7v-7h2v7zm4 0h-2V7h2v10zm4 0h-2v-4h2v4z\"/>\n",
              "    </g>\n",
              "</svg>\n",
              "  </button>\n",
              "\n",
              "<style>\n",
              "  .colab-df-quickchart {\n",
              "      --bg-color: #E8F0FE;\n",
              "      --fill-color: #1967D2;\n",
              "      --hover-bg-color: #E2EBFA;\n",
              "      --hover-fill-color: #174EA6;\n",
              "      --disabled-fill-color: #AAA;\n",
              "      --disabled-bg-color: #DDD;\n",
              "  }\n",
              "\n",
              "  [theme=dark] .colab-df-quickchart {\n",
              "      --bg-color: #3B4455;\n",
              "      --fill-color: #D2E3FC;\n",
              "      --hover-bg-color: #434B5C;\n",
              "      --hover-fill-color: #FFFFFF;\n",
              "      --disabled-bg-color: #3B4455;\n",
              "      --disabled-fill-color: #666;\n",
              "  }\n",
              "\n",
              "  .colab-df-quickchart {\n",
              "    background-color: var(--bg-color);\n",
              "    border: none;\n",
              "    border-radius: 50%;\n",
              "    cursor: pointer;\n",
              "    display: none;\n",
              "    fill: var(--fill-color);\n",
              "    height: 32px;\n",
              "    padding: 0;\n",
              "    width: 32px;\n",
              "  }\n",
              "\n",
              "  .colab-df-quickchart:hover {\n",
              "    background-color: var(--hover-bg-color);\n",
              "    box-shadow: 0 1px 2px rgba(60, 64, 67, 0.3), 0 1px 3px 1px rgba(60, 64, 67, 0.15);\n",
              "    fill: var(--button-hover-fill-color);\n",
              "  }\n",
              "\n",
              "  .colab-df-quickchart-complete:disabled,\n",
              "  .colab-df-quickchart-complete:disabled:hover {\n",
              "    background-color: var(--disabled-bg-color);\n",
              "    fill: var(--disabled-fill-color);\n",
              "    box-shadow: none;\n",
              "  }\n",
              "\n",
              "  .colab-df-spinner {\n",
              "    border: 2px solid var(--fill-color);\n",
              "    border-color: transparent;\n",
              "    border-bottom-color: var(--fill-color);\n",
              "    animation:\n",
              "      spin 1s steps(1) infinite;\n",
              "  }\n",
              "\n",
              "  @keyframes spin {\n",
              "    0% {\n",
              "      border-color: transparent;\n",
              "      border-bottom-color: var(--fill-color);\n",
              "      border-left-color: var(--fill-color);\n",
              "    }\n",
              "    20% {\n",
              "      border-color: transparent;\n",
              "      border-left-color: var(--fill-color);\n",
              "      border-top-color: var(--fill-color);\n",
              "    }\n",
              "    30% {\n",
              "      border-color: transparent;\n",
              "      border-left-color: var(--fill-color);\n",
              "      border-top-color: var(--fill-color);\n",
              "      border-right-color: var(--fill-color);\n",
              "    }\n",
              "    40% {\n",
              "      border-color: transparent;\n",
              "      border-right-color: var(--fill-color);\n",
              "      border-top-color: var(--fill-color);\n",
              "    }\n",
              "    60% {\n",
              "      border-color: transparent;\n",
              "      border-right-color: var(--fill-color);\n",
              "    }\n",
              "    80% {\n",
              "      border-color: transparent;\n",
              "      border-right-color: var(--fill-color);\n",
              "      border-bottom-color: var(--fill-color);\n",
              "    }\n",
              "    90% {\n",
              "      border-color: transparent;\n",
              "      border-bottom-color: var(--fill-color);\n",
              "    }\n",
              "  }\n",
              "</style>\n",
              "\n",
              "  <script>\n",
              "    async function quickchart(key) {\n",
              "      const quickchartButtonEl =\n",
              "        document.querySelector('#' + key + ' button');\n",
              "      quickchartButtonEl.disabled = true;  // To prevent multiple clicks.\n",
              "      quickchartButtonEl.classList.add('colab-df-spinner');\n",
              "      try {\n",
              "        const charts = await google.colab.kernel.invokeFunction(\n",
              "            'suggestCharts', [key], {});\n",
              "      } catch (error) {\n",
              "        console.error('Error during call to suggestCharts:', error);\n",
              "      }\n",
              "      quickchartButtonEl.classList.remove('colab-df-spinner');\n",
              "      quickchartButtonEl.classList.add('colab-df-quickchart-complete');\n",
              "    }\n",
              "    (() => {\n",
              "      let quickchartButtonEl =\n",
              "        document.querySelector('#df-dbade64d-725a-4fb1-b3c2-3c104bf43bc6 button');\n",
              "      quickchartButtonEl.style.display =\n",
              "        google.colab.kernel.accessAllowed ? 'block' : 'none';\n",
              "    })();\n",
              "  </script>\n",
              "</div>\n",
              "\n",
              "  <div id=\"id_fa2c74fc-fc0a-4832-b1da-76c139e0015a\">\n",
              "    <style>\n",
              "      .colab-df-generate {\n",
              "        background-color: #E8F0FE;\n",
              "        border: none;\n",
              "        border-radius: 50%;\n",
              "        cursor: pointer;\n",
              "        display: none;\n",
              "        fill: #1967D2;\n",
              "        height: 32px;\n",
              "        padding: 0 0 0 0;\n",
              "        width: 32px;\n",
              "      }\n",
              "\n",
              "      .colab-df-generate:hover {\n",
              "        background-color: #E2EBFA;\n",
              "        box-shadow: 0px 1px 2px rgba(60, 64, 67, 0.3), 0px 1px 3px 1px rgba(60, 64, 67, 0.15);\n",
              "        fill: #174EA6;\n",
              "      }\n",
              "\n",
              "      [theme=dark] .colab-df-generate {\n",
              "        background-color: #3B4455;\n",
              "        fill: #D2E3FC;\n",
              "      }\n",
              "\n",
              "      [theme=dark] .colab-df-generate:hover {\n",
              "        background-color: #434B5C;\n",
              "        box-shadow: 0px 1px 3px 1px rgba(0, 0, 0, 0.15);\n",
              "        filter: drop-shadow(0px 1px 2px rgba(0, 0, 0, 0.3));\n",
              "        fill: #FFFFFF;\n",
              "      }\n",
              "    </style>\n",
              "    <button class=\"colab-df-generate\" onclick=\"generateWithVariable('df_forecast_prophet')\"\n",
              "            title=\"Generate code using this dataframe.\"\n",
              "            style=\"display:none;\">\n",
              "\n",
              "  <svg xmlns=\"http://www.w3.org/2000/svg\" height=\"24px\"viewBox=\"0 0 24 24\"\n",
              "       width=\"24px\">\n",
              "    <path d=\"M7,19H8.4L18.45,9,17,7.55,7,17.6ZM5,21V16.75L18.45,3.32a2,2,0,0,1,2.83,0l1.4,1.43a1.91,1.91,0,0,1,.58,1.4,1.91,1.91,0,0,1-.58,1.4L9.25,21ZM18.45,9,17,7.55Zm-12,3A5.31,5.31,0,0,0,4.9,8.1,5.31,5.31,0,0,0,1,6.5,5.31,5.31,0,0,0,4.9,4.9,5.31,5.31,0,0,0,6.5,1,5.31,5.31,0,0,0,8.1,4.9,5.31,5.31,0,0,0,12,6.5,5.46,5.46,0,0,0,6.5,12Z\"/>\n",
              "  </svg>\n",
              "    </button>\n",
              "    <script>\n",
              "      (() => {\n",
              "      const buttonEl =\n",
              "        document.querySelector('#id_fa2c74fc-fc0a-4832-b1da-76c139e0015a button.colab-df-generate');\n",
              "      buttonEl.style.display =\n",
              "        google.colab.kernel.accessAllowed ? 'block' : 'none';\n",
              "\n",
              "      buttonEl.onclick = () => {\n",
              "        google.colab.notebook.generateWithVariable('df_forecast_prophet');\n",
              "      }\n",
              "      })();\n",
              "    </script>\n",
              "  </div>\n",
              "\n",
              "    </div>\n",
              "  </div>\n"
            ],
            "text/plain": [
              "        Date        Price\n",
              "88   2013-06  1478.478790\n",
              "89   2013-07  1455.082304\n",
              "90   2013-08  1415.246190\n",
              "91   2013-09  1377.064324\n",
              "92   2013-10  1343.402126\n",
              "..       ...          ...\n",
              "147  2018-05  1493.805741\n",
              "148  2018-06  1555.894578\n",
              "149  2018-07  1635.248505\n",
              "150  2018-08  1680.407024\n",
              "151  2018-09  1764.318995\n",
              "\n",
              "[64 rows x 2 columns]"
            ]
          },
          "execution_count": 22,
          "metadata": {},
          "output_type": "execute_result"
        }
      ],
      "source": [
        "month=list(df_test['Date'].unique())\n",
        "\n",
        "df_forecast_prophet=pd.DataFrame({'Date':month,'Price':prophet_forecast_test})\n",
        "df_forecast_prophet"
      ]
    },
    {
      "cell_type": "code",
      "execution_count": null,
      "metadata": {
        "colab": {
          "base_uri": "https://localhost:8080/",
          "height": 542
        },
        "id": "a_FrJtxHhVsA",
        "outputId": "e3d83008-830e-4e4a-e72f-ea66bdee821e"
      },
      "outputs": [
        {
          "data": {
            "text/html": [
              "<html>\n",
              "<head><meta charset=\"utf-8\" /></head>\n",
              "<body>\n",
              "    <div>            <script src=\"https://cdnjs.cloudflare.com/ajax/libs/mathjax/2.7.5/MathJax.js?config=TeX-AMS-MML_SVG\"></script><script type=\"text/javascript\">if (window.MathJax && window.MathJax.Hub && window.MathJax.Hub.Config) {window.MathJax.Hub.Config({SVG: {font: \"STIX-Web\"}});}</script>                <script type=\"text/javascript\">window.PlotlyConfig = {MathJaxConfig: 'local'};</script>\n",
              "        <script charset=\"utf-8\" src=\"https://cdn.plot.ly/plotly-2.35.2.min.js\"></script>                <div id=\"50ce2825-1b6e-4125-b730-66f6b1664132\" class=\"plotly-graph-div\" style=\"height:525px; width:100%;\"></div>            <script type=\"text/javascript\">                                    window.PLOTLYENV=window.PLOTLYENV || {};                                    if (document.getElementById(\"50ce2825-1b6e-4125-b730-66f6b1664132\")) {                    Plotly.newPlot(                        \"50ce2825-1b6e-4125-b730-66f6b1664132\",                        [{\"mode\":\"markers\",\"name\":\"Actual\",\"x\":[\"2003-02\",\"2003-03\",\"2003-04\",\"2003-05\",\"2003-06\",\"2003-07\",\"2003-08\",\"2003-09\",\"2003-10\",\"2003-11\",\"2003-12\",\"2004-01\",\"2004-02\",\"2004-03\",\"2004-04\",\"2004-05\",\"2004-06\",\"2004-07\",\"2004-08\",\"2004-09\",\"2004-10\",\"2004-11\",\"2004-12\",\"2005-01\",\"2005-02\",\"2005-03\",\"2005-04\",\"2005-05\",\"2005-06\",\"2005-07\",\"2005-08\",\"2005-09\",\"2005-10\",\"2005-11\",\"2005-12\",\"2006-01\",\"2006-02\",\"2006-03\",\"2006-04\",\"2006-05\",\"2006-06\",\"2006-07\",\"2006-08\",\"2006-09\",\"2006-10\",\"2006-11\",\"2006-12\",\"2007-01\",\"2007-02\",\"2007-03\",\"2007-04\",\"2007-05\",\"2007-06\",\"2007-07\",\"2007-08\",\"2007-09\",\"2007-10\",\"2007-11\",\"2007-12\",\"2008-01\",\"2008-02\",\"2008-03\",\"2008-04\",\"2008-05\",\"2008-06\",\"2008-07\",\"2008-08\",\"2008-09\",\"2008-10\",\"2008-11\",\"2008-12\",\"2009-01\",\"2009-02\",\"2009-03\",\"2009-04\",\"2009-05\",\"2009-06\",\"2009-07\",\"2009-08\",\"2009-09\",\"2009-10\",\"2009-11\",\"2009-12\",\"2010-01\",\"2010-02\",\"2010-03\",\"2010-04\",\"2010-05\",\"2010-06\",\"2010-07\",\"2010-08\",\"2010-09\",\"2010-10\",\"2010-11\",\"2010-12\",\"2011-01\",\"2011-02\",\"2011-03\",\"2011-04\",\"2011-05\",\"2011-06\",\"2011-07\",\"2011-08\",\"2011-09\",\"2011-10\",\"2011-11\",\"2011-12\",\"2012-01\",\"2012-02\",\"2012-03\",\"2012-04\",\"2012-05\",\"2012-06\",\"2012-07\",\"2012-08\",\"2012-09\",\"2012-10\",\"2012-11\",\"2012-12\",\"2013-01\",\"2013-02\",\"2013-03\",\"2013-04\",\"2013-05\",\"2013-06\",\"2013-07\",\"2013-08\",\"2013-09\",\"2013-10\",\"2013-11\",\"2013-12\",\"2014-01\",\"2014-02\",\"2014-03\",\"2014-04\",\"2014-05\",\"2014-06\",\"2014-07\",\"2014-08\",\"2014-09\",\"2014-10\",\"2014-11\",\"2014-12\",\"2015-01\",\"2015-02\",\"2015-03\",\"2015-04\",\"2015-05\",\"2015-06\",\"2015-07\",\"2015-08\",\"2015-09\",\"2015-10\",\"2015-11\",\"2015-12\",\"2016-01\",\"2016-02\",\"2016-03\",\"2016-04\",\"2016-05\",\"2016-06\",\"2016-07\",\"2016-08\",\"2016-09\",\"2016-10\",\"2016-11\",\"2016-12\",\"2017-01\",\"2017-02\",\"2017-03\",\"2017-04\",\"2017-05\",\"2017-06\",\"2017-07\",\"2017-08\",\"2017-09\",\"2017-10\",\"2017-11\",\"2017-12\",\"2018-01\",\"2018-02\",\"2018-03\",\"2018-04\",\"2018-05\",\"2018-06\",\"2018-07\",\"2018-08\",\"2018-09\"],\"y\":[359.575,341.564,328.208,355.405,356.912,350.765,358.993,378.859,379.093,390.2,407.674,414.495,404.73,405.976,404.85,383.953,391.78,398.441,400.133,405.402,420.21,439.059,442.974,424.08,423.43,434.355,429.14,422.903,430.302,424.745,437.773,455.936,470.107,476.668,509.423,549.433,555.518,557.215,611.853,676.769,597.898,633.093,631.557,600.15,586.648,626.825,629.513,630.352,665.103,655.891,680.008,668.31,655.714,665.266,664.53,710.645,754.48,808.311,803.618,887.784,924.283,971.055,911.6,889.125,889.536,941.167,840.388,824.92,812.815,757.85,819.94,857.726,939.763,925.989,892.663,926.855,947.807,934.272,949.5,996.443,1043.511,1126.119,1135.012,1119.575,1095.8,1115.554,1148.475,1204.321,1232.382,1196.0,1213.464,1271.461,1343.19,1371.784,1393.512,1360.475,1371.313,1422.848,1474.431,1512.188,1528.38,1568.526,1759.5,1780.648,1667.893,1735.977,1652.725,1656.095,1743.095,1675.057,1648.539,1585.114,1595.632,1592.784,1625.682,1741.925,1746.348,1724.352,1687.342,1671.886,1630.688,1591.013,1485.905,1416.143,1342.7,1284.348,1345.048,1348.464,1314.402,1277.417,1221.588,1243.068,1298.713,1336.56,1299.175,1288.913,1277.857,1312.989,1297.005,1241.33,1223.565,1176.413,1200.44,1249.333,1231.1,1180.636,1198.253,1197.684,1182.248,1131.58,1117.525,1124.905,1157.123,1088.388,1068.317,1095.655,1194.893,1246.312,1241.452,1259.755,1273.58,1337.429,1340.861,1326.618,1268.929,1240.293,1152.165,1192.648,1233.39,1231.063,1267.15,1245.25,1261.277,1235.1,1281.72,1317.045,1280.677,1283.189,1265.674,1332.809,1333.775,1325.562,1335.332,1303.618,1282.126,1238.064,1201.859,1199.198],\"type\":\"scatter\"},{\"name\":\"Forecast\",\"x\":[\"2013-06\",\"2013-07\",\"2013-08\",\"2013-09\",\"2013-10\",\"2013-11\",\"2013-12\",\"2014-01\",\"2014-02\",\"2014-03\",\"2014-04\",\"2014-05\",\"2014-06\",\"2014-07\",\"2014-08\",\"2014-09\",\"2014-10\",\"2014-11\",\"2014-12\",\"2015-01\",\"2015-02\",\"2015-03\",\"2015-04\",\"2015-05\",\"2015-06\",\"2015-07\",\"2015-08\",\"2015-09\",\"2015-10\",\"2015-11\",\"2015-12\",\"2016-01\",\"2016-02\",\"2016-03\",\"2016-04\",\"2016-05\",\"2016-06\",\"2016-07\",\"2016-08\",\"2016-09\",\"2016-10\",\"2016-11\",\"2016-12\",\"2017-01\",\"2017-02\",\"2017-03\",\"2017-04\",\"2017-05\",\"2017-06\",\"2017-07\",\"2017-08\",\"2017-09\",\"2017-10\",\"2017-11\",\"2017-12\",\"2018-01\",\"2018-02\",\"2018-03\",\"2018-04\",\"2018-05\",\"2018-06\",\"2018-07\",\"2018-08\",\"2018-09\"],\"y\":[1478.4787901647433,1455.0823035818923,1415.2461904131644,1377.0643235642247,1343.4021261618682,1324.1126446998505,1269.2138542453654,1253.2142796352664,1243.5105212620242,1220.6006876572887,1202.3309045072297,1191.2598425371773,1196.8782621846376,1168.7909515988215,1181.0481446554402,1200.5499842297927,1207.2679807896002,1218.5005530554163,1236.2474784539186,1269.4401046371318,1267.1345209729016,1302.8545701339506,1343.0080327104888,1367.1196810977935,1392.0980194013832,1419.6202570887672,1458.3720846670894,1457.249171890213,1489.7070027996886,1522.1821354353365,1534.3283661939922,1543.2844358586517,1551.0576890235375,1566.7601692126468,1539.8040394811392,1544.2429712938742,1547.1826796956489,1529.0042374611912,1507.6170196320315,1485.8259635750094,1473.5499548714074,1420.9986052877546,1402.9944827492357,1387.364419875838,1355.1440032047312,1324.8125732999656,1299.643896762741,1289.9097807466974,1246.0443281781195,1242.9562847685843,1248.413442933265,1243.2434798888207,1245.5687623902718,1258.1604006687473,1290.6488570885488,1292.6987522313702,1338.3351721186473,1394.3452033788838,1440.4987477979328,1493.8057412072067,1555.8945782805824,1635.2485046839943,1680.4070244669688,1764.318994876929],\"type\":\"scatter\"}],                        {\"template\":{\"data\":{\"histogram2dcontour\":[{\"type\":\"histogram2dcontour\",\"colorbar\":{\"outlinewidth\":0,\"ticks\":\"\"},\"colorscale\":[[0.0,\"#0d0887\"],[0.1111111111111111,\"#46039f\"],[0.2222222222222222,\"#7201a8\"],[0.3333333333333333,\"#9c179e\"],[0.4444444444444444,\"#bd3786\"],[0.5555555555555556,\"#d8576b\"],[0.6666666666666666,\"#ed7953\"],[0.7777777777777778,\"#fb9f3a\"],[0.8888888888888888,\"#fdca26\"],[1.0,\"#f0f921\"]]}],\"choropleth\":[{\"type\":\"choropleth\",\"colorbar\":{\"outlinewidth\":0,\"ticks\":\"\"}}],\"histogram2d\":[{\"type\":\"histogram2d\",\"colorbar\":{\"outlinewidth\":0,\"ticks\":\"\"},\"colorscale\":[[0.0,\"#0d0887\"],[0.1111111111111111,\"#46039f\"],[0.2222222222222222,\"#7201a8\"],[0.3333333333333333,\"#9c179e\"],[0.4444444444444444,\"#bd3786\"],[0.5555555555555556,\"#d8576b\"],[0.6666666666666666,\"#ed7953\"],[0.7777777777777778,\"#fb9f3a\"],[0.8888888888888888,\"#fdca26\"],[1.0,\"#f0f921\"]]}],\"heatmap\":[{\"type\":\"heatmap\",\"colorbar\":{\"outlinewidth\":0,\"ticks\":\"\"},\"colorscale\":[[0.0,\"#0d0887\"],[0.1111111111111111,\"#46039f\"],[0.2222222222222222,\"#7201a8\"],[0.3333333333333333,\"#9c179e\"],[0.4444444444444444,\"#bd3786\"],[0.5555555555555556,\"#d8576b\"],[0.6666666666666666,\"#ed7953\"],[0.7777777777777778,\"#fb9f3a\"],[0.8888888888888888,\"#fdca26\"],[1.0,\"#f0f921\"]]}],\"heatmapgl\":[{\"type\":\"heatmapgl\",\"colorbar\":{\"outlinewidth\":0,\"ticks\":\"\"},\"colorscale\":[[0.0,\"#0d0887\"],[0.1111111111111111,\"#46039f\"],[0.2222222222222222,\"#7201a8\"],[0.3333333333333333,\"#9c179e\"],[0.4444444444444444,\"#bd3786\"],[0.5555555555555556,\"#d8576b\"],[0.6666666666666666,\"#ed7953\"],[0.7777777777777778,\"#fb9f3a\"],[0.8888888888888888,\"#fdca26\"],[1.0,\"#f0f921\"]]}],\"contourcarpet\":[{\"type\":\"contourcarpet\",\"colorbar\":{\"outlinewidth\":0,\"ticks\":\"\"}}],\"contour\":[{\"type\":\"contour\",\"colorbar\":{\"outlinewidth\":0,\"ticks\":\"\"},\"colorscale\":[[0.0,\"#0d0887\"],[0.1111111111111111,\"#46039f\"],[0.2222222222222222,\"#7201a8\"],[0.3333333333333333,\"#9c179e\"],[0.4444444444444444,\"#bd3786\"],[0.5555555555555556,\"#d8576b\"],[0.6666666666666666,\"#ed7953\"],[0.7777777777777778,\"#fb9f3a\"],[0.8888888888888888,\"#fdca26\"],[1.0,\"#f0f921\"]]}],\"surface\":[{\"type\":\"surface\",\"colorbar\":{\"outlinewidth\":0,\"ticks\":\"\"},\"colorscale\":[[0.0,\"#0d0887\"],[0.1111111111111111,\"#46039f\"],[0.2222222222222222,\"#7201a8\"],[0.3333333333333333,\"#9c179e\"],[0.4444444444444444,\"#bd3786\"],[0.5555555555555556,\"#d8576b\"],[0.6666666666666666,\"#ed7953\"],[0.7777777777777778,\"#fb9f3a\"],[0.8888888888888888,\"#fdca26\"],[1.0,\"#f0f921\"]]}],\"mesh3d\":[{\"type\":\"mesh3d\",\"colorbar\":{\"outlinewidth\":0,\"ticks\":\"\"}}],\"scatter\":[{\"fillpattern\":{\"fillmode\":\"overlay\",\"size\":10,\"solidity\":0.2},\"type\":\"scatter\"}],\"parcoords\":[{\"type\":\"parcoords\",\"line\":{\"colorbar\":{\"outlinewidth\":0,\"ticks\":\"\"}}}],\"scatterpolargl\":[{\"type\":\"scatterpolargl\",\"marker\":{\"colorbar\":{\"outlinewidth\":0,\"ticks\":\"\"}}}],\"bar\":[{\"error_x\":{\"color\":\"#2a3f5f\"},\"error_y\":{\"color\":\"#2a3f5f\"},\"marker\":{\"line\":{\"color\":\"#E5ECF6\",\"width\":0.5},\"pattern\":{\"fillmode\":\"overlay\",\"size\":10,\"solidity\":0.2}},\"type\":\"bar\"}],\"scattergeo\":[{\"type\":\"scattergeo\",\"marker\":{\"colorbar\":{\"outlinewidth\":0,\"ticks\":\"\"}}}],\"scatterpolar\":[{\"type\":\"scatterpolar\",\"marker\":{\"colorbar\":{\"outlinewidth\":0,\"ticks\":\"\"}}}],\"histogram\":[{\"marker\":{\"pattern\":{\"fillmode\":\"overlay\",\"size\":10,\"solidity\":0.2}},\"type\":\"histogram\"}],\"scattergl\":[{\"type\":\"scattergl\",\"marker\":{\"colorbar\":{\"outlinewidth\":0,\"ticks\":\"\"}}}],\"scatter3d\":[{\"type\":\"scatter3d\",\"line\":{\"colorbar\":{\"outlinewidth\":0,\"ticks\":\"\"}},\"marker\":{\"colorbar\":{\"outlinewidth\":0,\"ticks\":\"\"}}}],\"scattermapbox\":[{\"type\":\"scattermapbox\",\"marker\":{\"colorbar\":{\"outlinewidth\":0,\"ticks\":\"\"}}}],\"scatterternary\":[{\"type\":\"scatterternary\",\"marker\":{\"colorbar\":{\"outlinewidth\":0,\"ticks\":\"\"}}}],\"scattercarpet\":[{\"type\":\"scattercarpet\",\"marker\":{\"colorbar\":{\"outlinewidth\":0,\"ticks\":\"\"}}}],\"carpet\":[{\"aaxis\":{\"endlinecolor\":\"#2a3f5f\",\"gridcolor\":\"white\",\"linecolor\":\"white\",\"minorgridcolor\":\"white\",\"startlinecolor\":\"#2a3f5f\"},\"baxis\":{\"endlinecolor\":\"#2a3f5f\",\"gridcolor\":\"white\",\"linecolor\":\"white\",\"minorgridcolor\":\"white\",\"startlinecolor\":\"#2a3f5f\"},\"type\":\"carpet\"}],\"table\":[{\"cells\":{\"fill\":{\"color\":\"#EBF0F8\"},\"line\":{\"color\":\"white\"}},\"header\":{\"fill\":{\"color\":\"#C8D4E3\"},\"line\":{\"color\":\"white\"}},\"type\":\"table\"}],\"barpolar\":[{\"marker\":{\"line\":{\"color\":\"#E5ECF6\",\"width\":0.5},\"pattern\":{\"fillmode\":\"overlay\",\"size\":10,\"solidity\":0.2}},\"type\":\"barpolar\"}],\"pie\":[{\"automargin\":true,\"type\":\"pie\"}]},\"layout\":{\"autotypenumbers\":\"strict\",\"colorway\":[\"#636efa\",\"#EF553B\",\"#00cc96\",\"#ab63fa\",\"#FFA15A\",\"#19d3f3\",\"#FF6692\",\"#B6E880\",\"#FF97FF\",\"#FECB52\"],\"font\":{\"color\":\"#2a3f5f\"},\"hovermode\":\"closest\",\"hoverlabel\":{\"align\":\"left\"},\"paper_bgcolor\":\"white\",\"plot_bgcolor\":\"#E5ECF6\",\"polar\":{\"bgcolor\":\"#E5ECF6\",\"angularaxis\":{\"gridcolor\":\"white\",\"linecolor\":\"white\",\"ticks\":\"\"},\"radialaxis\":{\"gridcolor\":\"white\",\"linecolor\":\"white\",\"ticks\":\"\"}},\"ternary\":{\"bgcolor\":\"#E5ECF6\",\"aaxis\":{\"gridcolor\":\"white\",\"linecolor\":\"white\",\"ticks\":\"\"},\"baxis\":{\"gridcolor\":\"white\",\"linecolor\":\"white\",\"ticks\":\"\"},\"caxis\":{\"gridcolor\":\"white\",\"linecolor\":\"white\",\"ticks\":\"\"}},\"coloraxis\":{\"colorbar\":{\"outlinewidth\":0,\"ticks\":\"\"}},\"colorscale\":{\"sequential\":[[0.0,\"#0d0887\"],[0.1111111111111111,\"#46039f\"],[0.2222222222222222,\"#7201a8\"],[0.3333333333333333,\"#9c179e\"],[0.4444444444444444,\"#bd3786\"],[0.5555555555555556,\"#d8576b\"],[0.6666666666666666,\"#ed7953\"],[0.7777777777777778,\"#fb9f3a\"],[0.8888888888888888,\"#fdca26\"],[1.0,\"#f0f921\"]],\"sequentialminus\":[[0.0,\"#0d0887\"],[0.1111111111111111,\"#46039f\"],[0.2222222222222222,\"#7201a8\"],[0.3333333333333333,\"#9c179e\"],[0.4444444444444444,\"#bd3786\"],[0.5555555555555556,\"#d8576b\"],[0.6666666666666666,\"#ed7953\"],[0.7777777777777778,\"#fb9f3a\"],[0.8888888888888888,\"#fdca26\"],[1.0,\"#f0f921\"]],\"diverging\":[[0,\"#8e0152\"],[0.1,\"#c51b7d\"],[0.2,\"#de77ae\"],[0.3,\"#f1b6da\"],[0.4,\"#fde0ef\"],[0.5,\"#f7f7f7\"],[0.6,\"#e6f5d0\"],[0.7,\"#b8e186\"],[0.8,\"#7fbc41\"],[0.9,\"#4d9221\"],[1,\"#276419\"]]},\"xaxis\":{\"gridcolor\":\"white\",\"linecolor\":\"white\",\"ticks\":\"\",\"title\":{\"standoff\":15},\"zerolinecolor\":\"white\",\"automargin\":true,\"zerolinewidth\":2},\"yaxis\":{\"gridcolor\":\"white\",\"linecolor\":\"white\",\"ticks\":\"\",\"title\":{\"standoff\":15},\"zerolinecolor\":\"white\",\"automargin\":true,\"zerolinewidth\":2},\"scene\":{\"xaxis\":{\"backgroundcolor\":\"#E5ECF6\",\"gridcolor\":\"white\",\"linecolor\":\"white\",\"showbackground\":true,\"ticks\":\"\",\"zerolinecolor\":\"white\",\"gridwidth\":2},\"yaxis\":{\"backgroundcolor\":\"#E5ECF6\",\"gridcolor\":\"white\",\"linecolor\":\"white\",\"showbackground\":true,\"ticks\":\"\",\"zerolinecolor\":\"white\",\"gridwidth\":2},\"zaxis\":{\"backgroundcolor\":\"#E5ECF6\",\"gridcolor\":\"white\",\"linecolor\":\"white\",\"showbackground\":true,\"ticks\":\"\",\"zerolinecolor\":\"white\",\"gridwidth\":2}},\"shapedefaults\":{\"line\":{\"color\":\"#2a3f5f\"}},\"annotationdefaults\":{\"arrowcolor\":\"#2a3f5f\",\"arrowhead\":0,\"arrowwidth\":1},\"geo\":{\"bgcolor\":\"white\",\"landcolor\":\"#E5ECF6\",\"subunitcolor\":\"white\",\"showland\":true,\"showlakes\":true,\"lakecolor\":\"white\"},\"title\":{\"x\":0.05},\"mapbox\":{\"style\":\"light\"}}}},                        {\"responsive\": true}                    ).then(function(){\n",
              "                            \n",
              "var gd = document.getElementById('50ce2825-1b6e-4125-b730-66f6b1664132');\n",
              "var x = new MutationObserver(function (mutations, observer) {{\n",
              "        var display = window.getComputedStyle(gd).display;\n",
              "        if (!display || display === 'none') {{\n",
              "            console.log([gd, 'removed!']);\n",
              "            Plotly.purge(gd);\n",
              "            observer.disconnect();\n",
              "        }}\n",
              "}});\n",
              "\n",
              "// Listen for the removal of the full notebook cells\n",
              "var notebookContainer = gd.closest('#notebook-container');\n",
              "if (notebookContainer) {{\n",
              "    x.observe(notebookContainer, {childList: true});\n",
              "}}\n",
              "\n",
              "// Listen for the clearing of the current output cell\n",
              "var outputEl = gd.closest('.output');\n",
              "if (outputEl) {{\n",
              "    x.observe(outputEl, {childList: true});\n",
              "}}\n",
              "\n",
              "                        })                };                            </script>        </div>\n",
              "</body>\n",
              "</html>"
            ]
          },
          "metadata": {},
          "output_type": "display_data"
        }
      ],
      "source": [
        "import plotly.graph_objects as go\n",
        "\n",
        "fig = go.Figure([go.Scatter(name='Actual', x=df['Date'], y=df['Price'], mode='markers')])\n",
        "\n",
        "fig.add_trace(go.Scatter(name='Forecast', x=df_forecast_prophet['Date'], y=df_forecast_prophet['Price']))\n",
        "fig.show()"
      ]
    },
    {
      "cell_type": "markdown",
      "metadata": {
        "id": "nG4W4zG7hVsA"
      },
      "source": [
        "> Catatan:\n",
        ">\n",
        "> - **Strategi Penyetelan**: Kami melakukan pencarian grid di berbagai hiperparameter Prophet termasuk `changepoint_prior_scale`, `seasonality_prior_scale`, dan `holidays_prior_scale`, dengan menguji 100 kombinasi acak untuk menemukan model terbaik dengan menggunakan RMSE (root mean squared error).\n",
        ">\n",
        "> - **Pemilihan Model Terbaik**: Model dengan RMSE terendah dipilih sebagai model Prophet terbaik untuk peramalan, dengan parameter seperti `changepoint_prior_scale` diatur ke 2,5 dan `seasonality_prior_scale` diatur ke 20,0.\n",
        ">\n",
        "> - **Evaluasi**: Model Prophet yang dipilih digunakan untuk meramalkan nilai masa depan, dan akurasinya dievaluasi dengan menggunakan RMSE pada data uji. Performa model divisualisasikan dan dibandingkan dengan metode lain, memberikan wawasan tentang tren dan efek musiman. Secara keseluruhan, model ini menunjukkan kinerja yang buruk dan tidak dapat menangkap tren utama."
      ]
    },
    {
      "cell_type": "markdown",
      "metadata": {
        "id": "5OV_t7rQhVsB"
      },
      "source": [
        "#### **Model Comparison**"
      ]
    },
    {
      "cell_type": "code",
      "execution_count": null,
      "metadata": {
        "colab": {
          "base_uri": "https://localhost:8080/",
          "height": 542
        },
        "id": "I_Vk-FM5hVsB",
        "outputId": "e1fdedbe-76a3-4751-e700-6d04aab5ffbc"
      },
      "outputs": [
        {
          "data": {
            "text/html": [
              "<html>\n",
              "<head><meta charset=\"utf-8\" /></head>\n",
              "<body>\n",
              "    <div>            <script src=\"https://cdnjs.cloudflare.com/ajax/libs/mathjax/2.7.5/MathJax.js?config=TeX-AMS-MML_SVG\"></script><script type=\"text/javascript\">if (window.MathJax && window.MathJax.Hub && window.MathJax.Hub.Config) {window.MathJax.Hub.Config({SVG: {font: \"STIX-Web\"}});}</script>                <script type=\"text/javascript\">window.PlotlyConfig = {MathJaxConfig: 'local'};</script>\n",
              "        <script charset=\"utf-8\" src=\"https://cdn.plot.ly/plotly-2.35.2.min.js\"></script>                <div id=\"60ec612e-00c7-40dc-8c3d-3d43b964afff\" class=\"plotly-graph-div\" style=\"height:525px; width:100%;\"></div>            <script type=\"text/javascript\">                                    window.PLOTLYENV=window.PLOTLYENV || {};                                    if (document.getElementById(\"60ec612e-00c7-40dc-8c3d-3d43b964afff\")) {                    Plotly.newPlot(                        \"60ec612e-00c7-40dc-8c3d-3d43b964afff\",                        [{\"mode\":\"markers\",\"name\":\"Actual\",\"x\":[\"2003-02\",\"2003-03\",\"2003-04\",\"2003-05\",\"2003-06\",\"2003-07\",\"2003-08\",\"2003-09\",\"2003-10\",\"2003-11\",\"2003-12\",\"2004-01\",\"2004-02\",\"2004-03\",\"2004-04\",\"2004-05\",\"2004-06\",\"2004-07\",\"2004-08\",\"2004-09\",\"2004-10\",\"2004-11\",\"2004-12\",\"2005-01\",\"2005-02\",\"2005-03\",\"2005-04\",\"2005-05\",\"2005-06\",\"2005-07\",\"2005-08\",\"2005-09\",\"2005-10\",\"2005-11\",\"2005-12\",\"2006-01\",\"2006-02\",\"2006-03\",\"2006-04\",\"2006-05\",\"2006-06\",\"2006-07\",\"2006-08\",\"2006-09\",\"2006-10\",\"2006-11\",\"2006-12\",\"2007-01\",\"2007-02\",\"2007-03\",\"2007-04\",\"2007-05\",\"2007-06\",\"2007-07\",\"2007-08\",\"2007-09\",\"2007-10\",\"2007-11\",\"2007-12\",\"2008-01\",\"2008-02\",\"2008-03\",\"2008-04\",\"2008-05\",\"2008-06\",\"2008-07\",\"2008-08\",\"2008-09\",\"2008-10\",\"2008-11\",\"2008-12\",\"2009-01\",\"2009-02\",\"2009-03\",\"2009-04\",\"2009-05\",\"2009-06\",\"2009-07\",\"2009-08\",\"2009-09\",\"2009-10\",\"2009-11\",\"2009-12\",\"2010-01\",\"2010-02\",\"2010-03\",\"2010-04\",\"2010-05\",\"2010-06\",\"2010-07\",\"2010-08\",\"2010-09\",\"2010-10\",\"2010-11\",\"2010-12\",\"2011-01\",\"2011-02\",\"2011-03\",\"2011-04\",\"2011-05\",\"2011-06\",\"2011-07\",\"2011-08\",\"2011-09\",\"2011-10\",\"2011-11\",\"2011-12\",\"2012-01\",\"2012-02\",\"2012-03\",\"2012-04\",\"2012-05\",\"2012-06\",\"2012-07\",\"2012-08\",\"2012-09\",\"2012-10\",\"2012-11\",\"2012-12\",\"2013-01\",\"2013-02\",\"2013-03\",\"2013-04\",\"2013-05\",\"2013-06\",\"2013-07\",\"2013-08\",\"2013-09\",\"2013-10\",\"2013-11\",\"2013-12\",\"2014-01\",\"2014-02\",\"2014-03\",\"2014-04\",\"2014-05\",\"2014-06\",\"2014-07\",\"2014-08\",\"2014-09\",\"2014-10\",\"2014-11\",\"2014-12\",\"2015-01\",\"2015-02\",\"2015-03\",\"2015-04\",\"2015-05\",\"2015-06\",\"2015-07\",\"2015-08\",\"2015-09\",\"2015-10\",\"2015-11\",\"2015-12\",\"2016-01\",\"2016-02\",\"2016-03\",\"2016-04\",\"2016-05\",\"2016-06\",\"2016-07\",\"2016-08\",\"2016-09\",\"2016-10\",\"2016-11\",\"2016-12\",\"2017-01\",\"2017-02\",\"2017-03\",\"2017-04\",\"2017-05\",\"2017-06\",\"2017-07\",\"2017-08\",\"2017-09\",\"2017-10\",\"2017-11\",\"2017-12\",\"2018-01\",\"2018-02\",\"2018-03\",\"2018-04\",\"2018-05\",\"2018-06\",\"2018-07\",\"2018-08\",\"2018-09\"],\"y\":[359.575,341.564,328.208,355.405,356.912,350.765,358.993,378.859,379.093,390.2,407.674,414.495,404.73,405.976,404.85,383.953,391.78,398.441,400.133,405.402,420.21,439.059,442.974,424.08,423.43,434.355,429.14,422.903,430.302,424.745,437.773,455.936,470.107,476.668,509.423,549.433,555.518,557.215,611.853,676.769,597.898,633.093,631.557,600.15,586.648,626.825,629.513,630.352,665.103,655.891,680.008,668.31,655.714,665.266,664.53,710.645,754.48,808.311,803.618,887.784,924.283,971.055,911.6,889.125,889.536,941.167,840.388,824.92,812.815,757.85,819.94,857.726,939.763,925.989,892.663,926.855,947.807,934.272,949.5,996.443,1043.511,1126.119,1135.012,1119.575,1095.8,1115.554,1148.475,1204.321,1232.382,1196.0,1213.464,1271.461,1343.19,1371.784,1393.512,1360.475,1371.313,1422.848,1474.431,1512.188,1528.38,1568.526,1759.5,1780.648,1667.893,1735.977,1652.725,1656.095,1743.095,1675.057,1648.539,1585.114,1595.632,1592.784,1625.682,1741.925,1746.348,1724.352,1687.342,1671.886,1630.688,1591.013,1485.905,1416.143,1342.7,1284.348,1345.048,1348.464,1314.402,1277.417,1221.588,1243.068,1298.713,1336.56,1299.175,1288.913,1277.857,1312.989,1297.005,1241.33,1223.565,1176.413,1200.44,1249.333,1231.1,1180.636,1198.253,1197.684,1182.248,1131.58,1117.525,1124.905,1157.123,1088.388,1068.317,1095.655,1194.893,1246.312,1241.452,1259.755,1273.58,1337.429,1340.861,1326.618,1268.929,1240.293,1152.165,1192.648,1233.39,1231.063,1267.15,1245.25,1261.277,1235.1,1281.72,1317.045,1280.677,1283.189,1265.674,1332.809,1333.775,1325.562,1335.332,1303.618,1282.126,1238.064,1201.859,1199.198],\"type\":\"scatter\"},{\"name\":\"Prophet\",\"x\":[\"2013-06\",\"2013-07\",\"2013-08\",\"2013-09\",\"2013-10\",\"2013-11\",\"2013-12\",\"2014-01\",\"2014-02\",\"2014-03\",\"2014-04\",\"2014-05\",\"2014-06\",\"2014-07\",\"2014-08\",\"2014-09\",\"2014-10\",\"2014-11\",\"2014-12\",\"2015-01\",\"2015-02\",\"2015-03\",\"2015-04\",\"2015-05\",\"2015-06\",\"2015-07\",\"2015-08\",\"2015-09\",\"2015-10\",\"2015-11\",\"2015-12\",\"2016-01\",\"2016-02\",\"2016-03\",\"2016-04\",\"2016-05\",\"2016-06\",\"2016-07\",\"2016-08\",\"2016-09\",\"2016-10\",\"2016-11\",\"2016-12\",\"2017-01\",\"2017-02\",\"2017-03\",\"2017-04\",\"2017-05\",\"2017-06\",\"2017-07\",\"2017-08\",\"2017-09\",\"2017-10\",\"2017-11\",\"2017-12\",\"2018-01\",\"2018-02\",\"2018-03\",\"2018-04\",\"2018-05\",\"2018-06\",\"2018-07\",\"2018-08\",\"2018-09\"],\"y\":[1478.4787901647433,1455.0823035818923,1415.2461904131644,1377.0643235642247,1343.4021261618682,1324.1126446998505,1269.2138542453654,1253.2142796352664,1243.5105212620242,1220.6006876572887,1202.3309045072297,1191.2598425371773,1196.8782621846376,1168.7909515988215,1181.0481446554402,1200.5499842297927,1207.2679807896002,1218.5005530554163,1236.2474784539186,1269.4401046371318,1267.1345209729016,1302.8545701339506,1343.0080327104888,1367.1196810977935,1392.0980194013832,1419.6202570887672,1458.3720846670894,1457.249171890213,1489.7070027996886,1522.1821354353365,1534.3283661939922,1543.2844358586517,1551.0576890235375,1566.7601692126468,1539.8040394811392,1544.2429712938742,1547.1826796956489,1529.0042374611912,1507.6170196320315,1485.8259635750094,1473.5499548714074,1420.9986052877546,1402.9944827492357,1387.364419875838,1355.1440032047312,1324.8125732999656,1299.643896762741,1289.9097807466974,1246.0443281781195,1242.9562847685843,1248.413442933265,1243.2434798888207,1245.5687623902718,1258.1604006687473,1290.6488570885488,1292.6987522313702,1338.3351721186473,1394.3452033788838,1440.4987477979328,1493.8057412072067,1555.8945782805824,1635.2485046839943,1680.4070244669688,1764.318994876929],\"type\":\"scatter\"},{\"name\":\"ARIMA\",\"x\":[\"2013-06\",\"2013-07\",\"2013-08\",\"2013-09\",\"2013-10\",\"2013-11\",\"2013-12\",\"2014-01\",\"2014-02\",\"2014-03\",\"2014-04\",\"2014-05\",\"2014-06\",\"2014-07\",\"2014-08\",\"2014-09\",\"2014-10\",\"2014-11\",\"2014-12\",\"2015-01\",\"2015-02\",\"2015-03\",\"2015-04\",\"2015-05\",\"2015-06\",\"2015-07\",\"2015-08\",\"2015-09\",\"2015-10\",\"2015-11\",\"2015-12\",\"2016-01\",\"2016-02\",\"2016-03\",\"2016-04\",\"2016-05\",\"2016-06\",\"2016-07\",\"2016-08\",\"2016-09\",\"2016-10\",\"2016-11\",\"2016-12\",\"2017-01\",\"2017-02\",\"2017-03\",\"2017-04\",\"2017-05\",\"2017-06\",\"2017-07\",\"2017-08\",\"2017-09\",\"2017-10\",\"2017-11\",\"2017-12\",\"2018-01\",\"2018-02\",\"2018-03\",\"2018-04\",\"2018-05\",\"2018-06\",\"2018-07\",\"2018-08\",\"2018-09\"],\"y\":[1416.3430173083964,1420.6639277987272,1393.574069329366,1374.6548302150084,1364.3609595473333,1364.2273477311412,1381.3259835135864,1360.3109274348424,1336.9497531940228,1293.884088397859,1289.5082768915863,1287.1316242093349,1285.5395517132376,1259.7674454582661,1222.970967112552,1211.607207953943,1209.627088257726,1227.7042553612785,1210.3795579462558,1194.9313850312992,1171.7511235575291,1182.9165068651068,1200.3139556420035,1207.8137954455717,1199.280659207913,1178.1211546792958,1187.464468835619,1200.4449482785744,1226.703382983786,1217.8302548932015,1208.1982517141553,1198.8285065964114,1214.6925656049887,1237.3193991438882,1239.8684728529058,1231.8379492260754,1211.5624150624787,1223.1324063655848,1235.275995486467,1253.1647332109108,1240.0727218425739,1224.6033830283347,1218.3142232825428,1229.9637678674317,1249.1741413823154,1242.91341013179,1231.3934054649235,1211.6697150057762,1223.2717492850193,1235.0706815114365,1245.459703822451,1231.2398421186917,1213.9281354143745,1213.398256293327,1224.6112491597175,1242.5703892274892,1232.7420009729287,1221.122284104417,1206.5531021885745,1220.074972875723,1233.8555304992628,1239.0967780221827,1226.1031870007375,1209.7409465241126],\"type\":\"scatter\"},{\"name\":\"SARIMA\",\"x\":[\"2013-06\",\"2013-07\",\"2013-08\",\"2013-09\",\"2013-10\",\"2013-11\",\"2013-12\",\"2014-01\",\"2014-02\",\"2014-03\",\"2014-04\",\"2014-05\",\"2014-06\",\"2014-07\",\"2014-08\",\"2014-09\",\"2014-10\",\"2014-11\",\"2014-12\",\"2015-01\",\"2015-02\",\"2015-03\",\"2015-04\",\"2015-05\",\"2015-06\",\"2015-07\",\"2015-08\",\"2015-09\",\"2015-10\",\"2015-11\",\"2015-12\",\"2016-01\",\"2016-02\",\"2016-03\",\"2016-04\",\"2016-05\",\"2016-06\",\"2016-07\",\"2016-08\",\"2016-09\",\"2016-10\",\"2016-11\",\"2016-12\",\"2017-01\",\"2017-02\",\"2017-03\",\"2017-04\",\"2017-05\",\"2017-06\",\"2017-07\",\"2017-08\",\"2017-09\",\"2017-10\",\"2017-11\",\"2017-12\",\"2018-01\",\"2018-02\",\"2018-03\",\"2018-04\",\"2018-05\",\"2018-06\",\"2018-07\",\"2018-08\",\"2018-09\"],\"y\":[1423.0284751507825,1442.1979015443928,1556.0473527840159,1623.591763145918,1568.0073669987705,1592.141751925421,1531.4510096987538,1525.635891433091,1550.0886805852535,1495.8888570098247,1431.0271597561111,1364.5103667863086,1373.2560747251687,1381.1502751570624,1453.544113540837,1546.0272970531662,1521.1729662114574,1521.6837675071029,1473.1200429787586,1462.3677845550444,1453.200500723996,1406.4389065282987,1320.966891362055,1252.7882128519584,1260.5812869701347,1274.2495828033268,1367.8730324039138,1447.5849547591868,1406.9936152433993,1419.6021630559762,1364.8281366355814,1356.6042105378858,1364.6539216888264,1314.0831758006366,1239.1657998302817,1171.8381805972476,1180.1191029041704,1190.83045775751,1273.582125194746,1359.834269499106,1327.3019249625513,1333.715160790547,1282.1214587128584,1272.6027619288645,1271.8355702623167,1223.215508586146,1142.8930530324399,1075.129602404576,1083.160695396083,1095.3863134111234,1183.7054708132134,1266.6083371866555,1229.9489440209493,1239.5348277906573,1186.3124668972423,1177.456828174424,1181.204813248902,1131.585797159201,1054.0313078770223,986.4910485236547,994.6500802638974,1006.1002371052087,1091.5682571277032,1176.1863042313803],\"type\":\"scatter\"}],                        {\"template\":{\"data\":{\"histogram2dcontour\":[{\"type\":\"histogram2dcontour\",\"colorbar\":{\"outlinewidth\":0,\"ticks\":\"\"},\"colorscale\":[[0.0,\"#0d0887\"],[0.1111111111111111,\"#46039f\"],[0.2222222222222222,\"#7201a8\"],[0.3333333333333333,\"#9c179e\"],[0.4444444444444444,\"#bd3786\"],[0.5555555555555556,\"#d8576b\"],[0.6666666666666666,\"#ed7953\"],[0.7777777777777778,\"#fb9f3a\"],[0.8888888888888888,\"#fdca26\"],[1.0,\"#f0f921\"]]}],\"choropleth\":[{\"type\":\"choropleth\",\"colorbar\":{\"outlinewidth\":0,\"ticks\":\"\"}}],\"histogram2d\":[{\"type\":\"histogram2d\",\"colorbar\":{\"outlinewidth\":0,\"ticks\":\"\"},\"colorscale\":[[0.0,\"#0d0887\"],[0.1111111111111111,\"#46039f\"],[0.2222222222222222,\"#7201a8\"],[0.3333333333333333,\"#9c179e\"],[0.4444444444444444,\"#bd3786\"],[0.5555555555555556,\"#d8576b\"],[0.6666666666666666,\"#ed7953\"],[0.7777777777777778,\"#fb9f3a\"],[0.8888888888888888,\"#fdca26\"],[1.0,\"#f0f921\"]]}],\"heatmap\":[{\"type\":\"heatmap\",\"colorbar\":{\"outlinewidth\":0,\"ticks\":\"\"},\"colorscale\":[[0.0,\"#0d0887\"],[0.1111111111111111,\"#46039f\"],[0.2222222222222222,\"#7201a8\"],[0.3333333333333333,\"#9c179e\"],[0.4444444444444444,\"#bd3786\"],[0.5555555555555556,\"#d8576b\"],[0.6666666666666666,\"#ed7953\"],[0.7777777777777778,\"#fb9f3a\"],[0.8888888888888888,\"#fdca26\"],[1.0,\"#f0f921\"]]}],\"heatmapgl\":[{\"type\":\"heatmapgl\",\"colorbar\":{\"outlinewidth\":0,\"ticks\":\"\"},\"colorscale\":[[0.0,\"#0d0887\"],[0.1111111111111111,\"#46039f\"],[0.2222222222222222,\"#7201a8\"],[0.3333333333333333,\"#9c179e\"],[0.4444444444444444,\"#bd3786\"],[0.5555555555555556,\"#d8576b\"],[0.6666666666666666,\"#ed7953\"],[0.7777777777777778,\"#fb9f3a\"],[0.8888888888888888,\"#fdca26\"],[1.0,\"#f0f921\"]]}],\"contourcarpet\":[{\"type\":\"contourcarpet\",\"colorbar\":{\"outlinewidth\":0,\"ticks\":\"\"}}],\"contour\":[{\"type\":\"contour\",\"colorbar\":{\"outlinewidth\":0,\"ticks\":\"\"},\"colorscale\":[[0.0,\"#0d0887\"],[0.1111111111111111,\"#46039f\"],[0.2222222222222222,\"#7201a8\"],[0.3333333333333333,\"#9c179e\"],[0.4444444444444444,\"#bd3786\"],[0.5555555555555556,\"#d8576b\"],[0.6666666666666666,\"#ed7953\"],[0.7777777777777778,\"#fb9f3a\"],[0.8888888888888888,\"#fdca26\"],[1.0,\"#f0f921\"]]}],\"surface\":[{\"type\":\"surface\",\"colorbar\":{\"outlinewidth\":0,\"ticks\":\"\"},\"colorscale\":[[0.0,\"#0d0887\"],[0.1111111111111111,\"#46039f\"],[0.2222222222222222,\"#7201a8\"],[0.3333333333333333,\"#9c179e\"],[0.4444444444444444,\"#bd3786\"],[0.5555555555555556,\"#d8576b\"],[0.6666666666666666,\"#ed7953\"],[0.7777777777777778,\"#fb9f3a\"],[0.8888888888888888,\"#fdca26\"],[1.0,\"#f0f921\"]]}],\"mesh3d\":[{\"type\":\"mesh3d\",\"colorbar\":{\"outlinewidth\":0,\"ticks\":\"\"}}],\"scatter\":[{\"fillpattern\":{\"fillmode\":\"overlay\",\"size\":10,\"solidity\":0.2},\"type\":\"scatter\"}],\"parcoords\":[{\"type\":\"parcoords\",\"line\":{\"colorbar\":{\"outlinewidth\":0,\"ticks\":\"\"}}}],\"scatterpolargl\":[{\"type\":\"scatterpolargl\",\"marker\":{\"colorbar\":{\"outlinewidth\":0,\"ticks\":\"\"}}}],\"bar\":[{\"error_x\":{\"color\":\"#2a3f5f\"},\"error_y\":{\"color\":\"#2a3f5f\"},\"marker\":{\"line\":{\"color\":\"#E5ECF6\",\"width\":0.5},\"pattern\":{\"fillmode\":\"overlay\",\"size\":10,\"solidity\":0.2}},\"type\":\"bar\"}],\"scattergeo\":[{\"type\":\"scattergeo\",\"marker\":{\"colorbar\":{\"outlinewidth\":0,\"ticks\":\"\"}}}],\"scatterpolar\":[{\"type\":\"scatterpolar\",\"marker\":{\"colorbar\":{\"outlinewidth\":0,\"ticks\":\"\"}}}],\"histogram\":[{\"marker\":{\"pattern\":{\"fillmode\":\"overlay\",\"size\":10,\"solidity\":0.2}},\"type\":\"histogram\"}],\"scattergl\":[{\"type\":\"scattergl\",\"marker\":{\"colorbar\":{\"outlinewidth\":0,\"ticks\":\"\"}}}],\"scatter3d\":[{\"type\":\"scatter3d\",\"line\":{\"colorbar\":{\"outlinewidth\":0,\"ticks\":\"\"}},\"marker\":{\"colorbar\":{\"outlinewidth\":0,\"ticks\":\"\"}}}],\"scattermapbox\":[{\"type\":\"scattermapbox\",\"marker\":{\"colorbar\":{\"outlinewidth\":0,\"ticks\":\"\"}}}],\"scatterternary\":[{\"type\":\"scatterternary\",\"marker\":{\"colorbar\":{\"outlinewidth\":0,\"ticks\":\"\"}}}],\"scattercarpet\":[{\"type\":\"scattercarpet\",\"marker\":{\"colorbar\":{\"outlinewidth\":0,\"ticks\":\"\"}}}],\"carpet\":[{\"aaxis\":{\"endlinecolor\":\"#2a3f5f\",\"gridcolor\":\"white\",\"linecolor\":\"white\",\"minorgridcolor\":\"white\",\"startlinecolor\":\"#2a3f5f\"},\"baxis\":{\"endlinecolor\":\"#2a3f5f\",\"gridcolor\":\"white\",\"linecolor\":\"white\",\"minorgridcolor\":\"white\",\"startlinecolor\":\"#2a3f5f\"},\"type\":\"carpet\"}],\"table\":[{\"cells\":{\"fill\":{\"color\":\"#EBF0F8\"},\"line\":{\"color\":\"white\"}},\"header\":{\"fill\":{\"color\":\"#C8D4E3\"},\"line\":{\"color\":\"white\"}},\"type\":\"table\"}],\"barpolar\":[{\"marker\":{\"line\":{\"color\":\"#E5ECF6\",\"width\":0.5},\"pattern\":{\"fillmode\":\"overlay\",\"size\":10,\"solidity\":0.2}},\"type\":\"barpolar\"}],\"pie\":[{\"automargin\":true,\"type\":\"pie\"}]},\"layout\":{\"autotypenumbers\":\"strict\",\"colorway\":[\"#636efa\",\"#EF553B\",\"#00cc96\",\"#ab63fa\",\"#FFA15A\",\"#19d3f3\",\"#FF6692\",\"#B6E880\",\"#FF97FF\",\"#FECB52\"],\"font\":{\"color\":\"#2a3f5f\"},\"hovermode\":\"closest\",\"hoverlabel\":{\"align\":\"left\"},\"paper_bgcolor\":\"white\",\"plot_bgcolor\":\"#E5ECF6\",\"polar\":{\"bgcolor\":\"#E5ECF6\",\"angularaxis\":{\"gridcolor\":\"white\",\"linecolor\":\"white\",\"ticks\":\"\"},\"radialaxis\":{\"gridcolor\":\"white\",\"linecolor\":\"white\",\"ticks\":\"\"}},\"ternary\":{\"bgcolor\":\"#E5ECF6\",\"aaxis\":{\"gridcolor\":\"white\",\"linecolor\":\"white\",\"ticks\":\"\"},\"baxis\":{\"gridcolor\":\"white\",\"linecolor\":\"white\",\"ticks\":\"\"},\"caxis\":{\"gridcolor\":\"white\",\"linecolor\":\"white\",\"ticks\":\"\"}},\"coloraxis\":{\"colorbar\":{\"outlinewidth\":0,\"ticks\":\"\"}},\"colorscale\":{\"sequential\":[[0.0,\"#0d0887\"],[0.1111111111111111,\"#46039f\"],[0.2222222222222222,\"#7201a8\"],[0.3333333333333333,\"#9c179e\"],[0.4444444444444444,\"#bd3786\"],[0.5555555555555556,\"#d8576b\"],[0.6666666666666666,\"#ed7953\"],[0.7777777777777778,\"#fb9f3a\"],[0.8888888888888888,\"#fdca26\"],[1.0,\"#f0f921\"]],\"sequentialminus\":[[0.0,\"#0d0887\"],[0.1111111111111111,\"#46039f\"],[0.2222222222222222,\"#7201a8\"],[0.3333333333333333,\"#9c179e\"],[0.4444444444444444,\"#bd3786\"],[0.5555555555555556,\"#d8576b\"],[0.6666666666666666,\"#ed7953\"],[0.7777777777777778,\"#fb9f3a\"],[0.8888888888888888,\"#fdca26\"],[1.0,\"#f0f921\"]],\"diverging\":[[0,\"#8e0152\"],[0.1,\"#c51b7d\"],[0.2,\"#de77ae\"],[0.3,\"#f1b6da\"],[0.4,\"#fde0ef\"],[0.5,\"#f7f7f7\"],[0.6,\"#e6f5d0\"],[0.7,\"#b8e186\"],[0.8,\"#7fbc41\"],[0.9,\"#4d9221\"],[1,\"#276419\"]]},\"xaxis\":{\"gridcolor\":\"white\",\"linecolor\":\"white\",\"ticks\":\"\",\"title\":{\"standoff\":15},\"zerolinecolor\":\"white\",\"automargin\":true,\"zerolinewidth\":2},\"yaxis\":{\"gridcolor\":\"white\",\"linecolor\":\"white\",\"ticks\":\"\",\"title\":{\"standoff\":15},\"zerolinecolor\":\"white\",\"automargin\":true,\"zerolinewidth\":2},\"scene\":{\"xaxis\":{\"backgroundcolor\":\"#E5ECF6\",\"gridcolor\":\"white\",\"linecolor\":\"white\",\"showbackground\":true,\"ticks\":\"\",\"zerolinecolor\":\"white\",\"gridwidth\":2},\"yaxis\":{\"backgroundcolor\":\"#E5ECF6\",\"gridcolor\":\"white\",\"linecolor\":\"white\",\"showbackground\":true,\"ticks\":\"\",\"zerolinecolor\":\"white\",\"gridwidth\":2},\"zaxis\":{\"backgroundcolor\":\"#E5ECF6\",\"gridcolor\":\"white\",\"linecolor\":\"white\",\"showbackground\":true,\"ticks\":\"\",\"zerolinecolor\":\"white\",\"gridwidth\":2}},\"shapedefaults\":{\"line\":{\"color\":\"#2a3f5f\"}},\"annotationdefaults\":{\"arrowcolor\":\"#2a3f5f\",\"arrowhead\":0,\"arrowwidth\":1},\"geo\":{\"bgcolor\":\"white\",\"landcolor\":\"#E5ECF6\",\"subunitcolor\":\"white\",\"showland\":true,\"showlakes\":true,\"lakecolor\":\"white\"},\"title\":{\"x\":0.05},\"mapbox\":{\"style\":\"light\"}}}},                        {\"responsive\": true}                    ).then(function(){\n",
              "                            \n",
              "var gd = document.getElementById('60ec612e-00c7-40dc-8c3d-3d43b964afff');\n",
              "var x = new MutationObserver(function (mutations, observer) {{\n",
              "        var display = window.getComputedStyle(gd).display;\n",
              "        if (!display || display === 'none') {{\n",
              "            console.log([gd, 'removed!']);\n",
              "            Plotly.purge(gd);\n",
              "            observer.disconnect();\n",
              "        }}\n",
              "}});\n",
              "\n",
              "// Listen for the removal of the full notebook cells\n",
              "var notebookContainer = gd.closest('#notebook-container');\n",
              "if (notebookContainer) {{\n",
              "    x.observe(notebookContainer, {childList: true});\n",
              "}}\n",
              "\n",
              "// Listen for the clearing of the current output cell\n",
              "var outputEl = gd.closest('.output');\n",
              "if (outputEl) {{\n",
              "    x.observe(outputEl, {childList: true});\n",
              "}}\n",
              "\n",
              "                        })                };                            </script>        </div>\n",
              "</body>\n",
              "</html>"
            ]
          },
          "metadata": {},
          "output_type": "display_data"
        }
      ],
      "source": [
        "import plotly.graph_objects as go\n",
        "\n",
        "fig = go.Figure([go.Scatter(name='Actual', x=df['Date'], y=df['Price'], mode='markers')])\n",
        "\n",
        "fig.add_trace(go.Scatter(name='Prophet', x=df_forecast_prophet['Date'], y=df_forecast_prophet['Price']))\n",
        "fig.add_trace(go.Scatter(name='ARIMA', x=df_forecast_arima['Date'], y=df_forecast_arima['Price']))\n",
        "fig.add_trace(go.Scatter(name='SARIMA', x=df_forecast_sarima['Date'], y=df_forecast_sarima['Price']))\n",
        "fig.show()"
      ]
    },
    {
      "cell_type": "markdown",
      "metadata": {
        "id": "23KuHe4YhVsC"
      },
      "source": [
        "> Catatan:\n",
        ">\n",
        "> - **Kinerja Prakiraan**: Model **Prophet** menangkap tren awal tetapi gagal menangkap tren jangka panjang dan terlalu tinggi memperkirakan nilai masa depan, terutama setelah tahun 2015, sehingga menunjukkan kinerja yang buruk di periode selanjutnya.\n",
        ">\n",
        "> - **SARIMA**: Model ini berkinerja buruk dan menciptakan pola yang konstan sepanjang prediksi. Model ini gagal menangkap tren apa pun.\n",
        ">\n",
        "> - **Model Berkinerja Terbaik**: Secara keseluruhan, **ARIMA** menunjukkan kecocokan yang lebih baik pada periode pengujian, memiliki RMSE paling kecil di sekitar **65,9**, dan dapat menangkap tren dengan baik dari waktu ke waktu."
      ]
    },
    {
      "cell_type": "markdown",
      "metadata": {
        "id": "UK6UA8-mhVsC"
      },
      "source": [
        "#### **Final Result Forcast**"
      ]
    },
    {
      "cell_type": "code",
      "execution_count": null,
      "metadata": {
        "colab": {
          "base_uri": "https://localhost:8080/",
          "height": 419
        },
        "id": "bSZ5nuNPhVsC",
        "outputId": "482ee193-1a78-46cd-a403-6c6abd7de923"
      },
      "outputs": [
        {
          "data": {
            "application/vnd.google.colaboratory.intrinsic+json": {
              "repr_error": "0",
              "type": "dataframe",
              "variable_name": "df_final"
            },
            "text/html": [
              "\n",
              "  <div id=\"df-b5227ccb-ee16-4462-bdd4-d0e2484a6768\" class=\"colab-df-container\">\n",
              "    <div>\n",
              "<style scoped>\n",
              "    .dataframe tbody tr th:only-of-type {\n",
              "        vertical-align: middle;\n",
              "    }\n",
              "\n",
              "    .dataframe tbody tr th {\n",
              "        vertical-align: top;\n",
              "    }\n",
              "\n",
              "    .dataframe thead th {\n",
              "        text-align: right;\n",
              "    }\n",
              "</style>\n",
              "<table border=\"1\" class=\"dataframe\">\n",
              "  <thead>\n",
              "    <tr style=\"text-align: right;\">\n",
              "      <th></th>\n",
              "      <th>Date</th>\n",
              "      <th>Price</th>\n",
              "    </tr>\n",
              "  </thead>\n",
              "  <tbody>\n",
              "    <tr>\n",
              "      <th>673</th>\n",
              "      <td>2006-02</td>\n",
              "      <td>555.518</td>\n",
              "    </tr>\n",
              "    <tr>\n",
              "      <th>674</th>\n",
              "      <td>2006-03</td>\n",
              "      <td>557.215</td>\n",
              "    </tr>\n",
              "    <tr>\n",
              "      <th>675</th>\n",
              "      <td>2006-04</td>\n",
              "      <td>611.853</td>\n",
              "    </tr>\n",
              "    <tr>\n",
              "      <th>676</th>\n",
              "      <td>2006-05</td>\n",
              "      <td>676.769</td>\n",
              "    </tr>\n",
              "    <tr>\n",
              "      <th>677</th>\n",
              "      <td>2006-06</td>\n",
              "      <td>597.898</td>\n",
              "    </tr>\n",
              "    <tr>\n",
              "      <th>...</th>\n",
              "      <td>...</td>\n",
              "      <td>...</td>\n",
              "    </tr>\n",
              "    <tr>\n",
              "      <th>820</th>\n",
              "      <td>2018-05</td>\n",
              "      <td>1303.618</td>\n",
              "    </tr>\n",
              "    <tr>\n",
              "      <th>821</th>\n",
              "      <td>2018-06</td>\n",
              "      <td>1282.126</td>\n",
              "    </tr>\n",
              "    <tr>\n",
              "      <th>822</th>\n",
              "      <td>2018-07</td>\n",
              "      <td>1238.064</td>\n",
              "    </tr>\n",
              "    <tr>\n",
              "      <th>823</th>\n",
              "      <td>2018-08</td>\n",
              "      <td>1201.859</td>\n",
              "    </tr>\n",
              "    <tr>\n",
              "      <th>824</th>\n",
              "      <td>2018-09</td>\n",
              "      <td>1199.198</td>\n",
              "    </tr>\n",
              "  </tbody>\n",
              "</table>\n",
              "<p>152 rows × 2 columns</p>\n",
              "</div>\n",
              "    <div class=\"colab-df-buttons\">\n",
              "\n",
              "  <div class=\"colab-df-container\">\n",
              "    <button class=\"colab-df-convert\" onclick=\"convertToInteractive('df-b5227ccb-ee16-4462-bdd4-d0e2484a6768')\"\n",
              "            title=\"Convert this dataframe to an interactive table.\"\n",
              "            style=\"display:none;\">\n",
              "\n",
              "  <svg xmlns=\"http://www.w3.org/2000/svg\" height=\"24px\" viewBox=\"0 -960 960 960\">\n",
              "    <path d=\"M120-120v-720h720v720H120Zm60-500h600v-160H180v160Zm220 220h160v-160H400v160Zm0 220h160v-160H400v160ZM180-400h160v-160H180v160Zm440 0h160v-160H620v160ZM180-180h160v-160H180v160Zm440 0h160v-160H620v160Z\"/>\n",
              "  </svg>\n",
              "    </button>\n",
              "\n",
              "  <style>\n",
              "    .colab-df-container {\n",
              "      display:flex;\n",
              "      gap: 12px;\n",
              "    }\n",
              "\n",
              "    .colab-df-convert {\n",
              "      background-color: #E8F0FE;\n",
              "      border: none;\n",
              "      border-radius: 50%;\n",
              "      cursor: pointer;\n",
              "      display: none;\n",
              "      fill: #1967D2;\n",
              "      height: 32px;\n",
              "      padding: 0 0 0 0;\n",
              "      width: 32px;\n",
              "    }\n",
              "\n",
              "    .colab-df-convert:hover {\n",
              "      background-color: #E2EBFA;\n",
              "      box-shadow: 0px 1px 2px rgba(60, 64, 67, 0.3), 0px 1px 3px 1px rgba(60, 64, 67, 0.15);\n",
              "      fill: #174EA6;\n",
              "    }\n",
              "\n",
              "    .colab-df-buttons div {\n",
              "      margin-bottom: 4px;\n",
              "    }\n",
              "\n",
              "    [theme=dark] .colab-df-convert {\n",
              "      background-color: #3B4455;\n",
              "      fill: #D2E3FC;\n",
              "    }\n",
              "\n",
              "    [theme=dark] .colab-df-convert:hover {\n",
              "      background-color: #434B5C;\n",
              "      box-shadow: 0px 1px 3px 1px rgba(0, 0, 0, 0.15);\n",
              "      filter: drop-shadow(0px 1px 2px rgba(0, 0, 0, 0.3));\n",
              "      fill: #FFFFFF;\n",
              "    }\n",
              "  </style>\n",
              "\n",
              "    <script>\n",
              "      const buttonEl =\n",
              "        document.querySelector('#df-b5227ccb-ee16-4462-bdd4-d0e2484a6768 button.colab-df-convert');\n",
              "      buttonEl.style.display =\n",
              "        google.colab.kernel.accessAllowed ? 'block' : 'none';\n",
              "\n",
              "      async function convertToInteractive(key) {\n",
              "        const element = document.querySelector('#df-b5227ccb-ee16-4462-bdd4-d0e2484a6768');\n",
              "        const dataTable =\n",
              "          await google.colab.kernel.invokeFunction('convertToInteractive',\n",
              "                                                    [key], {});\n",
              "        if (!dataTable) return;\n",
              "\n",
              "        const docLinkHtml = 'Like what you see? Visit the ' +\n",
              "          '<a target=\"_blank\" href=https://colab.research.google.com/notebooks/data_table.ipynb>data table notebook</a>'\n",
              "          + ' to learn more about interactive tables.';\n",
              "        element.innerHTML = '';\n",
              "        dataTable['output_type'] = 'display_data';\n",
              "        await google.colab.output.renderOutput(dataTable, element);\n",
              "        const docLink = document.createElement('div');\n",
              "        docLink.innerHTML = docLinkHtml;\n",
              "        element.appendChild(docLink);\n",
              "      }\n",
              "    </script>\n",
              "  </div>\n",
              "\n",
              "\n",
              "<div id=\"df-ca19392d-78e9-4a52-a752-ece919bec879\">\n",
              "  <button class=\"colab-df-quickchart\" onclick=\"quickchart('df-ca19392d-78e9-4a52-a752-ece919bec879')\"\n",
              "            title=\"Suggest charts\"\n",
              "            style=\"display:none;\">\n",
              "\n",
              "<svg xmlns=\"http://www.w3.org/2000/svg\" height=\"24px\"viewBox=\"0 0 24 24\"\n",
              "     width=\"24px\">\n",
              "    <g>\n",
              "        <path d=\"M19 3H5c-1.1 0-2 .9-2 2v14c0 1.1.9 2 2 2h14c1.1 0 2-.9 2-2V5c0-1.1-.9-2-2-2zM9 17H7v-7h2v7zm4 0h-2V7h2v10zm4 0h-2v-4h2v4z\"/>\n",
              "    </g>\n",
              "</svg>\n",
              "  </button>\n",
              "\n",
              "<style>\n",
              "  .colab-df-quickchart {\n",
              "      --bg-color: #E8F0FE;\n",
              "      --fill-color: #1967D2;\n",
              "      --hover-bg-color: #E2EBFA;\n",
              "      --hover-fill-color: #174EA6;\n",
              "      --disabled-fill-color: #AAA;\n",
              "      --disabled-bg-color: #DDD;\n",
              "  }\n",
              "\n",
              "  [theme=dark] .colab-df-quickchart {\n",
              "      --bg-color: #3B4455;\n",
              "      --fill-color: #D2E3FC;\n",
              "      --hover-bg-color: #434B5C;\n",
              "      --hover-fill-color: #FFFFFF;\n",
              "      --disabled-bg-color: #3B4455;\n",
              "      --disabled-fill-color: #666;\n",
              "  }\n",
              "\n",
              "  .colab-df-quickchart {\n",
              "    background-color: var(--bg-color);\n",
              "    border: none;\n",
              "    border-radius: 50%;\n",
              "    cursor: pointer;\n",
              "    display: none;\n",
              "    fill: var(--fill-color);\n",
              "    height: 32px;\n",
              "    padding: 0;\n",
              "    width: 32px;\n",
              "  }\n",
              "\n",
              "  .colab-df-quickchart:hover {\n",
              "    background-color: var(--hover-bg-color);\n",
              "    box-shadow: 0 1px 2px rgba(60, 64, 67, 0.3), 0 1px 3px 1px rgba(60, 64, 67, 0.15);\n",
              "    fill: var(--button-hover-fill-color);\n",
              "  }\n",
              "\n",
              "  .colab-df-quickchart-complete:disabled,\n",
              "  .colab-df-quickchart-complete:disabled:hover {\n",
              "    background-color: var(--disabled-bg-color);\n",
              "    fill: var(--disabled-fill-color);\n",
              "    box-shadow: none;\n",
              "  }\n",
              "\n",
              "  .colab-df-spinner {\n",
              "    border: 2px solid var(--fill-color);\n",
              "    border-color: transparent;\n",
              "    border-bottom-color: var(--fill-color);\n",
              "    animation:\n",
              "      spin 1s steps(1) infinite;\n",
              "  }\n",
              "\n",
              "  @keyframes spin {\n",
              "    0% {\n",
              "      border-color: transparent;\n",
              "      border-bottom-color: var(--fill-color);\n",
              "      border-left-color: var(--fill-color);\n",
              "    }\n",
              "    20% {\n",
              "      border-color: transparent;\n",
              "      border-left-color: var(--fill-color);\n",
              "      border-top-color: var(--fill-color);\n",
              "    }\n",
              "    30% {\n",
              "      border-color: transparent;\n",
              "      border-left-color: var(--fill-color);\n",
              "      border-top-color: var(--fill-color);\n",
              "      border-right-color: var(--fill-color);\n",
              "    }\n",
              "    40% {\n",
              "      border-color: transparent;\n",
              "      border-right-color: var(--fill-color);\n",
              "      border-top-color: var(--fill-color);\n",
              "    }\n",
              "    60% {\n",
              "      border-color: transparent;\n",
              "      border-right-color: var(--fill-color);\n",
              "    }\n",
              "    80% {\n",
              "      border-color: transparent;\n",
              "      border-right-color: var(--fill-color);\n",
              "      border-bottom-color: var(--fill-color);\n",
              "    }\n",
              "    90% {\n",
              "      border-color: transparent;\n",
              "      border-bottom-color: var(--fill-color);\n",
              "    }\n",
              "  }\n",
              "</style>\n",
              "\n",
              "  <script>\n",
              "    async function quickchart(key) {\n",
              "      const quickchartButtonEl =\n",
              "        document.querySelector('#' + key + ' button');\n",
              "      quickchartButtonEl.disabled = true;  // To prevent multiple clicks.\n",
              "      quickchartButtonEl.classList.add('colab-df-spinner');\n",
              "      try {\n",
              "        const charts = await google.colab.kernel.invokeFunction(\n",
              "            'suggestCharts', [key], {});\n",
              "      } catch (error) {\n",
              "        console.error('Error during call to suggestCharts:', error);\n",
              "      }\n",
              "      quickchartButtonEl.classList.remove('colab-df-spinner');\n",
              "      quickchartButtonEl.classList.add('colab-df-quickchart-complete');\n",
              "    }\n",
              "    (() => {\n",
              "      let quickchartButtonEl =\n",
              "        document.querySelector('#df-ca19392d-78e9-4a52-a752-ece919bec879 button');\n",
              "      quickchartButtonEl.style.display =\n",
              "        google.colab.kernel.accessAllowed ? 'block' : 'none';\n",
              "    })();\n",
              "  </script>\n",
              "</div>\n",
              "\n",
              "  <div id=\"id_fb743406-a8d9-4c77-9e96-8c057e3a6e2b\">\n",
              "    <style>\n",
              "      .colab-df-generate {\n",
              "        background-color: #E8F0FE;\n",
              "        border: none;\n",
              "        border-radius: 50%;\n",
              "        cursor: pointer;\n",
              "        display: none;\n",
              "        fill: #1967D2;\n",
              "        height: 32px;\n",
              "        padding: 0 0 0 0;\n",
              "        width: 32px;\n",
              "      }\n",
              "\n",
              "      .colab-df-generate:hover {\n",
              "        background-color: #E2EBFA;\n",
              "        box-shadow: 0px 1px 2px rgba(60, 64, 67, 0.3), 0px 1px 3px 1px rgba(60, 64, 67, 0.15);\n",
              "        fill: #174EA6;\n",
              "      }\n",
              "\n",
              "      [theme=dark] .colab-df-generate {\n",
              "        background-color: #3B4455;\n",
              "        fill: #D2E3FC;\n",
              "      }\n",
              "\n",
              "      [theme=dark] .colab-df-generate:hover {\n",
              "        background-color: #434B5C;\n",
              "        box-shadow: 0px 1px 3px 1px rgba(0, 0, 0, 0.15);\n",
              "        filter: drop-shadow(0px 1px 2px rgba(0, 0, 0, 0.3));\n",
              "        fill: #FFFFFF;\n",
              "      }\n",
              "    </style>\n",
              "    <button class=\"colab-df-generate\" onclick=\"generateWithVariable('df_final')\"\n",
              "            title=\"Generate code using this dataframe.\"\n",
              "            style=\"display:none;\">\n",
              "\n",
              "  <svg xmlns=\"http://www.w3.org/2000/svg\" height=\"24px\"viewBox=\"0 0 24 24\"\n",
              "       width=\"24px\">\n",
              "    <path d=\"M7,19H8.4L18.45,9,17,7.55,7,17.6ZM5,21V16.75L18.45,3.32a2,2,0,0,1,2.83,0l1.4,1.43a1.91,1.91,0,0,1,.58,1.4,1.91,1.91,0,0,1-.58,1.4L9.25,21ZM18.45,9,17,7.55Zm-12,3A5.31,5.31,0,0,0,4.9,8.1,5.31,5.31,0,0,0,1,6.5,5.31,5.31,0,0,0,4.9,4.9,5.31,5.31,0,0,0,6.5,1,5.31,5.31,0,0,0,8.1,4.9,5.31,5.31,0,0,0,12,6.5,5.46,5.46,0,0,0,6.5,12Z\"/>\n",
              "  </svg>\n",
              "    </button>\n",
              "    <script>\n",
              "      (() => {\n",
              "      const buttonEl =\n",
              "        document.querySelector('#id_fb743406-a8d9-4c77-9e96-8c057e3a6e2b button.colab-df-generate');\n",
              "      buttonEl.style.display =\n",
              "        google.colab.kernel.accessAllowed ? 'block' : 'none';\n",
              "\n",
              "      buttonEl.onclick = () => {\n",
              "        google.colab.notebook.generateWithVariable('df_final');\n",
              "      }\n",
              "      })();\n",
              "    </script>\n",
              "  </div>\n",
              "\n",
              "    </div>\n",
              "  </div>\n"
            ],
            "text/plain": [
              "        Date     Price\n",
              "673  2006-02   555.518\n",
              "674  2006-03   557.215\n",
              "675  2006-04   611.853\n",
              "676  2006-05   676.769\n",
              "677  2006-06   597.898\n",
              "..       ...       ...\n",
              "820  2018-05  1303.618\n",
              "821  2018-06  1282.126\n",
              "822  2018-07  1238.064\n",
              "823  2018-08  1201.859\n",
              "824  2018-09  1199.198\n",
              "\n",
              "[152 rows x 2 columns]"
            ]
          },
          "execution_count": 25,
          "metadata": {},
          "output_type": "execute_result"
        }
      ],
      "source": [
        "# Concatenating train and test DataFrames along the rows\n",
        "df_final = pd.concat([df_train, df_test])\n",
        "df_final = df_final[[\"Date\",\"Price\"]]\n",
        "df_final"
      ]
    },
    {
      "cell_type": "code",
      "execution_count": null,
      "metadata": {
        "id": "gpGKG7aDhVsD"
      },
      "outputs": [],
      "source": [
        "from statsmodels.tsa.arima.model import ARIMA\n",
        "model=ARIMA(df_final['Price'],order=(6,1,9))\n",
        "\n",
        "model_fit=model.fit()\n",
        "\n",
        "forecast_length=24\n",
        "forecast_result=model_fit.forecast(forecast_length)"
      ]
    },
    {
      "cell_type": "markdown",
      "metadata": {
        "id": "Qlx0TrWohVsD"
      },
      "source": [
        "> Catatan:\n",
        ">\n",
        "> - **Prediksi**: Kami akan memilih model dengan performa terbaik dari ketiganya (Tuned ARIMA) dan meramalkan 2 tahun ke depan."
      ]
    },
    {
      "cell_type": "code",
      "execution_count": null,
      "metadata": {
        "colab": {
          "base_uri": "https://localhost:8080/",
          "height": 204
        },
        "id": "7X609ncghVsD",
        "outputId": "8ab26c04-447d-4413-f077-77182b3c0a16"
      },
      "outputs": [
        {
          "data": {
            "application/vnd.google.colaboratory.intrinsic+json": {
              "repr_error": "0",
              "type": "dataframe",
              "variable_name": "df_forecast_final"
            },
            "text/html": [
              "\n",
              "  <div id=\"df-98e19412-2ad1-4d18-8833-c3caf10afb7d\" class=\"colab-df-container\">\n",
              "    <div>\n",
              "<style scoped>\n",
              "    .dataframe tbody tr th:only-of-type {\n",
              "        vertical-align: middle;\n",
              "    }\n",
              "\n",
              "    .dataframe tbody tr th {\n",
              "        vertical-align: top;\n",
              "    }\n",
              "\n",
              "    .dataframe thead th {\n",
              "        text-align: right;\n",
              "    }\n",
              "</style>\n",
              "<table border=\"1\" class=\"dataframe\">\n",
              "  <thead>\n",
              "    <tr style=\"text-align: right;\">\n",
              "      <th></th>\n",
              "      <th>Date</th>\n",
              "      <th>Price</th>\n",
              "    </tr>\n",
              "  </thead>\n",
              "  <tbody>\n",
              "    <tr>\n",
              "      <th>152</th>\n",
              "      <td>2018-10</td>\n",
              "      <td>1183.045524</td>\n",
              "    </tr>\n",
              "    <tr>\n",
              "      <th>153</th>\n",
              "      <td>2018-11</td>\n",
              "      <td>1171.640052</td>\n",
              "    </tr>\n",
              "    <tr>\n",
              "      <th>154</th>\n",
              "      <td>2018-12</td>\n",
              "      <td>1169.644143</td>\n",
              "    </tr>\n",
              "    <tr>\n",
              "      <th>155</th>\n",
              "      <td>2019-01</td>\n",
              "      <td>1177.909550</td>\n",
              "    </tr>\n",
              "    <tr>\n",
              "      <th>156</th>\n",
              "      <td>2019-02</td>\n",
              "      <td>1199.004246</td>\n",
              "    </tr>\n",
              "  </tbody>\n",
              "</table>\n",
              "</div>\n",
              "    <div class=\"colab-df-buttons\">\n",
              "\n",
              "  <div class=\"colab-df-container\">\n",
              "    <button class=\"colab-df-convert\" onclick=\"convertToInteractive('df-98e19412-2ad1-4d18-8833-c3caf10afb7d')\"\n",
              "            title=\"Convert this dataframe to an interactive table.\"\n",
              "            style=\"display:none;\">\n",
              "\n",
              "  <svg xmlns=\"http://www.w3.org/2000/svg\" height=\"24px\" viewBox=\"0 -960 960 960\">\n",
              "    <path d=\"M120-120v-720h720v720H120Zm60-500h600v-160H180v160Zm220 220h160v-160H400v160Zm0 220h160v-160H400v160ZM180-400h160v-160H180v160Zm440 0h160v-160H620v160ZM180-180h160v-160H180v160Zm440 0h160v-160H620v160Z\"/>\n",
              "  </svg>\n",
              "    </button>\n",
              "\n",
              "  <style>\n",
              "    .colab-df-container {\n",
              "      display:flex;\n",
              "      gap: 12px;\n",
              "    }\n",
              "\n",
              "    .colab-df-convert {\n",
              "      background-color: #E8F0FE;\n",
              "      border: none;\n",
              "      border-radius: 50%;\n",
              "      cursor: pointer;\n",
              "      display: none;\n",
              "      fill: #1967D2;\n",
              "      height: 32px;\n",
              "      padding: 0 0 0 0;\n",
              "      width: 32px;\n",
              "    }\n",
              "\n",
              "    .colab-df-convert:hover {\n",
              "      background-color: #E2EBFA;\n",
              "      box-shadow: 0px 1px 2px rgba(60, 64, 67, 0.3), 0px 1px 3px 1px rgba(60, 64, 67, 0.15);\n",
              "      fill: #174EA6;\n",
              "    }\n",
              "\n",
              "    .colab-df-buttons div {\n",
              "      margin-bottom: 4px;\n",
              "    }\n",
              "\n",
              "    [theme=dark] .colab-df-convert {\n",
              "      background-color: #3B4455;\n",
              "      fill: #D2E3FC;\n",
              "    }\n",
              "\n",
              "    [theme=dark] .colab-df-convert:hover {\n",
              "      background-color: #434B5C;\n",
              "      box-shadow: 0px 1px 3px 1px rgba(0, 0, 0, 0.15);\n",
              "      filter: drop-shadow(0px 1px 2px rgba(0, 0, 0, 0.3));\n",
              "      fill: #FFFFFF;\n",
              "    }\n",
              "  </style>\n",
              "\n",
              "    <script>\n",
              "      const buttonEl =\n",
              "        document.querySelector('#df-98e19412-2ad1-4d18-8833-c3caf10afb7d button.colab-df-convert');\n",
              "      buttonEl.style.display =\n",
              "        google.colab.kernel.accessAllowed ? 'block' : 'none';\n",
              "\n",
              "      async function convertToInteractive(key) {\n",
              "        const element = document.querySelector('#df-98e19412-2ad1-4d18-8833-c3caf10afb7d');\n",
              "        const dataTable =\n",
              "          await google.colab.kernel.invokeFunction('convertToInteractive',\n",
              "                                                    [key], {});\n",
              "        if (!dataTable) return;\n",
              "\n",
              "        const docLinkHtml = 'Like what you see? Visit the ' +\n",
              "          '<a target=\"_blank\" href=https://colab.research.google.com/notebooks/data_table.ipynb>data table notebook</a>'\n",
              "          + ' to learn more about interactive tables.';\n",
              "        element.innerHTML = '';\n",
              "        dataTable['output_type'] = 'display_data';\n",
              "        await google.colab.output.renderOutput(dataTable, element);\n",
              "        const docLink = document.createElement('div');\n",
              "        docLink.innerHTML = docLinkHtml;\n",
              "        element.appendChild(docLink);\n",
              "      }\n",
              "    </script>\n",
              "  </div>\n",
              "\n",
              "\n",
              "<div id=\"df-a4cc9b42-fb13-40ee-bbea-28a9e176ea19\">\n",
              "  <button class=\"colab-df-quickchart\" onclick=\"quickchart('df-a4cc9b42-fb13-40ee-bbea-28a9e176ea19')\"\n",
              "            title=\"Suggest charts\"\n",
              "            style=\"display:none;\">\n",
              "\n",
              "<svg xmlns=\"http://www.w3.org/2000/svg\" height=\"24px\"viewBox=\"0 0 24 24\"\n",
              "     width=\"24px\">\n",
              "    <g>\n",
              "        <path d=\"M19 3H5c-1.1 0-2 .9-2 2v14c0 1.1.9 2 2 2h14c1.1 0 2-.9 2-2V5c0-1.1-.9-2-2-2zM9 17H7v-7h2v7zm4 0h-2V7h2v10zm4 0h-2v-4h2v4z\"/>\n",
              "    </g>\n",
              "</svg>\n",
              "  </button>\n",
              "\n",
              "<style>\n",
              "  .colab-df-quickchart {\n",
              "      --bg-color: #E8F0FE;\n",
              "      --fill-color: #1967D2;\n",
              "      --hover-bg-color: #E2EBFA;\n",
              "      --hover-fill-color: #174EA6;\n",
              "      --disabled-fill-color: #AAA;\n",
              "      --disabled-bg-color: #DDD;\n",
              "  }\n",
              "\n",
              "  [theme=dark] .colab-df-quickchart {\n",
              "      --bg-color: #3B4455;\n",
              "      --fill-color: #D2E3FC;\n",
              "      --hover-bg-color: #434B5C;\n",
              "      --hover-fill-color: #FFFFFF;\n",
              "      --disabled-bg-color: #3B4455;\n",
              "      --disabled-fill-color: #666;\n",
              "  }\n",
              "\n",
              "  .colab-df-quickchart {\n",
              "    background-color: var(--bg-color);\n",
              "    border: none;\n",
              "    border-radius: 50%;\n",
              "    cursor: pointer;\n",
              "    display: none;\n",
              "    fill: var(--fill-color);\n",
              "    height: 32px;\n",
              "    padding: 0;\n",
              "    width: 32px;\n",
              "  }\n",
              "\n",
              "  .colab-df-quickchart:hover {\n",
              "    background-color: var(--hover-bg-color);\n",
              "    box-shadow: 0 1px 2px rgba(60, 64, 67, 0.3), 0 1px 3px 1px rgba(60, 64, 67, 0.15);\n",
              "    fill: var(--button-hover-fill-color);\n",
              "  }\n",
              "\n",
              "  .colab-df-quickchart-complete:disabled,\n",
              "  .colab-df-quickchart-complete:disabled:hover {\n",
              "    background-color: var(--disabled-bg-color);\n",
              "    fill: var(--disabled-fill-color);\n",
              "    box-shadow: none;\n",
              "  }\n",
              "\n",
              "  .colab-df-spinner {\n",
              "    border: 2px solid var(--fill-color);\n",
              "    border-color: transparent;\n",
              "    border-bottom-color: var(--fill-color);\n",
              "    animation:\n",
              "      spin 1s steps(1) infinite;\n",
              "  }\n",
              "\n",
              "  @keyframes spin {\n",
              "    0% {\n",
              "      border-color: transparent;\n",
              "      border-bottom-color: var(--fill-color);\n",
              "      border-left-color: var(--fill-color);\n",
              "    }\n",
              "    20% {\n",
              "      border-color: transparent;\n",
              "      border-left-color: var(--fill-color);\n",
              "      border-top-color: var(--fill-color);\n",
              "    }\n",
              "    30% {\n",
              "      border-color: transparent;\n",
              "      border-left-color: var(--fill-color);\n",
              "      border-top-color: var(--fill-color);\n",
              "      border-right-color: var(--fill-color);\n",
              "    }\n",
              "    40% {\n",
              "      border-color: transparent;\n",
              "      border-right-color: var(--fill-color);\n",
              "      border-top-color: var(--fill-color);\n",
              "    }\n",
              "    60% {\n",
              "      border-color: transparent;\n",
              "      border-right-color: var(--fill-color);\n",
              "    }\n",
              "    80% {\n",
              "      border-color: transparent;\n",
              "      border-right-color: var(--fill-color);\n",
              "      border-bottom-color: var(--fill-color);\n",
              "    }\n",
              "    90% {\n",
              "      border-color: transparent;\n",
              "      border-bottom-color: var(--fill-color);\n",
              "    }\n",
              "  }\n",
              "</style>\n",
              "\n",
              "  <script>\n",
              "    async function quickchart(key) {\n",
              "      const quickchartButtonEl =\n",
              "        document.querySelector('#' + key + ' button');\n",
              "      quickchartButtonEl.disabled = true;  // To prevent multiple clicks.\n",
              "      quickchartButtonEl.classList.add('colab-df-spinner');\n",
              "      try {\n",
              "        const charts = await google.colab.kernel.invokeFunction(\n",
              "            'suggestCharts', [key], {});\n",
              "      } catch (error) {\n",
              "        console.error('Error during call to suggestCharts:', error);\n",
              "      }\n",
              "      quickchartButtonEl.classList.remove('colab-df-spinner');\n",
              "      quickchartButtonEl.classList.add('colab-df-quickchart-complete');\n",
              "    }\n",
              "    (() => {\n",
              "      let quickchartButtonEl =\n",
              "        document.querySelector('#df-a4cc9b42-fb13-40ee-bbea-28a9e176ea19 button');\n",
              "      quickchartButtonEl.style.display =\n",
              "        google.colab.kernel.accessAllowed ? 'block' : 'none';\n",
              "    })();\n",
              "  </script>\n",
              "</div>\n",
              "\n",
              "    </div>\n",
              "  </div>\n"
            ],
            "text/plain": [
              "        Date        Price\n",
              "152  2018-10  1183.045524\n",
              "153  2018-11  1171.640052\n",
              "154  2018-12  1169.644143\n",
              "155  2019-01  1177.909550\n",
              "156  2019-02  1199.004246"
            ]
          },
          "execution_count": 27,
          "metadata": {},
          "output_type": "execute_result"
        }
      ],
      "source": [
        "import pandas as pd\n",
        "\n",
        "last_date = pd.to_datetime(df_test['Date'].max())\n",
        "\n",
        "month = pd.date_range(last_date + pd.DateOffset(months=1), periods=24, freq='M').strftime('%Y-%m').tolist()\n",
        "\n",
        "df_forecast_final = pd.DataFrame({'Date': month, 'Price': forecast_result})\n",
        "df_forecast_final.head()"
      ]
    },
    {
      "cell_type": "code",
      "execution_count": null,
      "metadata": {
        "colab": {
          "base_uri": "https://localhost:8080/",
          "height": 542
        },
        "id": "MiHfbzGUhVsD",
        "outputId": "6fc4ae5f-6205-4486-86d1-1b6bfc102659"
      },
      "outputs": [
        {
          "data": {
            "text/html": [
              "<html>\n",
              "<head><meta charset=\"utf-8\" /></head>\n",
              "<body>\n",
              "    <div>            <script src=\"https://cdnjs.cloudflare.com/ajax/libs/mathjax/2.7.5/MathJax.js?config=TeX-AMS-MML_SVG\"></script><script type=\"text/javascript\">if (window.MathJax && window.MathJax.Hub && window.MathJax.Hub.Config) {window.MathJax.Hub.Config({SVG: {font: \"STIX-Web\"}});}</script>                <script type=\"text/javascript\">window.PlotlyConfig = {MathJaxConfig: 'local'};</script>\n",
              "        <script charset=\"utf-8\" src=\"https://cdn.plot.ly/plotly-2.35.2.min.js\"></script>                <div id=\"999a7dac-8698-4098-ac1e-784144a8aa00\" class=\"plotly-graph-div\" style=\"height:525px; width:100%;\"></div>            <script type=\"text/javascript\">                                    window.PLOTLYENV=window.PLOTLYENV || {};                                    if (document.getElementById(\"999a7dac-8698-4098-ac1e-784144a8aa00\")) {                    Plotly.newPlot(                        \"999a7dac-8698-4098-ac1e-784144a8aa00\",                        [{\"mode\":\"markers\",\"name\":\"Actual\",\"x\":[\"2006-02\",\"2006-03\",\"2006-04\",\"2006-05\",\"2006-06\",\"2006-07\",\"2006-08\",\"2006-09\",\"2006-10\",\"2006-11\",\"2006-12\",\"2007-01\",\"2007-02\",\"2007-03\",\"2007-04\",\"2007-05\",\"2007-06\",\"2007-07\",\"2007-08\",\"2007-09\",\"2007-10\",\"2007-11\",\"2007-12\",\"2008-01\",\"2008-02\",\"2008-03\",\"2008-04\",\"2008-05\",\"2008-06\",\"2008-07\",\"2008-08\",\"2008-09\",\"2008-10\",\"2008-11\",\"2008-12\",\"2009-01\",\"2009-02\",\"2009-03\",\"2009-04\",\"2009-05\",\"2009-06\",\"2009-07\",\"2009-08\",\"2009-09\",\"2009-10\",\"2009-11\",\"2009-12\",\"2010-01\",\"2010-02\",\"2010-03\",\"2010-04\",\"2010-05\",\"2010-06\",\"2010-07\",\"2010-08\",\"2010-09\",\"2010-10\",\"2010-11\",\"2010-12\",\"2011-01\",\"2011-02\",\"2011-03\",\"2011-04\",\"2011-05\",\"2011-06\",\"2011-07\",\"2011-08\",\"2011-09\",\"2011-10\",\"2011-11\",\"2011-12\",\"2012-01\",\"2012-02\",\"2012-03\",\"2012-04\",\"2012-05\",\"2012-06\",\"2012-07\",\"2012-08\",\"2012-09\",\"2012-10\",\"2012-11\",\"2012-12\",\"2013-01\",\"2013-02\",\"2013-03\",\"2013-04\",\"2013-05\",\"2013-06\",\"2013-07\",\"2013-08\",\"2013-09\",\"2013-10\",\"2013-11\",\"2013-12\",\"2014-01\",\"2014-02\",\"2014-03\",\"2014-04\",\"2014-05\",\"2014-06\",\"2014-07\",\"2014-08\",\"2014-09\",\"2014-10\",\"2014-11\",\"2014-12\",\"2015-01\",\"2015-02\",\"2015-03\",\"2015-04\",\"2015-05\",\"2015-06\",\"2015-07\",\"2015-08\",\"2015-09\",\"2015-10\",\"2015-11\",\"2015-12\",\"2016-01\",\"2016-02\",\"2016-03\",\"2016-04\",\"2016-05\",\"2016-06\",\"2016-07\",\"2016-08\",\"2016-09\",\"2016-10\",\"2016-11\",\"2016-12\",\"2017-01\",\"2017-02\",\"2017-03\",\"2017-04\",\"2017-05\",\"2017-06\",\"2017-07\",\"2017-08\",\"2017-09\",\"2017-10\",\"2017-11\",\"2017-12\",\"2018-01\",\"2018-02\",\"2018-03\",\"2018-04\",\"2018-05\",\"2018-06\",\"2018-07\",\"2018-08\",\"2018-09\"],\"y\":[555.518,557.215,611.853,676.769,597.898,633.093,631.557,600.15,586.648,626.825,629.513,630.352,665.103,655.891,680.008,668.31,655.714,665.266,664.53,710.645,754.48,808.311,803.618,887.784,924.283,971.055,911.6,889.125,889.536,941.167,840.388,824.92,812.815,757.85,819.94,857.726,939.763,925.989,892.663,926.855,947.807,934.272,949.5,996.443,1043.511,1126.119,1135.012,1119.575,1095.8,1115.554,1148.475,1204.321,1232.382,1196.0,1213.464,1271.461,1343.19,1371.784,1393.512,1360.475,1371.313,1422.848,1474.431,1512.188,1528.38,1568.526,1759.5,1780.648,1667.893,1735.977,1652.725,1656.095,1743.095,1675.057,1648.539,1585.114,1595.632,1592.784,1625.682,1741.925,1746.348,1724.352,1687.342,1671.886,1630.688,1591.013,1485.905,1416.143,1342.7,1284.348,1345.048,1348.464,1314.402,1277.417,1221.588,1243.068,1298.713,1336.56,1299.175,1288.913,1277.857,1312.989,1297.005,1241.33,1223.565,1176.413,1200.44,1249.333,1231.1,1180.636,1198.253,1197.684,1182.248,1131.58,1117.525,1124.905,1157.123,1088.388,1068.317,1095.655,1194.893,1246.312,1241.452,1259.755,1273.58,1337.429,1340.861,1326.618,1268.929,1240.293,1152.165,1192.648,1233.39,1231.063,1267.15,1245.25,1261.277,1235.1,1281.72,1317.045,1280.677,1283.189,1265.674,1332.809,1333.775,1325.562,1335.332,1303.618,1282.126,1238.064,1201.859,1199.198],\"type\":\"scatter\"},{\"name\":\"Forecast\",\"x\":[\"2018-10\",\"2018-11\",\"2018-12\",\"2019-01\",\"2019-02\",\"2019-03\",\"2019-04\",\"2019-05\",\"2019-06\",\"2019-07\",\"2019-08\",\"2019-09\",\"2019-10\",\"2019-11\",\"2019-12\",\"2020-01\",\"2020-02\",\"2020-03\",\"2020-04\",\"2020-05\",\"2020-06\",\"2020-07\",\"2020-08\",\"2020-09\"],\"y\":[1183.045523820113,1171.640052425834,1169.644142982843,1177.909550358179,1199.0042461381927,1201.0186231438643,1197.3450434666552,1169.8343566507006,1160.083207330367,1150.73964501132,1161.9371018683848,1158.926868165035,1150.5944507745826,1129.4156476257167,1113.8230942762916,1112.6272532758023,1116.4691706256435,1125.565568750782,1115.5447328663306,1108.2576699009014,1092.5399458152544,1098.5486333068245,1102.9923363244309,1115.670588726526],\"type\":\"scatter\"}],                        {\"template\":{\"data\":{\"histogram2dcontour\":[{\"type\":\"histogram2dcontour\",\"colorbar\":{\"outlinewidth\":0,\"ticks\":\"\"},\"colorscale\":[[0.0,\"#0d0887\"],[0.1111111111111111,\"#46039f\"],[0.2222222222222222,\"#7201a8\"],[0.3333333333333333,\"#9c179e\"],[0.4444444444444444,\"#bd3786\"],[0.5555555555555556,\"#d8576b\"],[0.6666666666666666,\"#ed7953\"],[0.7777777777777778,\"#fb9f3a\"],[0.8888888888888888,\"#fdca26\"],[1.0,\"#f0f921\"]]}],\"choropleth\":[{\"type\":\"choropleth\",\"colorbar\":{\"outlinewidth\":0,\"ticks\":\"\"}}],\"histogram2d\":[{\"type\":\"histogram2d\",\"colorbar\":{\"outlinewidth\":0,\"ticks\":\"\"},\"colorscale\":[[0.0,\"#0d0887\"],[0.1111111111111111,\"#46039f\"],[0.2222222222222222,\"#7201a8\"],[0.3333333333333333,\"#9c179e\"],[0.4444444444444444,\"#bd3786\"],[0.5555555555555556,\"#d8576b\"],[0.6666666666666666,\"#ed7953\"],[0.7777777777777778,\"#fb9f3a\"],[0.8888888888888888,\"#fdca26\"],[1.0,\"#f0f921\"]]}],\"heatmap\":[{\"type\":\"heatmap\",\"colorbar\":{\"outlinewidth\":0,\"ticks\":\"\"},\"colorscale\":[[0.0,\"#0d0887\"],[0.1111111111111111,\"#46039f\"],[0.2222222222222222,\"#7201a8\"],[0.3333333333333333,\"#9c179e\"],[0.4444444444444444,\"#bd3786\"],[0.5555555555555556,\"#d8576b\"],[0.6666666666666666,\"#ed7953\"],[0.7777777777777778,\"#fb9f3a\"],[0.8888888888888888,\"#fdca26\"],[1.0,\"#f0f921\"]]}],\"heatmapgl\":[{\"type\":\"heatmapgl\",\"colorbar\":{\"outlinewidth\":0,\"ticks\":\"\"},\"colorscale\":[[0.0,\"#0d0887\"],[0.1111111111111111,\"#46039f\"],[0.2222222222222222,\"#7201a8\"],[0.3333333333333333,\"#9c179e\"],[0.4444444444444444,\"#bd3786\"],[0.5555555555555556,\"#d8576b\"],[0.6666666666666666,\"#ed7953\"],[0.7777777777777778,\"#fb9f3a\"],[0.8888888888888888,\"#fdca26\"],[1.0,\"#f0f921\"]]}],\"contourcarpet\":[{\"type\":\"contourcarpet\",\"colorbar\":{\"outlinewidth\":0,\"ticks\":\"\"}}],\"contour\":[{\"type\":\"contour\",\"colorbar\":{\"outlinewidth\":0,\"ticks\":\"\"},\"colorscale\":[[0.0,\"#0d0887\"],[0.1111111111111111,\"#46039f\"],[0.2222222222222222,\"#7201a8\"],[0.3333333333333333,\"#9c179e\"],[0.4444444444444444,\"#bd3786\"],[0.5555555555555556,\"#d8576b\"],[0.6666666666666666,\"#ed7953\"],[0.7777777777777778,\"#fb9f3a\"],[0.8888888888888888,\"#fdca26\"],[1.0,\"#f0f921\"]]}],\"surface\":[{\"type\":\"surface\",\"colorbar\":{\"outlinewidth\":0,\"ticks\":\"\"},\"colorscale\":[[0.0,\"#0d0887\"],[0.1111111111111111,\"#46039f\"],[0.2222222222222222,\"#7201a8\"],[0.3333333333333333,\"#9c179e\"],[0.4444444444444444,\"#bd3786\"],[0.5555555555555556,\"#d8576b\"],[0.6666666666666666,\"#ed7953\"],[0.7777777777777778,\"#fb9f3a\"],[0.8888888888888888,\"#fdca26\"],[1.0,\"#f0f921\"]]}],\"mesh3d\":[{\"type\":\"mesh3d\",\"colorbar\":{\"outlinewidth\":0,\"ticks\":\"\"}}],\"scatter\":[{\"fillpattern\":{\"fillmode\":\"overlay\",\"size\":10,\"solidity\":0.2},\"type\":\"scatter\"}],\"parcoords\":[{\"type\":\"parcoords\",\"line\":{\"colorbar\":{\"outlinewidth\":0,\"ticks\":\"\"}}}],\"scatterpolargl\":[{\"type\":\"scatterpolargl\",\"marker\":{\"colorbar\":{\"outlinewidth\":0,\"ticks\":\"\"}}}],\"bar\":[{\"error_x\":{\"color\":\"#2a3f5f\"},\"error_y\":{\"color\":\"#2a3f5f\"},\"marker\":{\"line\":{\"color\":\"#E5ECF6\",\"width\":0.5},\"pattern\":{\"fillmode\":\"overlay\",\"size\":10,\"solidity\":0.2}},\"type\":\"bar\"}],\"scattergeo\":[{\"type\":\"scattergeo\",\"marker\":{\"colorbar\":{\"outlinewidth\":0,\"ticks\":\"\"}}}],\"scatterpolar\":[{\"type\":\"scatterpolar\",\"marker\":{\"colorbar\":{\"outlinewidth\":0,\"ticks\":\"\"}}}],\"histogram\":[{\"marker\":{\"pattern\":{\"fillmode\":\"overlay\",\"size\":10,\"solidity\":0.2}},\"type\":\"histogram\"}],\"scattergl\":[{\"type\":\"scattergl\",\"marker\":{\"colorbar\":{\"outlinewidth\":0,\"ticks\":\"\"}}}],\"scatter3d\":[{\"type\":\"scatter3d\",\"line\":{\"colorbar\":{\"outlinewidth\":0,\"ticks\":\"\"}},\"marker\":{\"colorbar\":{\"outlinewidth\":0,\"ticks\":\"\"}}}],\"scattermapbox\":[{\"type\":\"scattermapbox\",\"marker\":{\"colorbar\":{\"outlinewidth\":0,\"ticks\":\"\"}}}],\"scatterternary\":[{\"type\":\"scatterternary\",\"marker\":{\"colorbar\":{\"outlinewidth\":0,\"ticks\":\"\"}}}],\"scattercarpet\":[{\"type\":\"scattercarpet\",\"marker\":{\"colorbar\":{\"outlinewidth\":0,\"ticks\":\"\"}}}],\"carpet\":[{\"aaxis\":{\"endlinecolor\":\"#2a3f5f\",\"gridcolor\":\"white\",\"linecolor\":\"white\",\"minorgridcolor\":\"white\",\"startlinecolor\":\"#2a3f5f\"},\"baxis\":{\"endlinecolor\":\"#2a3f5f\",\"gridcolor\":\"white\",\"linecolor\":\"white\",\"minorgridcolor\":\"white\",\"startlinecolor\":\"#2a3f5f\"},\"type\":\"carpet\"}],\"table\":[{\"cells\":{\"fill\":{\"color\":\"#EBF0F8\"},\"line\":{\"color\":\"white\"}},\"header\":{\"fill\":{\"color\":\"#C8D4E3\"},\"line\":{\"color\":\"white\"}},\"type\":\"table\"}],\"barpolar\":[{\"marker\":{\"line\":{\"color\":\"#E5ECF6\",\"width\":0.5},\"pattern\":{\"fillmode\":\"overlay\",\"size\":10,\"solidity\":0.2}},\"type\":\"barpolar\"}],\"pie\":[{\"automargin\":true,\"type\":\"pie\"}]},\"layout\":{\"autotypenumbers\":\"strict\",\"colorway\":[\"#636efa\",\"#EF553B\",\"#00cc96\",\"#ab63fa\",\"#FFA15A\",\"#19d3f3\",\"#FF6692\",\"#B6E880\",\"#FF97FF\",\"#FECB52\"],\"font\":{\"color\":\"#2a3f5f\"},\"hovermode\":\"closest\",\"hoverlabel\":{\"align\":\"left\"},\"paper_bgcolor\":\"white\",\"plot_bgcolor\":\"#E5ECF6\",\"polar\":{\"bgcolor\":\"#E5ECF6\",\"angularaxis\":{\"gridcolor\":\"white\",\"linecolor\":\"white\",\"ticks\":\"\"},\"radialaxis\":{\"gridcolor\":\"white\",\"linecolor\":\"white\",\"ticks\":\"\"}},\"ternary\":{\"bgcolor\":\"#E5ECF6\",\"aaxis\":{\"gridcolor\":\"white\",\"linecolor\":\"white\",\"ticks\":\"\"},\"baxis\":{\"gridcolor\":\"white\",\"linecolor\":\"white\",\"ticks\":\"\"},\"caxis\":{\"gridcolor\":\"white\",\"linecolor\":\"white\",\"ticks\":\"\"}},\"coloraxis\":{\"colorbar\":{\"outlinewidth\":0,\"ticks\":\"\"}},\"colorscale\":{\"sequential\":[[0.0,\"#0d0887\"],[0.1111111111111111,\"#46039f\"],[0.2222222222222222,\"#7201a8\"],[0.3333333333333333,\"#9c179e\"],[0.4444444444444444,\"#bd3786\"],[0.5555555555555556,\"#d8576b\"],[0.6666666666666666,\"#ed7953\"],[0.7777777777777778,\"#fb9f3a\"],[0.8888888888888888,\"#fdca26\"],[1.0,\"#f0f921\"]],\"sequentialminus\":[[0.0,\"#0d0887\"],[0.1111111111111111,\"#46039f\"],[0.2222222222222222,\"#7201a8\"],[0.3333333333333333,\"#9c179e\"],[0.4444444444444444,\"#bd3786\"],[0.5555555555555556,\"#d8576b\"],[0.6666666666666666,\"#ed7953\"],[0.7777777777777778,\"#fb9f3a\"],[0.8888888888888888,\"#fdca26\"],[1.0,\"#f0f921\"]],\"diverging\":[[0,\"#8e0152\"],[0.1,\"#c51b7d\"],[0.2,\"#de77ae\"],[0.3,\"#f1b6da\"],[0.4,\"#fde0ef\"],[0.5,\"#f7f7f7\"],[0.6,\"#e6f5d0\"],[0.7,\"#b8e186\"],[0.8,\"#7fbc41\"],[0.9,\"#4d9221\"],[1,\"#276419\"]]},\"xaxis\":{\"gridcolor\":\"white\",\"linecolor\":\"white\",\"ticks\":\"\",\"title\":{\"standoff\":15},\"zerolinecolor\":\"white\",\"automargin\":true,\"zerolinewidth\":2},\"yaxis\":{\"gridcolor\":\"white\",\"linecolor\":\"white\",\"ticks\":\"\",\"title\":{\"standoff\":15},\"zerolinecolor\":\"white\",\"automargin\":true,\"zerolinewidth\":2},\"scene\":{\"xaxis\":{\"backgroundcolor\":\"#E5ECF6\",\"gridcolor\":\"white\",\"linecolor\":\"white\",\"showbackground\":true,\"ticks\":\"\",\"zerolinecolor\":\"white\",\"gridwidth\":2},\"yaxis\":{\"backgroundcolor\":\"#E5ECF6\",\"gridcolor\":\"white\",\"linecolor\":\"white\",\"showbackground\":true,\"ticks\":\"\",\"zerolinecolor\":\"white\",\"gridwidth\":2},\"zaxis\":{\"backgroundcolor\":\"#E5ECF6\",\"gridcolor\":\"white\",\"linecolor\":\"white\",\"showbackground\":true,\"ticks\":\"\",\"zerolinecolor\":\"white\",\"gridwidth\":2}},\"shapedefaults\":{\"line\":{\"color\":\"#2a3f5f\"}},\"annotationdefaults\":{\"arrowcolor\":\"#2a3f5f\",\"arrowhead\":0,\"arrowwidth\":1},\"geo\":{\"bgcolor\":\"white\",\"landcolor\":\"#E5ECF6\",\"subunitcolor\":\"white\",\"showland\":true,\"showlakes\":true,\"lakecolor\":\"white\"},\"title\":{\"x\":0.05},\"mapbox\":{\"style\":\"light\"}}}},                        {\"responsive\": true}                    ).then(function(){\n",
              "                            \n",
              "var gd = document.getElementById('999a7dac-8698-4098-ac1e-784144a8aa00');\n",
              "var x = new MutationObserver(function (mutations, observer) {{\n",
              "        var display = window.getComputedStyle(gd).display;\n",
              "        if (!display || display === 'none') {{\n",
              "            console.log([gd, 'removed!']);\n",
              "            Plotly.purge(gd);\n",
              "            observer.disconnect();\n",
              "        }}\n",
              "}});\n",
              "\n",
              "// Listen for the removal of the full notebook cells\n",
              "var notebookContainer = gd.closest('#notebook-container');\n",
              "if (notebookContainer) {{\n",
              "    x.observe(notebookContainer, {childList: true});\n",
              "}}\n",
              "\n",
              "// Listen for the clearing of the current output cell\n",
              "var outputEl = gd.closest('.output');\n",
              "if (outputEl) {{\n",
              "    x.observe(outputEl, {childList: true});\n",
              "}}\n",
              "\n",
              "                        })                };                            </script>        </div>\n",
              "</body>\n",
              "</html>"
            ]
          },
          "metadata": {},
          "output_type": "display_data"
        }
      ],
      "source": [
        "import plotly.graph_objects as go\n",
        "\n",
        "fig = go.Figure([go.Scatter(name='Actual', x=df_final['Date'], y=df_final['Price'], mode='markers')])\n",
        "\n",
        "fig.add_trace(go.Scatter(name='Forecast', x=df_forecast_final['Date'], y=df_forecast_final['Price']))\n",
        "fig.show()"
      ]
    },
    {
      "cell_type": "markdown",
      "metadata": {
        "id": "8jRUE_juhVsE"
      },
      "source": [
        "> Catatan:\n",
        ">\n",
        "> - **Final Forecast Performance**: Lineplot akhir di atas menunjukkan prediksi 2 tahun ke depan untuk harga emas berdasarkan hasil pelatihan model ARIMA yang telah disetel. Ini menunjukkan tren penurunan harga emas."
      ]
    },
    {
      "cell_type": "markdown",
      "metadata": {
        "id": "gb-8EpMrhVsE"
      },
      "source": [
        "## **Conclusion & Recommendation**"
      ]
    },
    {
      "cell_type": "markdown",
      "metadata": {
        "id": "JZ8Xv_e3hVsE"
      },
      "source": [
        "### **Conclusion**\n",
        "Di antara ketiga model (ARIMA, SARIMA, dan Prophet), model ARIMA memberikan performa terbaik dengan RMSE 65,9, menjadikannya model yang paling akurat untuk meramalkan harga emas di masa depan. Model ini dapat menangkap perubahan tren dari waktu ke waktu secara signifikan sehingga dapat meramalkan harga dengan akurasi yang lebih tinggi.\n",
        "\n",
        "### **Recommendation**\n",
        "Perusahaan sebaiknya menggunakan model ARIMA untuk memprediksi harga emas karena akurasinya yang superior. Untuk perbaikan yang berkelanjutan, disarankan untuk melakukan penyetelan dan pemantauan lebih lanjut terhadap performa model dalam merespons perubahan kondisi pasar."
      ]
    }
  ],
  "metadata": {
    "colab": {
      "provenance": []
    },
    "kernelspec": {
      "display_name": "base",
      "language": "python",
      "name": "python3"
    },
    "language_info": {
      "codemirror_mode": {
        "name": "ipython",
        "version": 3
      },
      "file_extension": ".py",
      "mimetype": "text/x-python",
      "name": "python",
      "nbconvert_exporter": "python",
      "pygments_lexer": "ipython3",
      "version": "3.11.7"
    }
  },
  "nbformat": 4,
  "nbformat_minor": 0
}
